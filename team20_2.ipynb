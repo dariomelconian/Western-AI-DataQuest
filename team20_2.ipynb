{
  "nbformat": 4,
  "nbformat_minor": 0,
  "metadata": {
    "colab": {
      "provenance": []
    },
    "kernelspec": {
      "name": "python3",
      "display_name": "Python 3"
    },
    "language_info": {
      "name": "python"
    }
  },
  "cells": [
    {
      "cell_type": "code",
      "execution_count": 3,
      "metadata": {
        "id": "_aRu8V25gC8b",
        "colab": {
          "base_uri": "https://localhost:8080/",
          "height": 1000
        },
        "outputId": "5ba539ae-8ec7-40d0-fc62-60c88d0a24f6"
      },
      "outputs": [
        {
          "output_type": "stream",
          "name": "stdout",
          "text": [
            "Looking in indexes: https://pypi.org/simple, https://us-python.pkg.dev/colab-wheels/public/simple/\n",
            "Collecting featurewiz\n",
            "  Using cached featurewiz-0.2.4-py3-none-any.whl (110 kB)\n",
            "Requirement already satisfied: networkx>=2.6.2 in /usr/local/lib/python3.9/dist-packages (from featurewiz) (3.0)\n",
            "Collecting pyarrow~=7.0.0\n",
            "  Using cached pyarrow-7.0.0-cp39-cp39-manylinux_2_17_x86_64.manylinux2014_x86_64.whl (26.7 MB)\n",
            "Requirement already satisfied: distributed>=2021.11.0 in /usr/local/lib/python3.9/dist-packages (from featurewiz) (2022.2.1)\n",
            "Collecting Pillow>=9.0.0\n",
            "  Using cached Pillow-9.4.0-cp39-cp39-manylinux_2_28_x86_64.whl (3.4 MB)\n",
            "Collecting category-encoders>=2.4.0\n",
            "  Using cached category_encoders-2.6.0-py2.py3-none-any.whl (81 kB)\n",
            "Requirement already satisfied: xgboost>=1.5.1 in /usr/local/lib/python3.9/dist-packages (from featurewiz) (1.7.4)\n",
            "Requirement already satisfied: ipython in /usr/local/lib/python3.9/dist-packages (from featurewiz) (7.9.0)\n",
            "Requirement already satisfied: pandas>=1.3.4 in /usr/local/lib/python3.9/dist-packages (from featurewiz) (1.3.5)\n",
            "Requirement already satisfied: dask>=2021.11.0 in /usr/local/lib/python3.9/dist-packages (from featurewiz) (2022.2.1)\n",
            "Collecting jupyter\n",
            "  Using cached jupyter-1.0.0-py2.py3-none-any.whl (2.7 kB)\n",
            "Requirement already satisfied: seaborn in /usr/local/lib/python3.9/dist-packages (from featurewiz) (0.11.2)\n",
            "Requirement already satisfied: fsspec>=0.3.3 in /usr/local/lib/python3.9/dist-packages (from featurewiz) (2023.3.0)\n",
            "Collecting lightgbm>=3.2.1\n",
            "  Using cached lightgbm-3.3.5-py3-none-manylinux1_x86_64.whl (2.0 MB)\n",
            "Requirement already satisfied: matplotlib in /usr/local/lib/python3.9/dist-packages (from featurewiz) (3.5.3)\n",
            "Collecting feather-format>=0.4.1\n",
            "  Using cached feather-format-0.4.1.tar.gz (3.2 kB)\n",
            "  Preparing metadata (setup.py) ... \u001b[?25l\u001b[?25hdone\n",
            "Requirement already satisfied: imbalanced-learn>=0.7 in /usr/local/lib/python3.9/dist-packages (from featurewiz) (0.8.1)\n",
            "Collecting xlrd>=2.0.0\n",
            "  Using cached xlrd-2.0.1-py2.py3-none-any.whl (96 kB)\n",
            "Requirement already satisfied: tqdm>=4.62.0 in /usr/local/lib/python3.9/dist-packages (from featurewiz) (4.65.0)\n",
            "Requirement already satisfied: scikit-learn>=0.24 in /usr/local/lib/python3.9/dist-packages (from featurewiz) (1.2.1)\n",
            "Requirement already satisfied: statsmodels>=0.9.0 in /usr/local/lib/python3.9/dist-packages (from category-encoders>=2.4.0->featurewiz) (0.13.5)\n",
            "Requirement already satisfied: scipy>=1.0.0 in /usr/local/lib/python3.9/dist-packages (from category-encoders>=2.4.0->featurewiz) (1.10.1)\n",
            "Requirement already satisfied: patsy>=0.5.1 in /usr/local/lib/python3.9/dist-packages (from category-encoders>=2.4.0->featurewiz) (0.5.3)\n",
            "Requirement already satisfied: numpy>=1.14.0 in /usr/local/lib/python3.9/dist-packages (from category-encoders>=2.4.0->featurewiz) (1.22.4)\n",
            "Requirement already satisfied: pyyaml>=5.3.1 in /usr/local/lib/python3.9/dist-packages (from dask>=2021.11.0->featurewiz) (6.0)\n",
            "Requirement already satisfied: partd>=0.3.10 in /usr/local/lib/python3.9/dist-packages (from dask>=2021.11.0->featurewiz) (1.3.0)\n",
            "Requirement already satisfied: toolz>=0.8.2 in /usr/local/lib/python3.9/dist-packages (from dask>=2021.11.0->featurewiz) (0.12.0)\n",
            "Requirement already satisfied: packaging>=20.0 in /usr/local/lib/python3.9/dist-packages (from dask>=2021.11.0->featurewiz) (23.0)\n",
            "Requirement already satisfied: cloudpickle>=1.1.1 in /usr/local/lib/python3.9/dist-packages (from dask>=2021.11.0->featurewiz) (2.2.1)\n",
            "Requirement already satisfied: zict>=0.1.3 in /usr/local/lib/python3.9/dist-packages (from distributed>=2021.11.0->featurewiz) (2.2.0)\n",
            "Requirement already satisfied: tblib>=1.6.0 in /usr/local/lib/python3.9/dist-packages (from distributed>=2021.11.0->featurewiz) (1.7.0)\n",
            "Requirement already satisfied: setuptools in /usr/local/lib/python3.9/dist-packages (from distributed>=2021.11.0->featurewiz) (57.4.0)\n",
            "Requirement already satisfied: jinja2 in /usr/local/lib/python3.9/dist-packages (from distributed>=2021.11.0->featurewiz) (3.1.2)\n",
            "Requirement already satisfied: click>=6.6 in /usr/local/lib/python3.9/dist-packages (from distributed>=2021.11.0->featurewiz) (8.1.3)\n",
            "Requirement already satisfied: sortedcontainers!=2.0.0,!=2.0.1 in /usr/local/lib/python3.9/dist-packages (from distributed>=2021.11.0->featurewiz) (2.4.0)\n",
            "Requirement already satisfied: tornado>=6.0.3 in /usr/local/lib/python3.9/dist-packages (from distributed>=2021.11.0->featurewiz) (6.2)\n",
            "Requirement already satisfied: msgpack>=0.6.0 in /usr/local/lib/python3.9/dist-packages (from distributed>=2021.11.0->featurewiz) (1.0.4)\n",
            "Requirement already satisfied: psutil>=5.0 in /usr/local/lib/python3.9/dist-packages (from distributed>=2021.11.0->featurewiz) (5.4.8)\n",
            "Requirement already satisfied: joblib>=0.11 in /usr/local/lib/python3.9/dist-packages (from imbalanced-learn>=0.7->featurewiz) (1.2.0)\n",
            "Requirement already satisfied: wheel in /usr/local/lib/python3.9/dist-packages (from lightgbm>=3.2.1->featurewiz) (0.38.4)\n",
            "Requirement already satisfied: python-dateutil>=2.7.3 in /usr/local/lib/python3.9/dist-packages (from pandas>=1.3.4->featurewiz) (2.8.2)\n",
            "Requirement already satisfied: pytz>=2017.3 in /usr/local/lib/python3.9/dist-packages (from pandas>=1.3.4->featurewiz) (2022.7.1)\n",
            "Requirement already satisfied: threadpoolctl>=2.0.0 in /usr/local/lib/python3.9/dist-packages (from scikit-learn>=0.24->featurewiz) (3.1.0)\n",
            "Collecting jedi>=0.10\n",
            "  Downloading jedi-0.18.2-py2.py3-none-any.whl (1.6 MB)\n",
            "\u001b[2K     \u001b[90m━━━━━━━━━━━━━━━━━━━━━━━━━━━━━━━━━━━━━━━━\u001b[0m \u001b[32m1.6/1.6 MB\u001b[0m \u001b[31m21.4 MB/s\u001b[0m eta \u001b[36m0:00:00\u001b[0m\n",
            "\u001b[?25hRequirement already satisfied: traitlets>=4.2 in /usr/local/lib/python3.9/dist-packages (from ipython->featurewiz) (5.7.1)\n",
            "Requirement already satisfied: decorator in /usr/local/lib/python3.9/dist-packages (from ipython->featurewiz) (4.4.2)\n",
            "Requirement already satisfied: pexpect in /usr/local/lib/python3.9/dist-packages (from ipython->featurewiz) (4.8.0)\n",
            "Requirement already satisfied: prompt-toolkit<2.1.0,>=2.0.0 in /usr/local/lib/python3.9/dist-packages (from ipython->featurewiz) (2.0.10)\n",
            "Requirement already satisfied: pygments in /usr/local/lib/python3.9/dist-packages (from ipython->featurewiz) (2.6.1)\n",
            "Requirement already satisfied: pickleshare in /usr/local/lib/python3.9/dist-packages (from ipython->featurewiz) (0.7.5)\n",
            "Requirement already satisfied: backcall in /usr/local/lib/python3.9/dist-packages (from ipython->featurewiz) (0.2.0)\n",
            "Requirement already satisfied: nbconvert in /usr/local/lib/python3.9/dist-packages (from jupyter->featurewiz) (6.5.4)\n",
            "Requirement already satisfied: notebook in /usr/local/lib/python3.9/dist-packages (from jupyter->featurewiz) (6.3.0)\n",
            "Collecting qtconsole\n",
            "  Downloading qtconsole-5.4.1-py3-none-any.whl (120 kB)\n",
            "\u001b[2K     \u001b[90m━━━━━━━━━━━━━━━━━━━━━━━━━━━━━━━━━━━━━━\u001b[0m \u001b[32m120.9/120.9 KB\u001b[0m \u001b[31m16.9 MB/s\u001b[0m eta \u001b[36m0:00:00\u001b[0m\n",
            "\u001b[?25hRequirement already satisfied: ipywidgets in /usr/local/lib/python3.9/dist-packages (from jupyter->featurewiz) (7.7.1)\n",
            "Requirement already satisfied: ipykernel in /usr/local/lib/python3.9/dist-packages (from jupyter->featurewiz) (5.3.4)\n",
            "Requirement already satisfied: jupyter-console in /usr/local/lib/python3.9/dist-packages (from jupyter->featurewiz) (6.1.0)\n",
            "Requirement already satisfied: kiwisolver>=1.0.1 in /usr/local/lib/python3.9/dist-packages (from matplotlib->featurewiz) (1.4.4)\n",
            "Requirement already satisfied: fonttools>=4.22.0 in /usr/local/lib/python3.9/dist-packages (from matplotlib->featurewiz) (4.39.0)\n",
            "Requirement already satisfied: cycler>=0.10 in /usr/local/lib/python3.9/dist-packages (from matplotlib->featurewiz) (0.11.0)\n",
            "Requirement already satisfied: pyparsing>=2.2.1 in /usr/local/lib/python3.9/dist-packages (from matplotlib->featurewiz) (3.0.9)\n",
            "Requirement already satisfied: parso<0.9.0,>=0.8.0 in /usr/local/lib/python3.9/dist-packages (from jedi>=0.10->ipython->featurewiz) (0.8.3)\n",
            "Requirement already satisfied: locket in /usr/local/lib/python3.9/dist-packages (from partd>=0.3.10->dask>=2021.11.0->featurewiz) (1.0.0)\n",
            "Requirement already satisfied: six in /usr/local/lib/python3.9/dist-packages (from patsy>=0.5.1->category-encoders>=2.4.0->featurewiz) (1.15.0)\n",
            "Requirement already satisfied: wcwidth in /usr/local/lib/python3.9/dist-packages (from prompt-toolkit<2.1.0,>=2.0.0->ipython->featurewiz) (0.2.6)\n",
            "Requirement already satisfied: heapdict in /usr/local/lib/python3.9/dist-packages (from zict>=0.1.3->distributed>=2021.11.0->featurewiz) (1.0.1)\n",
            "Requirement already satisfied: jupyter-client in /usr/local/lib/python3.9/dist-packages (from ipykernel->jupyter->featurewiz) (6.1.12)\n",
            "Requirement already satisfied: ipython-genutils~=0.2.0 in /usr/local/lib/python3.9/dist-packages (from ipywidgets->jupyter->featurewiz) (0.2.0)\n",
            "Requirement already satisfied: jupyterlab-widgets>=1.0.0 in /usr/local/lib/python3.9/dist-packages (from ipywidgets->jupyter->featurewiz) (3.0.5)\n",
            "Requirement already satisfied: widgetsnbextension~=3.6.0 in /usr/local/lib/python3.9/dist-packages (from ipywidgets->jupyter->featurewiz) (3.6.2)\n",
            "Requirement already satisfied: MarkupSafe>=2.0 in /usr/local/lib/python3.9/dist-packages (from jinja2->distributed>=2021.11.0->featurewiz) (2.1.2)\n",
            "Requirement already satisfied: entrypoints>=0.2.2 in /usr/local/lib/python3.9/dist-packages (from nbconvert->jupyter->featurewiz) (0.4)\n",
            "Requirement already satisfied: lxml in /usr/local/lib/python3.9/dist-packages (from nbconvert->jupyter->featurewiz) (4.9.2)\n",
            "Requirement already satisfied: beautifulsoup4 in /usr/local/lib/python3.9/dist-packages (from nbconvert->jupyter->featurewiz) (4.6.3)\n",
            "Requirement already satisfied: pandocfilters>=1.4.1 in /usr/local/lib/python3.9/dist-packages (from nbconvert->jupyter->featurewiz) (1.5.0)\n",
            "Requirement already satisfied: jupyterlab-pygments in /usr/local/lib/python3.9/dist-packages (from nbconvert->jupyter->featurewiz) (0.2.2)\n",
            "Requirement already satisfied: tinycss2 in /usr/local/lib/python3.9/dist-packages (from nbconvert->jupyter->featurewiz) (1.2.1)\n",
            "Requirement already satisfied: nbclient>=0.5.0 in /usr/local/lib/python3.9/dist-packages (from nbconvert->jupyter->featurewiz) (0.7.2)\n",
            "Requirement already satisfied: mistune<2,>=0.8.1 in /usr/local/lib/python3.9/dist-packages (from nbconvert->jupyter->featurewiz) (0.8.4)\n",
            "Requirement already satisfied: bleach in /usr/local/lib/python3.9/dist-packages (from nbconvert->jupyter->featurewiz) (6.0.0)\n",
            "Requirement already satisfied: defusedxml in /usr/local/lib/python3.9/dist-packages (from nbconvert->jupyter->featurewiz) (0.7.1)\n",
            "Requirement already satisfied: nbformat>=5.1 in /usr/local/lib/python3.9/dist-packages (from nbconvert->jupyter->featurewiz) (5.7.3)\n",
            "Requirement already satisfied: jupyter-core>=4.7 in /usr/local/lib/python3.9/dist-packages (from nbconvert->jupyter->featurewiz) (5.2.0)\n",
            "Requirement already satisfied: pyzmq>=17 in /usr/local/lib/python3.9/dist-packages (from notebook->jupyter->featurewiz) (23.2.1)\n",
            "Requirement already satisfied: Send2Trash>=1.5.0 in /usr/local/lib/python3.9/dist-packages (from notebook->jupyter->featurewiz) (1.8.0)\n",
            "Requirement already satisfied: prometheus-client in /usr/local/lib/python3.9/dist-packages (from notebook->jupyter->featurewiz) (0.16.0)\n",
            "Requirement already satisfied: terminado>=0.8.3 in /usr/local/lib/python3.9/dist-packages (from notebook->jupyter->featurewiz) (0.17.1)\n",
            "Requirement already satisfied: argon2-cffi in /usr/local/lib/python3.9/dist-packages (from notebook->jupyter->featurewiz) (21.3.0)\n",
            "Requirement already satisfied: ptyprocess>=0.5 in /usr/local/lib/python3.9/dist-packages (from pexpect->ipython->featurewiz) (0.7.0)\n",
            "Collecting qtpy>=2.0.1\n",
            "  Downloading QtPy-2.3.0-py3-none-any.whl (83 kB)\n",
            "\u001b[2K     \u001b[90m━━━━━━━━━━━━━━━━━━━━━━━━━━━━━━━━━━━━━━━━\u001b[0m \u001b[32m83.6/83.6 KB\u001b[0m \u001b[31m9.3 MB/s\u001b[0m eta \u001b[36m0:00:00\u001b[0m\n",
            "\u001b[?25hRequirement already satisfied: platformdirs>=2.5 in /usr/local/lib/python3.9/dist-packages (from jupyter-core>=4.7->nbconvert->jupyter->featurewiz) (3.1.0)\n",
            "Requirement already satisfied: jsonschema>=2.6 in /usr/local/lib/python3.9/dist-packages (from nbformat>=5.1->nbconvert->jupyter->featurewiz) (4.3.3)\n",
            "Requirement already satisfied: fastjsonschema in /usr/local/lib/python3.9/dist-packages (from nbformat>=5.1->nbconvert->jupyter->featurewiz) (2.16.3)\n",
            "Requirement already satisfied: argon2-cffi-bindings in /usr/local/lib/python3.9/dist-packages (from argon2-cffi->notebook->jupyter->featurewiz) (21.2.0)\n",
            "Requirement already satisfied: webencodings in /usr/local/lib/python3.9/dist-packages (from bleach->nbconvert->jupyter->featurewiz) (0.5.1)\n",
            "Requirement already satisfied: pyrsistent!=0.17.0,!=0.17.1,!=0.17.2,>=0.14.0 in /usr/local/lib/python3.9/dist-packages (from jsonschema>=2.6->nbformat>=5.1->nbconvert->jupyter->featurewiz) (0.19.3)\n",
            "Requirement already satisfied: attrs>=17.4.0 in /usr/local/lib/python3.9/dist-packages (from jsonschema>=2.6->nbformat>=5.1->nbconvert->jupyter->featurewiz) (22.2.0)\n",
            "Requirement already satisfied: cffi>=1.0.1 in /usr/local/lib/python3.9/dist-packages (from argon2-cffi-bindings->argon2-cffi->notebook->jupyter->featurewiz) (1.15.1)\n",
            "Requirement already satisfied: pycparser in /usr/local/lib/python3.9/dist-packages (from cffi>=1.0.1->argon2-cffi-bindings->argon2-cffi->notebook->jupyter->featurewiz) (2.21)\n",
            "Building wheels for collected packages: feather-format\n",
            "  Building wheel for feather-format (setup.py) ... \u001b[?25l\u001b[?25hdone\n",
            "  Created wheel for feather-format: filename=feather_format-0.4.1-py3-none-any.whl size=2452 sha256=20cb47ddd47c64236e7e1a758b0ecdcf314dfe9537cccb0742fc22ddcae85fe0\n",
            "  Stored in directory: /root/.cache/pip/wheels/e3/dc/eb/3a9468e9322c8284d7a53eab23e7a4bab6f271fff7a5871e2f\n",
            "Successfully built feather-format\n",
            "Installing collected packages: xlrd, qtpy, pyarrow, Pillow, jedi, feather-format, lightgbm, qtconsole, category-encoders, jupyter, featurewiz\n",
            "  Attempting uninstall: xlrd\n",
            "    Found existing installation: xlrd 1.2.0\n",
            "    Uninstalling xlrd-1.2.0:\n",
            "      Successfully uninstalled xlrd-1.2.0\n",
            "  Attempting uninstall: pyarrow\n",
            "    Found existing installation: pyarrow 9.0.0\n",
            "    Uninstalling pyarrow-9.0.0:\n",
            "      Successfully uninstalled pyarrow-9.0.0\n",
            "  Attempting uninstall: Pillow\n",
            "    Found existing installation: Pillow 8.4.0\n",
            "    Uninstalling Pillow-8.4.0:\n",
            "      Successfully uninstalled Pillow-8.4.0\n",
            "  Attempting uninstall: lightgbm\n",
            "    Found existing installation: lightgbm 2.2.3\n",
            "    Uninstalling lightgbm-2.2.3:\n",
            "      Successfully uninstalled lightgbm-2.2.3\n",
            "Successfully installed Pillow-9.4.0 category-encoders-2.6.0 feather-format-0.4.1 featurewiz-0.2.4 jedi-0.18.2 jupyter-1.0.0 lightgbm-3.3.5 pyarrow-7.0.0 qtconsole-5.4.1 qtpy-2.3.0 xlrd-2.0.1\n"
          ]
        },
        {
          "output_type": "display_data",
          "data": {
            "application/vnd.colab-display-data+json": {
              "pip_warning": {
                "packages": [
                  "PIL",
                  "pyarrow"
                ]
              }
            }
          },
          "metadata": {}
        }
      ],
      "source": [
        "# Dario Melconian\n",
        "# Bryce Chevallier\n",
        "!pip install featurewiz"
      ]
    },
    {
      "cell_type": "code",
      "source": [
        "import pandas as pd\n",
        "import numpy as np\n",
        "import seaborn as sns\n",
        "import scipy.stats as ss\n",
        "import matplotlib.pyplot as plt \n",
        "import featurewiz\n",
        "\n",
        "# feature selection\n",
        "from sklearn.preprocessing import StandardScaler \n",
        "from sklearn.ensemble import RandomForestClassifier \n",
        "from sklearn.linear_model import LogisticRegression \n",
        "from sklearn.metrics import accuracy_score \n",
        "from featurewiz import featurewiz\n",
        "from sklearn.model_selection import train_test_split\n",
        "from sklearn.inspection import permutation_importance"
      ],
      "metadata": {
        "id": "vBU5SkU-goY9"
      },
      "execution_count": 129,
      "outputs": []
    },
    {
      "cell_type": "code",
      "source": [
        "# import the data\n",
        "df = pd.read_csv(\"DataQuest Dataset - train_data.csv\")\n",
        "df.head()"
      ],
      "metadata": {
        "colab": {
          "base_uri": "https://localhost:8080/",
          "height": 357
        },
        "id": "UkPMmPkkhDiR",
        "outputId": "291a5eec-80bd-43c1-802a-3226a507d111"
      },
      "execution_count": 130,
      "outputs": [
        {
          "output_type": "execute_result",
          "data": {
            "text/plain": [
              "   BookingID  LeadTime  ArrivalYear  ArrivalMonth  ArrivalDate  \\\n",
              "0          1        10         2018             3           31   \n",
              "1          2       116         2018             2           28   \n",
              "2          3        11         2018             7           25   \n",
              "3          4         3         2017             9           12   \n",
              "4          5        28         2018             3            7   \n",
              "\n",
              "   NumWeekendNights  NumWeekNights     MealPlan  Parking     RoomType  \\\n",
              "0                 0              1  Meal Plan 1        0  Room_Type 1   \n",
              "1                 2              1  Meal Plan 1        0  Room_Type 1   \n",
              "2                 1              2  Meal Plan 1        0  Room_Type 1   \n",
              "3                 0              1  Meal Plan 1        0  Room_Type 1   \n",
              "4                 1              3  Meal Plan 1        0  Room_Type 1   \n",
              "\n",
              "   NumAdults  NumChildren MarketSegment  RepeatedGuest  NumPrevCancellations  \\\n",
              "0          1            0     Corporate              0                     0   \n",
              "1          1            0        Online              0                     0   \n",
              "2          2            1        Online              0                     0   \n",
              "3          2            0        Online              0                     0   \n",
              "4          2            0       Offline              0                     0   \n",
              "\n",
              "   NumPreviousNonCancelled  AvgRoomPrice  SpecialRequests BookingStatus  \n",
              "0                        0         95.00                0      Canceled  \n",
              "1                        0         61.00                0      Canceled  \n",
              "2                        0        129.75                1  Not_Canceled  \n",
              "3                        0        152.00                3  Not_Canceled  \n",
              "4                        0         87.00                0  Not_Canceled  "
            ],
            "text/html": [
              "\n",
              "  <div id=\"df-ed4adc06-266e-4dab-8a47-8bd8f5b8998e\">\n",
              "    <div class=\"colab-df-container\">\n",
              "      <div>\n",
              "<style scoped>\n",
              "    .dataframe tbody tr th:only-of-type {\n",
              "        vertical-align: middle;\n",
              "    }\n",
              "\n",
              "    .dataframe tbody tr th {\n",
              "        vertical-align: top;\n",
              "    }\n",
              "\n",
              "    .dataframe thead th {\n",
              "        text-align: right;\n",
              "    }\n",
              "</style>\n",
              "<table border=\"1\" class=\"dataframe\">\n",
              "  <thead>\n",
              "    <tr style=\"text-align: right;\">\n",
              "      <th></th>\n",
              "      <th>BookingID</th>\n",
              "      <th>LeadTime</th>\n",
              "      <th>ArrivalYear</th>\n",
              "      <th>ArrivalMonth</th>\n",
              "      <th>ArrivalDate</th>\n",
              "      <th>NumWeekendNights</th>\n",
              "      <th>NumWeekNights</th>\n",
              "      <th>MealPlan</th>\n",
              "      <th>Parking</th>\n",
              "      <th>RoomType</th>\n",
              "      <th>NumAdults</th>\n",
              "      <th>NumChildren</th>\n",
              "      <th>MarketSegment</th>\n",
              "      <th>RepeatedGuest</th>\n",
              "      <th>NumPrevCancellations</th>\n",
              "      <th>NumPreviousNonCancelled</th>\n",
              "      <th>AvgRoomPrice</th>\n",
              "      <th>SpecialRequests</th>\n",
              "      <th>BookingStatus</th>\n",
              "    </tr>\n",
              "  </thead>\n",
              "  <tbody>\n",
              "    <tr>\n",
              "      <th>0</th>\n",
              "      <td>1</td>\n",
              "      <td>10</td>\n",
              "      <td>2018</td>\n",
              "      <td>3</td>\n",
              "      <td>31</td>\n",
              "      <td>0</td>\n",
              "      <td>1</td>\n",
              "      <td>Meal Plan 1</td>\n",
              "      <td>0</td>\n",
              "      <td>Room_Type 1</td>\n",
              "      <td>1</td>\n",
              "      <td>0</td>\n",
              "      <td>Corporate</td>\n",
              "      <td>0</td>\n",
              "      <td>0</td>\n",
              "      <td>0</td>\n",
              "      <td>95.00</td>\n",
              "      <td>0</td>\n",
              "      <td>Canceled</td>\n",
              "    </tr>\n",
              "    <tr>\n",
              "      <th>1</th>\n",
              "      <td>2</td>\n",
              "      <td>116</td>\n",
              "      <td>2018</td>\n",
              "      <td>2</td>\n",
              "      <td>28</td>\n",
              "      <td>2</td>\n",
              "      <td>1</td>\n",
              "      <td>Meal Plan 1</td>\n",
              "      <td>0</td>\n",
              "      <td>Room_Type 1</td>\n",
              "      <td>1</td>\n",
              "      <td>0</td>\n",
              "      <td>Online</td>\n",
              "      <td>0</td>\n",
              "      <td>0</td>\n",
              "      <td>0</td>\n",
              "      <td>61.00</td>\n",
              "      <td>0</td>\n",
              "      <td>Canceled</td>\n",
              "    </tr>\n",
              "    <tr>\n",
              "      <th>2</th>\n",
              "      <td>3</td>\n",
              "      <td>11</td>\n",
              "      <td>2018</td>\n",
              "      <td>7</td>\n",
              "      <td>25</td>\n",
              "      <td>1</td>\n",
              "      <td>2</td>\n",
              "      <td>Meal Plan 1</td>\n",
              "      <td>0</td>\n",
              "      <td>Room_Type 1</td>\n",
              "      <td>2</td>\n",
              "      <td>1</td>\n",
              "      <td>Online</td>\n",
              "      <td>0</td>\n",
              "      <td>0</td>\n",
              "      <td>0</td>\n",
              "      <td>129.75</td>\n",
              "      <td>1</td>\n",
              "      <td>Not_Canceled</td>\n",
              "    </tr>\n",
              "    <tr>\n",
              "      <th>3</th>\n",
              "      <td>4</td>\n",
              "      <td>3</td>\n",
              "      <td>2017</td>\n",
              "      <td>9</td>\n",
              "      <td>12</td>\n",
              "      <td>0</td>\n",
              "      <td>1</td>\n",
              "      <td>Meal Plan 1</td>\n",
              "      <td>0</td>\n",
              "      <td>Room_Type 1</td>\n",
              "      <td>2</td>\n",
              "      <td>0</td>\n",
              "      <td>Online</td>\n",
              "      <td>0</td>\n",
              "      <td>0</td>\n",
              "      <td>0</td>\n",
              "      <td>152.00</td>\n",
              "      <td>3</td>\n",
              "      <td>Not_Canceled</td>\n",
              "    </tr>\n",
              "    <tr>\n",
              "      <th>4</th>\n",
              "      <td>5</td>\n",
              "      <td>28</td>\n",
              "      <td>2018</td>\n",
              "      <td>3</td>\n",
              "      <td>7</td>\n",
              "      <td>1</td>\n",
              "      <td>3</td>\n",
              "      <td>Meal Plan 1</td>\n",
              "      <td>0</td>\n",
              "      <td>Room_Type 1</td>\n",
              "      <td>2</td>\n",
              "      <td>0</td>\n",
              "      <td>Offline</td>\n",
              "      <td>0</td>\n",
              "      <td>0</td>\n",
              "      <td>0</td>\n",
              "      <td>87.00</td>\n",
              "      <td>0</td>\n",
              "      <td>Not_Canceled</td>\n",
              "    </tr>\n",
              "  </tbody>\n",
              "</table>\n",
              "</div>\n",
              "      <button class=\"colab-df-convert\" onclick=\"convertToInteractive('df-ed4adc06-266e-4dab-8a47-8bd8f5b8998e')\"\n",
              "              title=\"Convert this dataframe to an interactive table.\"\n",
              "              style=\"display:none;\">\n",
              "        \n",
              "  <svg xmlns=\"http://www.w3.org/2000/svg\" height=\"24px\"viewBox=\"0 0 24 24\"\n",
              "       width=\"24px\">\n",
              "    <path d=\"M0 0h24v24H0V0z\" fill=\"none\"/>\n",
              "    <path d=\"M18.56 5.44l.94 2.06.94-2.06 2.06-.94-2.06-.94-.94-2.06-.94 2.06-2.06.94zm-11 1L8.5 8.5l.94-2.06 2.06-.94-2.06-.94L8.5 2.5l-.94 2.06-2.06.94zm10 10l.94 2.06.94-2.06 2.06-.94-2.06-.94-.94-2.06-.94 2.06-2.06.94z\"/><path d=\"M17.41 7.96l-1.37-1.37c-.4-.4-.92-.59-1.43-.59-.52 0-1.04.2-1.43.59L10.3 9.45l-7.72 7.72c-.78.78-.78 2.05 0 2.83L4 21.41c.39.39.9.59 1.41.59.51 0 1.02-.2 1.41-.59l7.78-7.78 2.81-2.81c.8-.78.8-2.07 0-2.86zM5.41 20L4 18.59l7.72-7.72 1.47 1.35L5.41 20z\"/>\n",
              "  </svg>\n",
              "      </button>\n",
              "      \n",
              "  <style>\n",
              "    .colab-df-container {\n",
              "      display:flex;\n",
              "      flex-wrap:wrap;\n",
              "      gap: 12px;\n",
              "    }\n",
              "\n",
              "    .colab-df-convert {\n",
              "      background-color: #E8F0FE;\n",
              "      border: none;\n",
              "      border-radius: 50%;\n",
              "      cursor: pointer;\n",
              "      display: none;\n",
              "      fill: #1967D2;\n",
              "      height: 32px;\n",
              "      padding: 0 0 0 0;\n",
              "      width: 32px;\n",
              "    }\n",
              "\n",
              "    .colab-df-convert:hover {\n",
              "      background-color: #E2EBFA;\n",
              "      box-shadow: 0px 1px 2px rgba(60, 64, 67, 0.3), 0px 1px 3px 1px rgba(60, 64, 67, 0.15);\n",
              "      fill: #174EA6;\n",
              "    }\n",
              "\n",
              "    [theme=dark] .colab-df-convert {\n",
              "      background-color: #3B4455;\n",
              "      fill: #D2E3FC;\n",
              "    }\n",
              "\n",
              "    [theme=dark] .colab-df-convert:hover {\n",
              "      background-color: #434B5C;\n",
              "      box-shadow: 0px 1px 3px 1px rgba(0, 0, 0, 0.15);\n",
              "      filter: drop-shadow(0px 1px 2px rgba(0, 0, 0, 0.3));\n",
              "      fill: #FFFFFF;\n",
              "    }\n",
              "  </style>\n",
              "\n",
              "      <script>\n",
              "        const buttonEl =\n",
              "          document.querySelector('#df-ed4adc06-266e-4dab-8a47-8bd8f5b8998e button.colab-df-convert');\n",
              "        buttonEl.style.display =\n",
              "          google.colab.kernel.accessAllowed ? 'block' : 'none';\n",
              "\n",
              "        async function convertToInteractive(key) {\n",
              "          const element = document.querySelector('#df-ed4adc06-266e-4dab-8a47-8bd8f5b8998e');\n",
              "          const dataTable =\n",
              "            await google.colab.kernel.invokeFunction('convertToInteractive',\n",
              "                                                     [key], {});\n",
              "          if (!dataTable) return;\n",
              "\n",
              "          const docLinkHtml = 'Like what you see? Visit the ' +\n",
              "            '<a target=\"_blank\" href=https://colab.research.google.com/notebooks/data_table.ipynb>data table notebook</a>'\n",
              "            + ' to learn more about interactive tables.';\n",
              "          element.innerHTML = '';\n",
              "          dataTable['output_type'] = 'display_data';\n",
              "          await google.colab.output.renderOutput(dataTable, element);\n",
              "          const docLink = document.createElement('div');\n",
              "          docLink.innerHTML = docLinkHtml;\n",
              "          element.appendChild(docLink);\n",
              "        }\n",
              "      </script>\n",
              "    </div>\n",
              "  </div>\n",
              "  "
            ]
          },
          "metadata": {},
          "execution_count": 130
        }
      ]
    },
    {
      "cell_type": "code",
      "source": [
        "df.shape"
      ],
      "metadata": {
        "colab": {
          "base_uri": "https://localhost:8080/"
        },
        "id": "SIzF4kLM2NlQ",
        "outputId": "7d7647aa-cab5-4571-d89b-25c5fa3d93a9"
      },
      "execution_count": 131,
      "outputs": [
        {
          "output_type": "execute_result",
          "data": {
            "text/plain": [
              "(29020, 19)"
            ]
          },
          "metadata": {},
          "execution_count": 131
        }
      ]
    },
    {
      "cell_type": "code",
      "source": [
        "df = df.drop(df[df['MealPlan'] == 'Meal Plan 3'].index)\n",
        "df.shape"
      ],
      "metadata": {
        "colab": {
          "base_uri": "https://localhost:8080/"
        },
        "id": "qBhRxBcA07yt",
        "outputId": "4b6b7a14-42cd-4ebc-8dc8-ff4b3649120c"
      },
      "execution_count": 132,
      "outputs": [
        {
          "output_type": "execute_result",
          "data": {
            "text/plain": [
              "(29015, 19)"
            ]
          },
          "metadata": {},
          "execution_count": 132
        }
      ]
    },
    {
      "cell_type": "code",
      "source": [
        "table = pd.crosstab(df['RepeatedGuest'], df['BookingStatus'], margins = False)\n",
        "table"
      ],
      "metadata": {
        "colab": {
          "base_uri": "https://localhost:8080/",
          "height": 143
        },
        "id": "jOIqIJXk1Opc",
        "outputId": "b26c944e-a6fa-4b25-dd86-78fee99d22fb"
      },
      "execution_count": 133,
      "outputs": [
        {
          "output_type": "execute_result",
          "data": {
            "text/plain": [
              "BookingStatus  Canceled  Not_Canceled\n",
              "RepeatedGuest                        \n",
              "0                  9505         18767\n",
              "1                    14           729"
            ],
            "text/html": [
              "\n",
              "  <div id=\"df-aaecb1c0-3bf1-48eb-b6ad-1f502dd7aca8\">\n",
              "    <div class=\"colab-df-container\">\n",
              "      <div>\n",
              "<style scoped>\n",
              "    .dataframe tbody tr th:only-of-type {\n",
              "        vertical-align: middle;\n",
              "    }\n",
              "\n",
              "    .dataframe tbody tr th {\n",
              "        vertical-align: top;\n",
              "    }\n",
              "\n",
              "    .dataframe thead th {\n",
              "        text-align: right;\n",
              "    }\n",
              "</style>\n",
              "<table border=\"1\" class=\"dataframe\">\n",
              "  <thead>\n",
              "    <tr style=\"text-align: right;\">\n",
              "      <th>BookingStatus</th>\n",
              "      <th>Canceled</th>\n",
              "      <th>Not_Canceled</th>\n",
              "    </tr>\n",
              "    <tr>\n",
              "      <th>RepeatedGuest</th>\n",
              "      <th></th>\n",
              "      <th></th>\n",
              "    </tr>\n",
              "  </thead>\n",
              "  <tbody>\n",
              "    <tr>\n",
              "      <th>0</th>\n",
              "      <td>9505</td>\n",
              "      <td>18767</td>\n",
              "    </tr>\n",
              "    <tr>\n",
              "      <th>1</th>\n",
              "      <td>14</td>\n",
              "      <td>729</td>\n",
              "    </tr>\n",
              "  </tbody>\n",
              "</table>\n",
              "</div>\n",
              "      <button class=\"colab-df-convert\" onclick=\"convertToInteractive('df-aaecb1c0-3bf1-48eb-b6ad-1f502dd7aca8')\"\n",
              "              title=\"Convert this dataframe to an interactive table.\"\n",
              "              style=\"display:none;\">\n",
              "        \n",
              "  <svg xmlns=\"http://www.w3.org/2000/svg\" height=\"24px\"viewBox=\"0 0 24 24\"\n",
              "       width=\"24px\">\n",
              "    <path d=\"M0 0h24v24H0V0z\" fill=\"none\"/>\n",
              "    <path d=\"M18.56 5.44l.94 2.06.94-2.06 2.06-.94-2.06-.94-.94-2.06-.94 2.06-2.06.94zm-11 1L8.5 8.5l.94-2.06 2.06-.94-2.06-.94L8.5 2.5l-.94 2.06-2.06.94zm10 10l.94 2.06.94-2.06 2.06-.94-2.06-.94-.94-2.06-.94 2.06-2.06.94z\"/><path d=\"M17.41 7.96l-1.37-1.37c-.4-.4-.92-.59-1.43-.59-.52 0-1.04.2-1.43.59L10.3 9.45l-7.72 7.72c-.78.78-.78 2.05 0 2.83L4 21.41c.39.39.9.59 1.41.59.51 0 1.02-.2 1.41-.59l7.78-7.78 2.81-2.81c.8-.78.8-2.07 0-2.86zM5.41 20L4 18.59l7.72-7.72 1.47 1.35L5.41 20z\"/>\n",
              "  </svg>\n",
              "      </button>\n",
              "      \n",
              "  <style>\n",
              "    .colab-df-container {\n",
              "      display:flex;\n",
              "      flex-wrap:wrap;\n",
              "      gap: 12px;\n",
              "    }\n",
              "\n",
              "    .colab-df-convert {\n",
              "      background-color: #E8F0FE;\n",
              "      border: none;\n",
              "      border-radius: 50%;\n",
              "      cursor: pointer;\n",
              "      display: none;\n",
              "      fill: #1967D2;\n",
              "      height: 32px;\n",
              "      padding: 0 0 0 0;\n",
              "      width: 32px;\n",
              "    }\n",
              "\n",
              "    .colab-df-convert:hover {\n",
              "      background-color: #E2EBFA;\n",
              "      box-shadow: 0px 1px 2px rgba(60, 64, 67, 0.3), 0px 1px 3px 1px rgba(60, 64, 67, 0.15);\n",
              "      fill: #174EA6;\n",
              "    }\n",
              "\n",
              "    [theme=dark] .colab-df-convert {\n",
              "      background-color: #3B4455;\n",
              "      fill: #D2E3FC;\n",
              "    }\n",
              "\n",
              "    [theme=dark] .colab-df-convert:hover {\n",
              "      background-color: #434B5C;\n",
              "      box-shadow: 0px 1px 3px 1px rgba(0, 0, 0, 0.15);\n",
              "      filter: drop-shadow(0px 1px 2px rgba(0, 0, 0, 0.3));\n",
              "      fill: #FFFFFF;\n",
              "    }\n",
              "  </style>\n",
              "\n",
              "      <script>\n",
              "        const buttonEl =\n",
              "          document.querySelector('#df-aaecb1c0-3bf1-48eb-b6ad-1f502dd7aca8 button.colab-df-convert');\n",
              "        buttonEl.style.display =\n",
              "          google.colab.kernel.accessAllowed ? 'block' : 'none';\n",
              "\n",
              "        async function convertToInteractive(key) {\n",
              "          const element = document.querySelector('#df-aaecb1c0-3bf1-48eb-b6ad-1f502dd7aca8');\n",
              "          const dataTable =\n",
              "            await google.colab.kernel.invokeFunction('convertToInteractive',\n",
              "                                                     [key], {});\n",
              "          if (!dataTable) return;\n",
              "\n",
              "          const docLinkHtml = 'Like what you see? Visit the ' +\n",
              "            '<a target=\"_blank\" href=https://colab.research.google.com/notebooks/data_table.ipynb>data table notebook</a>'\n",
              "            + ' to learn more about interactive tables.';\n",
              "          element.innerHTML = '';\n",
              "          dataTable['output_type'] = 'display_data';\n",
              "          await google.colab.output.renderOutput(dataTable, element);\n",
              "          const docLink = document.createElement('div');\n",
              "          docLink.innerHTML = docLinkHtml;\n",
              "          element.appendChild(docLink);\n",
              "        }\n",
              "      </script>\n",
              "    </div>\n",
              "  </div>\n",
              "  "
            ]
          },
          "metadata": {},
          "execution_count": 133
        }
      ]
    },
    {
      "cell_type": "code",
      "source": [
        "val = 14/(14+730)\n",
        "print(\"about 1.8% of repeated guests have cancelled: \", val)"
      ],
      "metadata": {
        "colab": {
          "base_uri": "https://localhost:8080/"
        },
        "id": "NJuAw3KG3RlO",
        "outputId": "ffafd7b9-0b32-49be-8d95-6008bb9850b1"
      },
      "execution_count": 134,
      "outputs": [
        {
          "output_type": "stream",
          "name": "stdout",
          "text": [
            "about 1.8% of repeated guests have cancelled:  0.01881720430107527\n"
          ]
        }
      ]
    },
    {
      "cell_type": "code",
      "source": [
        "val = 9506/(9506+18770)\n",
        "print(\"about 33.6% of non-repeated guests have cancelled: \", val)"
      ],
      "metadata": {
        "colab": {
          "base_uri": "https://localhost:8080/"
        },
        "id": "WxR3FciD3XOe",
        "outputId": "0a88dca6-fc0c-40de-8677-83040dd1d196"
      },
      "execution_count": 135,
      "outputs": [
        {
          "output_type": "stream",
          "name": "stdout",
          "text": [
            "about 33.6% of non-repeated guests have cancelled:  0.3361861649455368\n"
          ]
        }
      ]
    },
    {
      "cell_type": "code",
      "source": [
        "# one-hot encode the categorical variables (4 of them, including response):\n",
        "from sklearn.preprocessing import OneHotEncoder\n",
        "from sklearn.preprocessing import LabelEncoder"
      ],
      "metadata": {
        "id": "5V-pJlq09UQS"
      },
      "execution_count": 136,
      "outputs": []
    },
    {
      "cell_type": "code",
      "source": [
        "# Create an instance of the LabelEncoder class\n",
        "encoder = LabelEncoder()\n",
        "\n",
        "# Set the mapping between labels and encoded values\n",
        "encoder.fit(['Not_Canceled', 'Canceled'])\n",
        "\n",
        "# Encode the response variable using the specified mapping\n",
        "df['BookingStatus'] = encoder.transform(df['BookingStatus'])\n",
        "\n",
        "# Print the resulting DataFrame\n",
        "df.head()"
      ],
      "metadata": {
        "colab": {
          "base_uri": "https://localhost:8080/",
          "height": 357
        },
        "id": "HX1UZiZx-2Ti",
        "outputId": "655e998b-3152-439d-80a1-57dc5948839d"
      },
      "execution_count": 137,
      "outputs": [
        {
          "output_type": "execute_result",
          "data": {
            "text/plain": [
              "   BookingID  LeadTime  ArrivalYear  ArrivalMonth  ArrivalDate  \\\n",
              "0          1        10         2018             3           31   \n",
              "1          2       116         2018             2           28   \n",
              "2          3        11         2018             7           25   \n",
              "3          4         3         2017             9           12   \n",
              "4          5        28         2018             3            7   \n",
              "\n",
              "   NumWeekendNights  NumWeekNights     MealPlan  Parking     RoomType  \\\n",
              "0                 0              1  Meal Plan 1        0  Room_Type 1   \n",
              "1                 2              1  Meal Plan 1        0  Room_Type 1   \n",
              "2                 1              2  Meal Plan 1        0  Room_Type 1   \n",
              "3                 0              1  Meal Plan 1        0  Room_Type 1   \n",
              "4                 1              3  Meal Plan 1        0  Room_Type 1   \n",
              "\n",
              "   NumAdults  NumChildren MarketSegment  RepeatedGuest  NumPrevCancellations  \\\n",
              "0          1            0     Corporate              0                     0   \n",
              "1          1            0        Online              0                     0   \n",
              "2          2            1        Online              0                     0   \n",
              "3          2            0        Online              0                     0   \n",
              "4          2            0       Offline              0                     0   \n",
              "\n",
              "   NumPreviousNonCancelled  AvgRoomPrice  SpecialRequests  BookingStatus  \n",
              "0                        0         95.00                0              0  \n",
              "1                        0         61.00                0              0  \n",
              "2                        0        129.75                1              1  \n",
              "3                        0        152.00                3              1  \n",
              "4                        0         87.00                0              1  "
            ],
            "text/html": [
              "\n",
              "  <div id=\"df-58fc17e8-b7dc-40c7-ada4-9b26a8340c78\">\n",
              "    <div class=\"colab-df-container\">\n",
              "      <div>\n",
              "<style scoped>\n",
              "    .dataframe tbody tr th:only-of-type {\n",
              "        vertical-align: middle;\n",
              "    }\n",
              "\n",
              "    .dataframe tbody tr th {\n",
              "        vertical-align: top;\n",
              "    }\n",
              "\n",
              "    .dataframe thead th {\n",
              "        text-align: right;\n",
              "    }\n",
              "</style>\n",
              "<table border=\"1\" class=\"dataframe\">\n",
              "  <thead>\n",
              "    <tr style=\"text-align: right;\">\n",
              "      <th></th>\n",
              "      <th>BookingID</th>\n",
              "      <th>LeadTime</th>\n",
              "      <th>ArrivalYear</th>\n",
              "      <th>ArrivalMonth</th>\n",
              "      <th>ArrivalDate</th>\n",
              "      <th>NumWeekendNights</th>\n",
              "      <th>NumWeekNights</th>\n",
              "      <th>MealPlan</th>\n",
              "      <th>Parking</th>\n",
              "      <th>RoomType</th>\n",
              "      <th>NumAdults</th>\n",
              "      <th>NumChildren</th>\n",
              "      <th>MarketSegment</th>\n",
              "      <th>RepeatedGuest</th>\n",
              "      <th>NumPrevCancellations</th>\n",
              "      <th>NumPreviousNonCancelled</th>\n",
              "      <th>AvgRoomPrice</th>\n",
              "      <th>SpecialRequests</th>\n",
              "      <th>BookingStatus</th>\n",
              "    </tr>\n",
              "  </thead>\n",
              "  <tbody>\n",
              "    <tr>\n",
              "      <th>0</th>\n",
              "      <td>1</td>\n",
              "      <td>10</td>\n",
              "      <td>2018</td>\n",
              "      <td>3</td>\n",
              "      <td>31</td>\n",
              "      <td>0</td>\n",
              "      <td>1</td>\n",
              "      <td>Meal Plan 1</td>\n",
              "      <td>0</td>\n",
              "      <td>Room_Type 1</td>\n",
              "      <td>1</td>\n",
              "      <td>0</td>\n",
              "      <td>Corporate</td>\n",
              "      <td>0</td>\n",
              "      <td>0</td>\n",
              "      <td>0</td>\n",
              "      <td>95.00</td>\n",
              "      <td>0</td>\n",
              "      <td>0</td>\n",
              "    </tr>\n",
              "    <tr>\n",
              "      <th>1</th>\n",
              "      <td>2</td>\n",
              "      <td>116</td>\n",
              "      <td>2018</td>\n",
              "      <td>2</td>\n",
              "      <td>28</td>\n",
              "      <td>2</td>\n",
              "      <td>1</td>\n",
              "      <td>Meal Plan 1</td>\n",
              "      <td>0</td>\n",
              "      <td>Room_Type 1</td>\n",
              "      <td>1</td>\n",
              "      <td>0</td>\n",
              "      <td>Online</td>\n",
              "      <td>0</td>\n",
              "      <td>0</td>\n",
              "      <td>0</td>\n",
              "      <td>61.00</td>\n",
              "      <td>0</td>\n",
              "      <td>0</td>\n",
              "    </tr>\n",
              "    <tr>\n",
              "      <th>2</th>\n",
              "      <td>3</td>\n",
              "      <td>11</td>\n",
              "      <td>2018</td>\n",
              "      <td>7</td>\n",
              "      <td>25</td>\n",
              "      <td>1</td>\n",
              "      <td>2</td>\n",
              "      <td>Meal Plan 1</td>\n",
              "      <td>0</td>\n",
              "      <td>Room_Type 1</td>\n",
              "      <td>2</td>\n",
              "      <td>1</td>\n",
              "      <td>Online</td>\n",
              "      <td>0</td>\n",
              "      <td>0</td>\n",
              "      <td>0</td>\n",
              "      <td>129.75</td>\n",
              "      <td>1</td>\n",
              "      <td>1</td>\n",
              "    </tr>\n",
              "    <tr>\n",
              "      <th>3</th>\n",
              "      <td>4</td>\n",
              "      <td>3</td>\n",
              "      <td>2017</td>\n",
              "      <td>9</td>\n",
              "      <td>12</td>\n",
              "      <td>0</td>\n",
              "      <td>1</td>\n",
              "      <td>Meal Plan 1</td>\n",
              "      <td>0</td>\n",
              "      <td>Room_Type 1</td>\n",
              "      <td>2</td>\n",
              "      <td>0</td>\n",
              "      <td>Online</td>\n",
              "      <td>0</td>\n",
              "      <td>0</td>\n",
              "      <td>0</td>\n",
              "      <td>152.00</td>\n",
              "      <td>3</td>\n",
              "      <td>1</td>\n",
              "    </tr>\n",
              "    <tr>\n",
              "      <th>4</th>\n",
              "      <td>5</td>\n",
              "      <td>28</td>\n",
              "      <td>2018</td>\n",
              "      <td>3</td>\n",
              "      <td>7</td>\n",
              "      <td>1</td>\n",
              "      <td>3</td>\n",
              "      <td>Meal Plan 1</td>\n",
              "      <td>0</td>\n",
              "      <td>Room_Type 1</td>\n",
              "      <td>2</td>\n",
              "      <td>0</td>\n",
              "      <td>Offline</td>\n",
              "      <td>0</td>\n",
              "      <td>0</td>\n",
              "      <td>0</td>\n",
              "      <td>87.00</td>\n",
              "      <td>0</td>\n",
              "      <td>1</td>\n",
              "    </tr>\n",
              "  </tbody>\n",
              "</table>\n",
              "</div>\n",
              "      <button class=\"colab-df-convert\" onclick=\"convertToInteractive('df-58fc17e8-b7dc-40c7-ada4-9b26a8340c78')\"\n",
              "              title=\"Convert this dataframe to an interactive table.\"\n",
              "              style=\"display:none;\">\n",
              "        \n",
              "  <svg xmlns=\"http://www.w3.org/2000/svg\" height=\"24px\"viewBox=\"0 0 24 24\"\n",
              "       width=\"24px\">\n",
              "    <path d=\"M0 0h24v24H0V0z\" fill=\"none\"/>\n",
              "    <path d=\"M18.56 5.44l.94 2.06.94-2.06 2.06-.94-2.06-.94-.94-2.06-.94 2.06-2.06.94zm-11 1L8.5 8.5l.94-2.06 2.06-.94-2.06-.94L8.5 2.5l-.94 2.06-2.06.94zm10 10l.94 2.06.94-2.06 2.06-.94-2.06-.94-.94-2.06-.94 2.06-2.06.94z\"/><path d=\"M17.41 7.96l-1.37-1.37c-.4-.4-.92-.59-1.43-.59-.52 0-1.04.2-1.43.59L10.3 9.45l-7.72 7.72c-.78.78-.78 2.05 0 2.83L4 21.41c.39.39.9.59 1.41.59.51 0 1.02-.2 1.41-.59l7.78-7.78 2.81-2.81c.8-.78.8-2.07 0-2.86zM5.41 20L4 18.59l7.72-7.72 1.47 1.35L5.41 20z\"/>\n",
              "  </svg>\n",
              "      </button>\n",
              "      \n",
              "  <style>\n",
              "    .colab-df-container {\n",
              "      display:flex;\n",
              "      flex-wrap:wrap;\n",
              "      gap: 12px;\n",
              "    }\n",
              "\n",
              "    .colab-df-convert {\n",
              "      background-color: #E8F0FE;\n",
              "      border: none;\n",
              "      border-radius: 50%;\n",
              "      cursor: pointer;\n",
              "      display: none;\n",
              "      fill: #1967D2;\n",
              "      height: 32px;\n",
              "      padding: 0 0 0 0;\n",
              "      width: 32px;\n",
              "    }\n",
              "\n",
              "    .colab-df-convert:hover {\n",
              "      background-color: #E2EBFA;\n",
              "      box-shadow: 0px 1px 2px rgba(60, 64, 67, 0.3), 0px 1px 3px 1px rgba(60, 64, 67, 0.15);\n",
              "      fill: #174EA6;\n",
              "    }\n",
              "\n",
              "    [theme=dark] .colab-df-convert {\n",
              "      background-color: #3B4455;\n",
              "      fill: #D2E3FC;\n",
              "    }\n",
              "\n",
              "    [theme=dark] .colab-df-convert:hover {\n",
              "      background-color: #434B5C;\n",
              "      box-shadow: 0px 1px 3px 1px rgba(0, 0, 0, 0.15);\n",
              "      filter: drop-shadow(0px 1px 2px rgba(0, 0, 0, 0.3));\n",
              "      fill: #FFFFFF;\n",
              "    }\n",
              "  </style>\n",
              "\n",
              "      <script>\n",
              "        const buttonEl =\n",
              "          document.querySelector('#df-58fc17e8-b7dc-40c7-ada4-9b26a8340c78 button.colab-df-convert');\n",
              "        buttonEl.style.display =\n",
              "          google.colab.kernel.accessAllowed ? 'block' : 'none';\n",
              "\n",
              "        async function convertToInteractive(key) {\n",
              "          const element = document.querySelector('#df-58fc17e8-b7dc-40c7-ada4-9b26a8340c78');\n",
              "          const dataTable =\n",
              "            await google.colab.kernel.invokeFunction('convertToInteractive',\n",
              "                                                     [key], {});\n",
              "          if (!dataTable) return;\n",
              "\n",
              "          const docLinkHtml = 'Like what you see? Visit the ' +\n",
              "            '<a target=\"_blank\" href=https://colab.research.google.com/notebooks/data_table.ipynb>data table notebook</a>'\n",
              "            + ' to learn more about interactive tables.';\n",
              "          element.innerHTML = '';\n",
              "          dataTable['output_type'] = 'display_data';\n",
              "          await google.colab.output.renderOutput(dataTable, element);\n",
              "          const docLink = document.createElement('div');\n",
              "          docLink.innerHTML = docLinkHtml;\n",
              "          element.appendChild(docLink);\n",
              "        }\n",
              "      </script>\n",
              "    </div>\n",
              "  </div>\n",
              "  "
            ]
          },
          "metadata": {},
          "execution_count": 137
        }
      ]
    },
    {
      "cell_type": "code",
      "source": [
        "# replace 0 with 1 and vise-versa\n",
        "df['BookingStatus'] = df['BookingStatus'].replace({0: 1, 1: 0})\n",
        "df.head()"
      ],
      "metadata": {
        "colab": {
          "base_uri": "https://localhost:8080/",
          "height": 357
        },
        "id": "tR_9D4dKAM3g",
        "outputId": "e0fd3b8b-3799-424d-8c0d-dbbf80702e4f"
      },
      "execution_count": 138,
      "outputs": [
        {
          "output_type": "execute_result",
          "data": {
            "text/plain": [
              "   BookingID  LeadTime  ArrivalYear  ArrivalMonth  ArrivalDate  \\\n",
              "0          1        10         2018             3           31   \n",
              "1          2       116         2018             2           28   \n",
              "2          3        11         2018             7           25   \n",
              "3          4         3         2017             9           12   \n",
              "4          5        28         2018             3            7   \n",
              "\n",
              "   NumWeekendNights  NumWeekNights     MealPlan  Parking     RoomType  \\\n",
              "0                 0              1  Meal Plan 1        0  Room_Type 1   \n",
              "1                 2              1  Meal Plan 1        0  Room_Type 1   \n",
              "2                 1              2  Meal Plan 1        0  Room_Type 1   \n",
              "3                 0              1  Meal Plan 1        0  Room_Type 1   \n",
              "4                 1              3  Meal Plan 1        0  Room_Type 1   \n",
              "\n",
              "   NumAdults  NumChildren MarketSegment  RepeatedGuest  NumPrevCancellations  \\\n",
              "0          1            0     Corporate              0                     0   \n",
              "1          1            0        Online              0                     0   \n",
              "2          2            1        Online              0                     0   \n",
              "3          2            0        Online              0                     0   \n",
              "4          2            0       Offline              0                     0   \n",
              "\n",
              "   NumPreviousNonCancelled  AvgRoomPrice  SpecialRequests  BookingStatus  \n",
              "0                        0         95.00                0              1  \n",
              "1                        0         61.00                0              1  \n",
              "2                        0        129.75                1              0  \n",
              "3                        0        152.00                3              0  \n",
              "4                        0         87.00                0              0  "
            ],
            "text/html": [
              "\n",
              "  <div id=\"df-4c90d039-dc19-49b8-ab9f-4b2d76baa6e2\">\n",
              "    <div class=\"colab-df-container\">\n",
              "      <div>\n",
              "<style scoped>\n",
              "    .dataframe tbody tr th:only-of-type {\n",
              "        vertical-align: middle;\n",
              "    }\n",
              "\n",
              "    .dataframe tbody tr th {\n",
              "        vertical-align: top;\n",
              "    }\n",
              "\n",
              "    .dataframe thead th {\n",
              "        text-align: right;\n",
              "    }\n",
              "</style>\n",
              "<table border=\"1\" class=\"dataframe\">\n",
              "  <thead>\n",
              "    <tr style=\"text-align: right;\">\n",
              "      <th></th>\n",
              "      <th>BookingID</th>\n",
              "      <th>LeadTime</th>\n",
              "      <th>ArrivalYear</th>\n",
              "      <th>ArrivalMonth</th>\n",
              "      <th>ArrivalDate</th>\n",
              "      <th>NumWeekendNights</th>\n",
              "      <th>NumWeekNights</th>\n",
              "      <th>MealPlan</th>\n",
              "      <th>Parking</th>\n",
              "      <th>RoomType</th>\n",
              "      <th>NumAdults</th>\n",
              "      <th>NumChildren</th>\n",
              "      <th>MarketSegment</th>\n",
              "      <th>RepeatedGuest</th>\n",
              "      <th>NumPrevCancellations</th>\n",
              "      <th>NumPreviousNonCancelled</th>\n",
              "      <th>AvgRoomPrice</th>\n",
              "      <th>SpecialRequests</th>\n",
              "      <th>BookingStatus</th>\n",
              "    </tr>\n",
              "  </thead>\n",
              "  <tbody>\n",
              "    <tr>\n",
              "      <th>0</th>\n",
              "      <td>1</td>\n",
              "      <td>10</td>\n",
              "      <td>2018</td>\n",
              "      <td>3</td>\n",
              "      <td>31</td>\n",
              "      <td>0</td>\n",
              "      <td>1</td>\n",
              "      <td>Meal Plan 1</td>\n",
              "      <td>0</td>\n",
              "      <td>Room_Type 1</td>\n",
              "      <td>1</td>\n",
              "      <td>0</td>\n",
              "      <td>Corporate</td>\n",
              "      <td>0</td>\n",
              "      <td>0</td>\n",
              "      <td>0</td>\n",
              "      <td>95.00</td>\n",
              "      <td>0</td>\n",
              "      <td>1</td>\n",
              "    </tr>\n",
              "    <tr>\n",
              "      <th>1</th>\n",
              "      <td>2</td>\n",
              "      <td>116</td>\n",
              "      <td>2018</td>\n",
              "      <td>2</td>\n",
              "      <td>28</td>\n",
              "      <td>2</td>\n",
              "      <td>1</td>\n",
              "      <td>Meal Plan 1</td>\n",
              "      <td>0</td>\n",
              "      <td>Room_Type 1</td>\n",
              "      <td>1</td>\n",
              "      <td>0</td>\n",
              "      <td>Online</td>\n",
              "      <td>0</td>\n",
              "      <td>0</td>\n",
              "      <td>0</td>\n",
              "      <td>61.00</td>\n",
              "      <td>0</td>\n",
              "      <td>1</td>\n",
              "    </tr>\n",
              "    <tr>\n",
              "      <th>2</th>\n",
              "      <td>3</td>\n",
              "      <td>11</td>\n",
              "      <td>2018</td>\n",
              "      <td>7</td>\n",
              "      <td>25</td>\n",
              "      <td>1</td>\n",
              "      <td>2</td>\n",
              "      <td>Meal Plan 1</td>\n",
              "      <td>0</td>\n",
              "      <td>Room_Type 1</td>\n",
              "      <td>2</td>\n",
              "      <td>1</td>\n",
              "      <td>Online</td>\n",
              "      <td>0</td>\n",
              "      <td>0</td>\n",
              "      <td>0</td>\n",
              "      <td>129.75</td>\n",
              "      <td>1</td>\n",
              "      <td>0</td>\n",
              "    </tr>\n",
              "    <tr>\n",
              "      <th>3</th>\n",
              "      <td>4</td>\n",
              "      <td>3</td>\n",
              "      <td>2017</td>\n",
              "      <td>9</td>\n",
              "      <td>12</td>\n",
              "      <td>0</td>\n",
              "      <td>1</td>\n",
              "      <td>Meal Plan 1</td>\n",
              "      <td>0</td>\n",
              "      <td>Room_Type 1</td>\n",
              "      <td>2</td>\n",
              "      <td>0</td>\n",
              "      <td>Online</td>\n",
              "      <td>0</td>\n",
              "      <td>0</td>\n",
              "      <td>0</td>\n",
              "      <td>152.00</td>\n",
              "      <td>3</td>\n",
              "      <td>0</td>\n",
              "    </tr>\n",
              "    <tr>\n",
              "      <th>4</th>\n",
              "      <td>5</td>\n",
              "      <td>28</td>\n",
              "      <td>2018</td>\n",
              "      <td>3</td>\n",
              "      <td>7</td>\n",
              "      <td>1</td>\n",
              "      <td>3</td>\n",
              "      <td>Meal Plan 1</td>\n",
              "      <td>0</td>\n",
              "      <td>Room_Type 1</td>\n",
              "      <td>2</td>\n",
              "      <td>0</td>\n",
              "      <td>Offline</td>\n",
              "      <td>0</td>\n",
              "      <td>0</td>\n",
              "      <td>0</td>\n",
              "      <td>87.00</td>\n",
              "      <td>0</td>\n",
              "      <td>0</td>\n",
              "    </tr>\n",
              "  </tbody>\n",
              "</table>\n",
              "</div>\n",
              "      <button class=\"colab-df-convert\" onclick=\"convertToInteractive('df-4c90d039-dc19-49b8-ab9f-4b2d76baa6e2')\"\n",
              "              title=\"Convert this dataframe to an interactive table.\"\n",
              "              style=\"display:none;\">\n",
              "        \n",
              "  <svg xmlns=\"http://www.w3.org/2000/svg\" height=\"24px\"viewBox=\"0 0 24 24\"\n",
              "       width=\"24px\">\n",
              "    <path d=\"M0 0h24v24H0V0z\" fill=\"none\"/>\n",
              "    <path d=\"M18.56 5.44l.94 2.06.94-2.06 2.06-.94-2.06-.94-.94-2.06-.94 2.06-2.06.94zm-11 1L8.5 8.5l.94-2.06 2.06-.94-2.06-.94L8.5 2.5l-.94 2.06-2.06.94zm10 10l.94 2.06.94-2.06 2.06-.94-2.06-.94-.94-2.06-.94 2.06-2.06.94z\"/><path d=\"M17.41 7.96l-1.37-1.37c-.4-.4-.92-.59-1.43-.59-.52 0-1.04.2-1.43.59L10.3 9.45l-7.72 7.72c-.78.78-.78 2.05 0 2.83L4 21.41c.39.39.9.59 1.41.59.51 0 1.02-.2 1.41-.59l7.78-7.78 2.81-2.81c.8-.78.8-2.07 0-2.86zM5.41 20L4 18.59l7.72-7.72 1.47 1.35L5.41 20z\"/>\n",
              "  </svg>\n",
              "      </button>\n",
              "      \n",
              "  <style>\n",
              "    .colab-df-container {\n",
              "      display:flex;\n",
              "      flex-wrap:wrap;\n",
              "      gap: 12px;\n",
              "    }\n",
              "\n",
              "    .colab-df-convert {\n",
              "      background-color: #E8F0FE;\n",
              "      border: none;\n",
              "      border-radius: 50%;\n",
              "      cursor: pointer;\n",
              "      display: none;\n",
              "      fill: #1967D2;\n",
              "      height: 32px;\n",
              "      padding: 0 0 0 0;\n",
              "      width: 32px;\n",
              "    }\n",
              "\n",
              "    .colab-df-convert:hover {\n",
              "      background-color: #E2EBFA;\n",
              "      box-shadow: 0px 1px 2px rgba(60, 64, 67, 0.3), 0px 1px 3px 1px rgba(60, 64, 67, 0.15);\n",
              "      fill: #174EA6;\n",
              "    }\n",
              "\n",
              "    [theme=dark] .colab-df-convert {\n",
              "      background-color: #3B4455;\n",
              "      fill: #D2E3FC;\n",
              "    }\n",
              "\n",
              "    [theme=dark] .colab-df-convert:hover {\n",
              "      background-color: #434B5C;\n",
              "      box-shadow: 0px 1px 3px 1px rgba(0, 0, 0, 0.15);\n",
              "      filter: drop-shadow(0px 1px 2px rgba(0, 0, 0, 0.3));\n",
              "      fill: #FFFFFF;\n",
              "    }\n",
              "  </style>\n",
              "\n",
              "      <script>\n",
              "        const buttonEl =\n",
              "          document.querySelector('#df-4c90d039-dc19-49b8-ab9f-4b2d76baa6e2 button.colab-df-convert');\n",
              "        buttonEl.style.display =\n",
              "          google.colab.kernel.accessAllowed ? 'block' : 'none';\n",
              "\n",
              "        async function convertToInteractive(key) {\n",
              "          const element = document.querySelector('#df-4c90d039-dc19-49b8-ab9f-4b2d76baa6e2');\n",
              "          const dataTable =\n",
              "            await google.colab.kernel.invokeFunction('convertToInteractive',\n",
              "                                                     [key], {});\n",
              "          if (!dataTable) return;\n",
              "\n",
              "          const docLinkHtml = 'Like what you see? Visit the ' +\n",
              "            '<a target=\"_blank\" href=https://colab.research.google.com/notebooks/data_table.ipynb>data table notebook</a>'\n",
              "            + ' to learn more about interactive tables.';\n",
              "          element.innerHTML = '';\n",
              "          dataTable['output_type'] = 'display_data';\n",
              "          await google.colab.output.renderOutput(dataTable, element);\n",
              "          const docLink = document.createElement('div');\n",
              "          docLink.innerHTML = docLinkHtml;\n",
              "          element.appendChild(docLink);\n",
              "        }\n",
              "      </script>\n",
              "    </div>\n",
              "  </div>\n",
              "  "
            ]
          },
          "metadata": {},
          "execution_count": 138
        }
      ]
    },
    {
      "cell_type": "code",
      "source": [
        "df.isna().sum()\n",
        "#df.iloc[29017]"
      ],
      "metadata": {
        "colab": {
          "base_uri": "https://localhost:8080/"
        },
        "id": "3me_DejN-f7i",
        "outputId": "e47541ba-02c0-4867-d55f-8ba0a1ba517f"
      },
      "execution_count": 139,
      "outputs": [
        {
          "output_type": "execute_result",
          "data": {
            "text/plain": [
              "BookingID                  0\n",
              "LeadTime                   0\n",
              "ArrivalYear                0\n",
              "ArrivalMonth               0\n",
              "ArrivalDate                0\n",
              "NumWeekendNights           0\n",
              "NumWeekNights              0\n",
              "MealPlan                   0\n",
              "Parking                    0\n",
              "RoomType                   0\n",
              "NumAdults                  0\n",
              "NumChildren                0\n",
              "MarketSegment              0\n",
              "RepeatedGuest              0\n",
              "NumPrevCancellations       0\n",
              "NumPreviousNonCancelled    0\n",
              "AvgRoomPrice               0\n",
              "SpecialRequests            0\n",
              "BookingStatus              0\n",
              "dtype: int64"
            ]
          },
          "metadata": {},
          "execution_count": 139
        }
      ]
    },
    {
      "cell_type": "code",
      "source": [
        "# Create an instance of the OneHotEncoder class\n",
        "encoder = OneHotEncoder()\n",
        "\n",
        "cat_vars = ['MealPlan', 'MarketSegment']\n",
        "\n",
        "# Specify which columns to encode and fit the encoder to the data\n",
        "encoder.fit(df[cat_vars])\n",
        "\n",
        "encoded_vars = encoder.transform(df[cat_vars]).toarray()\n",
        "\n",
        "encoded = pd.DataFrame(encoded_vars,columns=encoder.get_feature_names_out(cat_vars))\n",
        "\n",
        "# fix the indices\n",
        "df = df.reset_index(drop=True)\n",
        "encoded = encoded.reset_index(drop=True)\n",
        "df = pd.concat([df, encoded], axis =1)\n",
        "\n",
        "print(df.shape)"
      ],
      "metadata": {
        "id": "ytgV-4bR-UwJ",
        "colab": {
          "base_uri": "https://localhost:8080/"
        },
        "outputId": "2a573399-69ea-40bd-ec2b-f66d5abeb00c"
      },
      "execution_count": 140,
      "outputs": [
        {
          "output_type": "stream",
          "name": "stdout",
          "text": [
            "(29015, 27)\n"
          ]
        }
      ]
    },
    {
      "cell_type": "code",
      "source": [
        "df.head()\n",
        "df.shape"
      ],
      "metadata": {
        "colab": {
          "base_uri": "https://localhost:8080/"
        },
        "id": "LATcW-vhA9JT",
        "outputId": "8d6dd73f-f5a2-41df-f823-fb92eb82487d"
      },
      "execution_count": 141,
      "outputs": [
        {
          "output_type": "execute_result",
          "data": {
            "text/plain": [
              "(29015, 27)"
            ]
          },
          "metadata": {},
          "execution_count": 141
        }
      ]
    },
    {
      "cell_type": "code",
      "source": [
        "df.head()"
      ],
      "metadata": {
        "colab": {
          "base_uri": "https://localhost:8080/",
          "height": 404
        },
        "id": "sNPfHvXM0XdJ",
        "outputId": "dad83960-16a3-47e5-eec6-69209fb7e796"
      },
      "execution_count": 142,
      "outputs": [
        {
          "output_type": "execute_result",
          "data": {
            "text/plain": [
              "   BookingID  LeadTime  ArrivalYear  ArrivalMonth  ArrivalDate  \\\n",
              "0          1        10         2018             3           31   \n",
              "1          2       116         2018             2           28   \n",
              "2          3        11         2018             7           25   \n",
              "3          4         3         2017             9           12   \n",
              "4          5        28         2018             3            7   \n",
              "\n",
              "   NumWeekendNights  NumWeekNights     MealPlan  Parking     RoomType  ...  \\\n",
              "0                 0              1  Meal Plan 1        0  Room_Type 1  ...   \n",
              "1                 2              1  Meal Plan 1        0  Room_Type 1  ...   \n",
              "2                 1              2  Meal Plan 1        0  Room_Type 1  ...   \n",
              "3                 0              1  Meal Plan 1        0  Room_Type 1  ...   \n",
              "4                 1              3  Meal Plan 1        0  Room_Type 1  ...   \n",
              "\n",
              "   SpecialRequests  BookingStatus MealPlan_Meal Plan 1  MealPlan_Meal Plan 2  \\\n",
              "0                0              1                  1.0                   0.0   \n",
              "1                0              1                  1.0                   0.0   \n",
              "2                1              0                  1.0                   0.0   \n",
              "3                3              0                  1.0                   0.0   \n",
              "4                0              0                  1.0                   0.0   \n",
              "\n",
              "   MealPlan_Not Selected  MarketSegment_Aviation  MarketSegment_Complementary  \\\n",
              "0                    0.0                     0.0                          0.0   \n",
              "1                    0.0                     0.0                          0.0   \n",
              "2                    0.0                     0.0                          0.0   \n",
              "3                    0.0                     0.0                          0.0   \n",
              "4                    0.0                     0.0                          0.0   \n",
              "\n",
              "   MarketSegment_Corporate  MarketSegment_Offline  MarketSegment_Online  \n",
              "0                      1.0                    0.0                   0.0  \n",
              "1                      0.0                    0.0                   1.0  \n",
              "2                      0.0                    0.0                   1.0  \n",
              "3                      0.0                    0.0                   1.0  \n",
              "4                      0.0                    1.0                   0.0  \n",
              "\n",
              "[5 rows x 27 columns]"
            ],
            "text/html": [
              "\n",
              "  <div id=\"df-2584e967-d983-4314-a760-0a762e906f21\">\n",
              "    <div class=\"colab-df-container\">\n",
              "      <div>\n",
              "<style scoped>\n",
              "    .dataframe tbody tr th:only-of-type {\n",
              "        vertical-align: middle;\n",
              "    }\n",
              "\n",
              "    .dataframe tbody tr th {\n",
              "        vertical-align: top;\n",
              "    }\n",
              "\n",
              "    .dataframe thead th {\n",
              "        text-align: right;\n",
              "    }\n",
              "</style>\n",
              "<table border=\"1\" class=\"dataframe\">\n",
              "  <thead>\n",
              "    <tr style=\"text-align: right;\">\n",
              "      <th></th>\n",
              "      <th>BookingID</th>\n",
              "      <th>LeadTime</th>\n",
              "      <th>ArrivalYear</th>\n",
              "      <th>ArrivalMonth</th>\n",
              "      <th>ArrivalDate</th>\n",
              "      <th>NumWeekendNights</th>\n",
              "      <th>NumWeekNights</th>\n",
              "      <th>MealPlan</th>\n",
              "      <th>Parking</th>\n",
              "      <th>RoomType</th>\n",
              "      <th>...</th>\n",
              "      <th>SpecialRequests</th>\n",
              "      <th>BookingStatus</th>\n",
              "      <th>MealPlan_Meal Plan 1</th>\n",
              "      <th>MealPlan_Meal Plan 2</th>\n",
              "      <th>MealPlan_Not Selected</th>\n",
              "      <th>MarketSegment_Aviation</th>\n",
              "      <th>MarketSegment_Complementary</th>\n",
              "      <th>MarketSegment_Corporate</th>\n",
              "      <th>MarketSegment_Offline</th>\n",
              "      <th>MarketSegment_Online</th>\n",
              "    </tr>\n",
              "  </thead>\n",
              "  <tbody>\n",
              "    <tr>\n",
              "      <th>0</th>\n",
              "      <td>1</td>\n",
              "      <td>10</td>\n",
              "      <td>2018</td>\n",
              "      <td>3</td>\n",
              "      <td>31</td>\n",
              "      <td>0</td>\n",
              "      <td>1</td>\n",
              "      <td>Meal Plan 1</td>\n",
              "      <td>0</td>\n",
              "      <td>Room_Type 1</td>\n",
              "      <td>...</td>\n",
              "      <td>0</td>\n",
              "      <td>1</td>\n",
              "      <td>1.0</td>\n",
              "      <td>0.0</td>\n",
              "      <td>0.0</td>\n",
              "      <td>0.0</td>\n",
              "      <td>0.0</td>\n",
              "      <td>1.0</td>\n",
              "      <td>0.0</td>\n",
              "      <td>0.0</td>\n",
              "    </tr>\n",
              "    <tr>\n",
              "      <th>1</th>\n",
              "      <td>2</td>\n",
              "      <td>116</td>\n",
              "      <td>2018</td>\n",
              "      <td>2</td>\n",
              "      <td>28</td>\n",
              "      <td>2</td>\n",
              "      <td>1</td>\n",
              "      <td>Meal Plan 1</td>\n",
              "      <td>0</td>\n",
              "      <td>Room_Type 1</td>\n",
              "      <td>...</td>\n",
              "      <td>0</td>\n",
              "      <td>1</td>\n",
              "      <td>1.0</td>\n",
              "      <td>0.0</td>\n",
              "      <td>0.0</td>\n",
              "      <td>0.0</td>\n",
              "      <td>0.0</td>\n",
              "      <td>0.0</td>\n",
              "      <td>0.0</td>\n",
              "      <td>1.0</td>\n",
              "    </tr>\n",
              "    <tr>\n",
              "      <th>2</th>\n",
              "      <td>3</td>\n",
              "      <td>11</td>\n",
              "      <td>2018</td>\n",
              "      <td>7</td>\n",
              "      <td>25</td>\n",
              "      <td>1</td>\n",
              "      <td>2</td>\n",
              "      <td>Meal Plan 1</td>\n",
              "      <td>0</td>\n",
              "      <td>Room_Type 1</td>\n",
              "      <td>...</td>\n",
              "      <td>1</td>\n",
              "      <td>0</td>\n",
              "      <td>1.0</td>\n",
              "      <td>0.0</td>\n",
              "      <td>0.0</td>\n",
              "      <td>0.0</td>\n",
              "      <td>0.0</td>\n",
              "      <td>0.0</td>\n",
              "      <td>0.0</td>\n",
              "      <td>1.0</td>\n",
              "    </tr>\n",
              "    <tr>\n",
              "      <th>3</th>\n",
              "      <td>4</td>\n",
              "      <td>3</td>\n",
              "      <td>2017</td>\n",
              "      <td>9</td>\n",
              "      <td>12</td>\n",
              "      <td>0</td>\n",
              "      <td>1</td>\n",
              "      <td>Meal Plan 1</td>\n",
              "      <td>0</td>\n",
              "      <td>Room_Type 1</td>\n",
              "      <td>...</td>\n",
              "      <td>3</td>\n",
              "      <td>0</td>\n",
              "      <td>1.0</td>\n",
              "      <td>0.0</td>\n",
              "      <td>0.0</td>\n",
              "      <td>0.0</td>\n",
              "      <td>0.0</td>\n",
              "      <td>0.0</td>\n",
              "      <td>0.0</td>\n",
              "      <td>1.0</td>\n",
              "    </tr>\n",
              "    <tr>\n",
              "      <th>4</th>\n",
              "      <td>5</td>\n",
              "      <td>28</td>\n",
              "      <td>2018</td>\n",
              "      <td>3</td>\n",
              "      <td>7</td>\n",
              "      <td>1</td>\n",
              "      <td>3</td>\n",
              "      <td>Meal Plan 1</td>\n",
              "      <td>0</td>\n",
              "      <td>Room_Type 1</td>\n",
              "      <td>...</td>\n",
              "      <td>0</td>\n",
              "      <td>0</td>\n",
              "      <td>1.0</td>\n",
              "      <td>0.0</td>\n",
              "      <td>0.0</td>\n",
              "      <td>0.0</td>\n",
              "      <td>0.0</td>\n",
              "      <td>0.0</td>\n",
              "      <td>1.0</td>\n",
              "      <td>0.0</td>\n",
              "    </tr>\n",
              "  </tbody>\n",
              "</table>\n",
              "<p>5 rows × 27 columns</p>\n",
              "</div>\n",
              "      <button class=\"colab-df-convert\" onclick=\"convertToInteractive('df-2584e967-d983-4314-a760-0a762e906f21')\"\n",
              "              title=\"Convert this dataframe to an interactive table.\"\n",
              "              style=\"display:none;\">\n",
              "        \n",
              "  <svg xmlns=\"http://www.w3.org/2000/svg\" height=\"24px\"viewBox=\"0 0 24 24\"\n",
              "       width=\"24px\">\n",
              "    <path d=\"M0 0h24v24H0V0z\" fill=\"none\"/>\n",
              "    <path d=\"M18.56 5.44l.94 2.06.94-2.06 2.06-.94-2.06-.94-.94-2.06-.94 2.06-2.06.94zm-11 1L8.5 8.5l.94-2.06 2.06-.94-2.06-.94L8.5 2.5l-.94 2.06-2.06.94zm10 10l.94 2.06.94-2.06 2.06-.94-2.06-.94-.94-2.06-.94 2.06-2.06.94z\"/><path d=\"M17.41 7.96l-1.37-1.37c-.4-.4-.92-.59-1.43-.59-.52 0-1.04.2-1.43.59L10.3 9.45l-7.72 7.72c-.78.78-.78 2.05 0 2.83L4 21.41c.39.39.9.59 1.41.59.51 0 1.02-.2 1.41-.59l7.78-7.78 2.81-2.81c.8-.78.8-2.07 0-2.86zM5.41 20L4 18.59l7.72-7.72 1.47 1.35L5.41 20z\"/>\n",
              "  </svg>\n",
              "      </button>\n",
              "      \n",
              "  <style>\n",
              "    .colab-df-container {\n",
              "      display:flex;\n",
              "      flex-wrap:wrap;\n",
              "      gap: 12px;\n",
              "    }\n",
              "\n",
              "    .colab-df-convert {\n",
              "      background-color: #E8F0FE;\n",
              "      border: none;\n",
              "      border-radius: 50%;\n",
              "      cursor: pointer;\n",
              "      display: none;\n",
              "      fill: #1967D2;\n",
              "      height: 32px;\n",
              "      padding: 0 0 0 0;\n",
              "      width: 32px;\n",
              "    }\n",
              "\n",
              "    .colab-df-convert:hover {\n",
              "      background-color: #E2EBFA;\n",
              "      box-shadow: 0px 1px 2px rgba(60, 64, 67, 0.3), 0px 1px 3px 1px rgba(60, 64, 67, 0.15);\n",
              "      fill: #174EA6;\n",
              "    }\n",
              "\n",
              "    [theme=dark] .colab-df-convert {\n",
              "      background-color: #3B4455;\n",
              "      fill: #D2E3FC;\n",
              "    }\n",
              "\n",
              "    [theme=dark] .colab-df-convert:hover {\n",
              "      background-color: #434B5C;\n",
              "      box-shadow: 0px 1px 3px 1px rgba(0, 0, 0, 0.15);\n",
              "      filter: drop-shadow(0px 1px 2px rgba(0, 0, 0, 0.3));\n",
              "      fill: #FFFFFF;\n",
              "    }\n",
              "  </style>\n",
              "\n",
              "      <script>\n",
              "        const buttonEl =\n",
              "          document.querySelector('#df-2584e967-d983-4314-a760-0a762e906f21 button.colab-df-convert');\n",
              "        buttonEl.style.display =\n",
              "          google.colab.kernel.accessAllowed ? 'block' : 'none';\n",
              "\n",
              "        async function convertToInteractive(key) {\n",
              "          const element = document.querySelector('#df-2584e967-d983-4314-a760-0a762e906f21');\n",
              "          const dataTable =\n",
              "            await google.colab.kernel.invokeFunction('convertToInteractive',\n",
              "                                                     [key], {});\n",
              "          if (!dataTable) return;\n",
              "\n",
              "          const docLinkHtml = 'Like what you see? Visit the ' +\n",
              "            '<a target=\"_blank\" href=https://colab.research.google.com/notebooks/data_table.ipynb>data table notebook</a>'\n",
              "            + ' to learn more about interactive tables.';\n",
              "          element.innerHTML = '';\n",
              "          dataTable['output_type'] = 'display_data';\n",
              "          await google.colab.output.renderOutput(dataTable, element);\n",
              "          const docLink = document.createElement('div');\n",
              "          docLink.innerHTML = docLinkHtml;\n",
              "          element.appendChild(docLink);\n",
              "        }\n",
              "      </script>\n",
              "    </div>\n",
              "  </div>\n",
              "  "
            ]
          },
          "metadata": {},
          "execution_count": 142
        }
      ]
    },
    {
      "cell_type": "code",
      "source": [
        "df.columns"
      ],
      "metadata": {
        "colab": {
          "base_uri": "https://localhost:8080/"
        },
        "id": "y0xm7SMj-8zN",
        "outputId": "5c031779-e737-4a38-94af-a26e9acb06a8"
      },
      "execution_count": 108,
      "outputs": [
        {
          "output_type": "execute_result",
          "data": {
            "text/plain": [
              "Index(['LeadTime', 'ArrivalYear', 'ArrivalMonth', 'ArrivalDate',\n",
              "       'NumWeekendNights', 'NumWeekNights', 'Parking', 'NumAdults',\n",
              "       'NumChildren', 'MarketSegment', 'RepeatedGuest', 'NumPrevCancellations',\n",
              "       'NumPreviousNonCancelled', 'AvgRoomPrice', 'SpecialRequests',\n",
              "       'BookingStatus', 'MealPlan_Meal Plan 1', 'MealPlan_Meal Plan 2',\n",
              "       'MealPlan_Not Selected', 'MarketSegment_Aviation',\n",
              "       'MarketSegment_Complementary', 'MarketSegment_Corporate',\n",
              "       'MarketSegment_Offline', 'MarketSegment_Online'],\n",
              "      dtype='object')"
            ]
          },
          "metadata": {},
          "execution_count": 108
        }
      ]
    },
    {
      "cell_type": "code",
      "source": [
        "df = df.drop('BookingID', axis=1)"
      ],
      "metadata": {
        "id": "JjXMae4X-S1S"
      },
      "execution_count": 143,
      "outputs": []
    },
    {
      "cell_type": "code",
      "source": [
        "df = df.drop('MealPlan', axis=1)\n",
        "df = df.drop('RoomType', axis=1)"
      ],
      "metadata": {
        "id": "cd5QzHy4-k_O"
      },
      "execution_count": 144,
      "outputs": []
    },
    {
      "cell_type": "code",
      "source": [
        "df = df.drop('MarketSegment', axis=1)"
      ],
      "metadata": {
        "id": "QrCDs2ch-uXM"
      },
      "execution_count": 145,
      "outputs": []
    },
    {
      "cell_type": "code",
      "source": [
        "X = df.drop(['BookingStatus'],axis=1)\n",
        "#X = pd.DataFrame(df.data, columns=df.feature_names)\n",
        "\n",
        "y = df.BookingStatus.values "
      ],
      "metadata": {
        "id": "tyLhjOLP5Cu6"
      },
      "execution_count": 146,
      "outputs": []
    },
    {
      "cell_type": "code",
      "source": [
        "# not going to scale the X's right now, can look into this later if we need to improve model\n",
        "X_scaled =  StandardScaler().fit_transform(X) "
      ],
      "metadata": {
        "id": "rI2Tn28X57R4"
      },
      "execution_count": 147,
      "outputs": []
    },
    {
      "cell_type": "code",
      "source": [
        "X_train, X_valid, y_train, y_valid = train_test_split(X_scaled,y,test_size = 0.2,stratify=y, random_state=1)"
      ],
      "metadata": {
        "id": "5uVbkTZQ7b8u"
      },
      "execution_count": 148,
      "outputs": []
    },
    {
      "cell_type": "code",
      "source": [
        "classifier = RandomForestClassifier()\n",
        " \n",
        "classifier.fit(X_train,y_train)"
      ],
      "metadata": {
        "colab": {
          "base_uri": "https://localhost:8080/",
          "height": 75
        },
        "id": "NpwErUBR8A-k",
        "outputId": "b2eea00a-6766-4a50-fcc6-30f87244ecfc"
      },
      "execution_count": 149,
      "outputs": [
        {
          "output_type": "execute_result",
          "data": {
            "text/plain": [
              "RandomForestClassifier()"
            ],
            "text/html": [
              "<style>#sk-container-id-7 {color: black;background-color: white;}#sk-container-id-7 pre{padding: 0;}#sk-container-id-7 div.sk-toggleable {background-color: white;}#sk-container-id-7 label.sk-toggleable__label {cursor: pointer;display: block;width: 100%;margin-bottom: 0;padding: 0.3em;box-sizing: border-box;text-align: center;}#sk-container-id-7 label.sk-toggleable__label-arrow:before {content: \"▸\";float: left;margin-right: 0.25em;color: #696969;}#sk-container-id-7 label.sk-toggleable__label-arrow:hover:before {color: black;}#sk-container-id-7 div.sk-estimator:hover label.sk-toggleable__label-arrow:before {color: black;}#sk-container-id-7 div.sk-toggleable__content {max-height: 0;max-width: 0;overflow: hidden;text-align: left;background-color: #f0f8ff;}#sk-container-id-7 div.sk-toggleable__content pre {margin: 0.2em;color: black;border-radius: 0.25em;background-color: #f0f8ff;}#sk-container-id-7 input.sk-toggleable__control:checked~div.sk-toggleable__content {max-height: 200px;max-width: 100%;overflow: auto;}#sk-container-id-7 input.sk-toggleable__control:checked~label.sk-toggleable__label-arrow:before {content: \"▾\";}#sk-container-id-7 div.sk-estimator input.sk-toggleable__control:checked~label.sk-toggleable__label {background-color: #d4ebff;}#sk-container-id-7 div.sk-label input.sk-toggleable__control:checked~label.sk-toggleable__label {background-color: #d4ebff;}#sk-container-id-7 input.sk-hidden--visually {border: 0;clip: rect(1px 1px 1px 1px);clip: rect(1px, 1px, 1px, 1px);height: 1px;margin: -1px;overflow: hidden;padding: 0;position: absolute;width: 1px;}#sk-container-id-7 div.sk-estimator {font-family: monospace;background-color: #f0f8ff;border: 1px dotted black;border-radius: 0.25em;box-sizing: border-box;margin-bottom: 0.5em;}#sk-container-id-7 div.sk-estimator:hover {background-color: #d4ebff;}#sk-container-id-7 div.sk-parallel-item::after {content: \"\";width: 100%;border-bottom: 1px solid gray;flex-grow: 1;}#sk-container-id-7 div.sk-label:hover label.sk-toggleable__label {background-color: #d4ebff;}#sk-container-id-7 div.sk-serial::before {content: \"\";position: absolute;border-left: 1px solid gray;box-sizing: border-box;top: 0;bottom: 0;left: 50%;z-index: 0;}#sk-container-id-7 div.sk-serial {display: flex;flex-direction: column;align-items: center;background-color: white;padding-right: 0.2em;padding-left: 0.2em;position: relative;}#sk-container-id-7 div.sk-item {position: relative;z-index: 1;}#sk-container-id-7 div.sk-parallel {display: flex;align-items: stretch;justify-content: center;background-color: white;position: relative;}#sk-container-id-7 div.sk-item::before, #sk-container-id-7 div.sk-parallel-item::before {content: \"\";position: absolute;border-left: 1px solid gray;box-sizing: border-box;top: 0;bottom: 0;left: 50%;z-index: -1;}#sk-container-id-7 div.sk-parallel-item {display: flex;flex-direction: column;z-index: 1;position: relative;background-color: white;}#sk-container-id-7 div.sk-parallel-item:first-child::after {align-self: flex-end;width: 50%;}#sk-container-id-7 div.sk-parallel-item:last-child::after {align-self: flex-start;width: 50%;}#sk-container-id-7 div.sk-parallel-item:only-child::after {width: 0;}#sk-container-id-7 div.sk-dashed-wrapped {border: 1px dashed gray;margin: 0 0.4em 0.5em 0.4em;box-sizing: border-box;padding-bottom: 0.4em;background-color: white;}#sk-container-id-7 div.sk-label label {font-family: monospace;font-weight: bold;display: inline-block;line-height: 1.2em;}#sk-container-id-7 div.sk-label-container {text-align: center;}#sk-container-id-7 div.sk-container {/* jupyter's `normalize.less` sets `[hidden] { display: none; }` but bootstrap.min.css set `[hidden] { display: none !important; }` so we also need the `!important` here to be able to override the default hidden behavior on the sphinx rendered scikit-learn.org. See: https://github.com/scikit-learn/scikit-learn/issues/21755 */display: inline-block !important;position: relative;}#sk-container-id-7 div.sk-text-repr-fallback {display: none;}</style><div id=\"sk-container-id-7\" class=\"sk-top-container\"><div class=\"sk-text-repr-fallback\"><pre>RandomForestClassifier()</pre><b>In a Jupyter environment, please rerun this cell to show the HTML representation or trust the notebook. <br />On GitHub, the HTML representation is unable to render, please try loading this page with nbviewer.org.</b></div><div class=\"sk-container\" hidden><div class=\"sk-item\"><div class=\"sk-estimator sk-toggleable\"><input class=\"sk-toggleable__control sk-hidden--visually\" id=\"sk-estimator-id-7\" type=\"checkbox\" checked><label for=\"sk-estimator-id-7\" class=\"sk-toggleable__label sk-toggleable__label-arrow\">RandomForestClassifier</label><div class=\"sk-toggleable__content\"><pre>RandomForestClassifier()</pre></div></div></div></div></div>"
            ]
          },
          "metadata": {},
          "execution_count": 149
        }
      ]
    },
    {
      "cell_type": "code",
      "source": [
        "# make prediction \n",
        "preds = classifier.predict(X_valid) \n",
        "# check performance\n",
        "accuracy_score(preds,y_valid)"
      ],
      "metadata": {
        "colab": {
          "base_uri": "https://localhost:8080/"
        },
        "id": "O1S0oScfBUOG",
        "outputId": "51cc5b1b-d38d-4b4d-c12c-08ad93910e40"
      },
      "execution_count": 150,
      "outputs": [
        {
          "output_type": "execute_result",
          "data": {
            "text/plain": [
              "0.9016026193348268"
            ]
          },
          "metadata": {},
          "execution_count": 150
        }
      ]
    },
    {
      "cell_type": "markdown",
      "source": [
        "0.90 great accuracy."
      ],
      "metadata": {
        "id": "OQrTAwgE_bSe"
      }
    },
    {
      "cell_type": "code",
      "source": [
        "from sklearn.inspection import permutation_importance\n",
        "classifier.feature_importances_"
      ],
      "metadata": {
        "colab": {
          "base_uri": "https://localhost:8080/"
        },
        "id": "UrwzvHxfHbeM",
        "outputId": "4b6451fe-9bb2-44f1-d03b-63a54c6a7373"
      },
      "execution_count": 151,
      "outputs": [
        {
          "output_type": "execute_result",
          "data": {
            "text/plain": [
              "array([0.31592495, 0.02604356, 0.08256918, 0.09667396, 0.03792439,\n",
              "       0.05457997, 0.00710261, 0.02450094, 0.00836603, 0.00257739,\n",
              "       0.00036916, 0.00171058, 0.16516773, 0.10159303, 0.00760125,\n",
              "       0.00783943, 0.00615577, 0.00057721, 0.00059436, 0.00446673,\n",
              "       0.01879139, 0.02887037])"
            ]
          },
          "metadata": {},
          "execution_count": 151
        }
      ]
    },
    {
      "cell_type": "code",
      "source": [
        "feature_names = X.columns\n",
        "sorted_idx = classifier.feature_importances_.argsort()\n",
        "\n",
        "plt.barh(feature_names, classifier.feature_importances_)\n",
        "#plt.figure(figsize= (6000,9000))\n",
        "plt.savefig('FeatureSelection.png', dpi=300)\n",
        "plt.show()\n",
        "\n",
        "#importances = classifier.feature_importances_\n",
        "#print(importances)"
      ],
      "metadata": {
        "colab": {
          "base_uri": "https://localhost:8080/",
          "height": 265
        },
        "id": "9BVtGO5uHDWd",
        "outputId": "fee6d582-aa8d-483b-d2ec-a8b1a0afdfde"
      },
      "execution_count": 152,
      "outputs": [
        {
          "output_type": "display_data",
          "data": {
            "text/plain": [
              "<Figure size 432x288 with 1 Axes>"
            ],
            "image/png": "[encoded data removed]"
          },
          "metadata": {
            "needs_background": "light"
          }
        }
      ]
    },
    {
      "cell_type": "code",
      "source": [
        "# Apply the model to the test set.\n",
        "rf_pred_class_test = classifier.predict(X_valid)\n",
        "rf_probs_test = classifier.predict_proba(X_valid)"
      ],
      "metadata": {
        "id": "Aa1jgYvBALze"
      },
      "execution_count": 154,
      "outputs": []
    },
    {
      "cell_type": "code",
      "source": [
        "# Get the predicted probabilities for each class\n",
        "probs = classifier.predict_proba(X_valid)\n",
        "\n",
        "# Apply a custom threshold to the probabilities (we played around with this)\n",
        "threshold = 0.44\n",
        "rf_pred_class_test = (probs[:, 1] > threshold).astype(int)"
      ],
      "metadata": {
        "id": "AKpi7XzpAU-2"
      },
      "execution_count": 156,
      "outputs": []
    },
    {
      "cell_type": "code",
      "source": [
        "# Calculate confusion matrix\n",
        "from sklearn.metrics import accuracy_score, roc_auc_score, confusion_matrix, roc_curve\n",
        "\n",
        "confusion_matrix_rf = confusion_matrix(y_true = y_valid, \n",
        "                    y_pred = rf_pred_class_test)\n",
        "\n",
        "# Turn matrix to percentages\n",
        "confusion_matrix_rf = confusion_matrix_rf.astype('float') / confusion_matrix_rf.sum(axis=1)[:, np.newaxis]\n",
        "\n",
        "# Turn to dataframe\n",
        "df_cm = pd.DataFrame(\n",
        "        confusion_matrix_rf, index=['canceled', 'not canceled'], columns=['canceled', 'not canceled'], \n",
        ")\n",
        "\n",
        "# Parameters of the image\n",
        "figsize = (10,7)\n",
        "fontsize=14\n",
        "\n",
        "# Create image\n",
        "fig = plt.figure(figsize=figsize)\n",
        "heatmap = sns.heatmap(df_cm, annot=True, fmt='.2f')\n",
        "\n",
        "# Make it nicer\n",
        "heatmap.yaxis.set_ticklabels(heatmap.yaxis.get_ticklabels(), rotation=0, \n",
        "                             ha='right', fontsize=fontsize)\n",
        "heatmap.xaxis.set_ticklabels(heatmap.xaxis.get_ticklabels(), rotation=45,\n",
        "                             ha='right', fontsize=fontsize)\n",
        "\n",
        "# Add labels\n",
        "plt.ylabel('True Label')\n",
        "plt.xlabel('Predicted Label')\n",
        "\n",
        "# show plot\n",
        "plt.show()"
      ],
      "metadata": {
        "colab": {
          "base_uri": "https://localhost:8080/",
          "height": 506
        },
        "id": "dDNbRWx9AG7M",
        "outputId": "3146dfb1-810b-4e4b-b665-a07bb6700dbf"
      },
      "execution_count": 157,
      "outputs": [
        {
          "output_type": "display_data",
          "data": {
            "text/plain": [
              "<Figure size 720x504 with 2 Axes>"
            ],
            "image/png": "[encoded data removed]"
          },
          "metadata": {
            "needs_background": "light"
          }
        }
      ]
    },
    {
      "cell_type": "code",
      "source": [
        "# Calculate the ROC curve points\n",
        "fpr, tpr, thresholds = roc_curve(y_valid, rf_probs_test[:,1])\n",
        "\n",
        "# Save the AUC in a variable to show it \n",
        "auc = np.round(roc_auc_score(y_true = y_valid, \n",
        "                             y_score = rf_probs_test[:,1]),\n",
        "              decimals = 3)\n",
        "\n",
        "# Create and show the plot\n",
        "plt.plot(fpr,tpr,label=\"Hotel Cancelations, auc=\"+str(auc))\n",
        "plt.legend(loc=4)\n",
        "plt.show()"
      ],
      "metadata": {
        "colab": {
          "base_uri": "https://localhost:8080/",
          "height": 265
        },
        "id": "QWLcS6tlAsxO",
        "outputId": "9d252f5d-b199-466c-d874-517ec84cefb5"
      },
      "execution_count": 159,
      "outputs": [
        {
          "output_type": "display_data",
          "data": {
            "text/plain": [
              "<Figure size 432x288 with 1 Axes>"
            ],
            "image/png": "[encoded data removed]"
          },
          "metadata": {
            "needs_background": "light"
          }
        }
      ]
    },
    {
      "cell_type": "code",
      "source": [
        "from sklearn.metrics import precision_score, recall_score, f1_score"
      ],
      "metadata": {
        "id": "3IMNFBGPBo1L"
      },
      "execution_count": 165,
      "outputs": []
    },
    {
      "cell_type": "code",
      "source": [
        "# Get the predicted probabilities for each class\n",
        "probs = classifier.predict_proba(X_valid)\n",
        "\n",
        "# Apply a custom threshold to the probabilities\n",
        "threshold = 0.53\n",
        "y_pred = (probs[:, 1] > threshold).astype(int)"
      ],
      "metadata": {
        "id": "V6UJg8CDB0yM"
      },
      "execution_count": 167,
      "outputs": []
    },
    {
      "cell_type": "code",
      "source": [
        "# calculate precision, recall, and F1 score\n",
        "precision = precision_score(y_valid, y_pred)\n",
        "recall = recall_score(y_valid, y_pred)\n",
        "f1 = f1_score(y_valid, y_pred)\n",
        "\n",
        "# print the results\n",
        "print(\"Precision: {:.4f}\".format(precision))\n",
        "print(\"Recall: {:.4f}\".format(recall))\n",
        "print(\"F1 Score: {:.4f}\".format(f1))"
      ],
      "metadata": {
        "colab": {
          "base_uri": "https://localhost:8080/"
        },
        "id": "deIiGq33A215",
        "outputId": "85253231-0e0e-4352-bd54-12ea3290dd22"
      },
      "execution_count": 168,
      "outputs": [
        {
          "output_type": "stream",
          "name": "stdout",
          "text": [
            "Precision: 0.8929\n",
            "Recall: 0.7925\n",
            "F1 Score: 0.8397\n"
          ]
        }
      ]
    },
    {
      "cell_type": "markdown",
      "source": [
        "### Great scores."
      ],
      "metadata": {
        "id": "Cmm2yAlhCCwM"
      }
    },
    {
      "cell_type": "code",
      "source": [
        "from xgboost import XGBClassifier"
      ],
      "metadata": {
        "id": "UTAAZS-bCKLL"
      },
      "execution_count": 117,
      "outputs": []
    },
    {
      "cell_type": "code",
      "source": [
        "classifier2 = XGBClassifier()\n",
        "\n",
        "classifier2.fit(X_train,y_train)"
      ],
      "metadata": {
        "colab": {
          "base_uri": "https://localhost:8080/",
          "height": 248
        },
        "id": "GUCuFN6SBkUk",
        "outputId": "73e3f740-1a0f-4d1c-a716-de749ac86a64"
      },
      "execution_count": 118,
      "outputs": [
        {
          "output_type": "execute_result",
          "data": {
            "text/plain": [
              "XGBClassifier(base_score=None, booster=None, callbacks=None,\n",
              "              colsample_bylevel=None, colsample_bynode=None,\n",
              "              colsample_bytree=None, early_stopping_rounds=None,\n",
              "              enable_categorical=False, eval_metric=None, feature_types=None,\n",
              "              gamma=None, gpu_id=None, grow_policy=None, importance_type=None,\n",
              "              interaction_constraints=None, learning_rate=None, max_bin=None,\n",
              "              max_cat_threshold=None, max_cat_to_onehot=None,\n",
              "              max_delta_step=None, max_depth=None, max_leaves=None,\n",
              "              min_child_weight=None, missing=nan, monotone_constraints=None,\n",
              "              n_estimators=100, n_jobs=None, num_parallel_tree=None,\n",
              "              predictor=None, random_state=None, ...)"
            ],
            "text/html": [
              "<style>#sk-container-id-4 {color: black;background-color: white;}#sk-container-id-4 pre{padding: 0;}#sk-container-id-4 div.sk-toggleable {background-color: white;}#sk-container-id-4 label.sk-toggleable__label {cursor: pointer;display: block;width: 100%;margin-bottom: 0;padding: 0.3em;box-sizing: border-box;text-align: center;}#sk-container-id-4 label.sk-toggleable__label-arrow:before {content: \"▸\";float: left;margin-right: 0.25em;color: #696969;}#sk-container-id-4 label.sk-toggleable__label-arrow:hover:before {color: black;}#sk-container-id-4 div.sk-estimator:hover label.sk-toggleable__label-arrow:before {color: black;}#sk-container-id-4 div.sk-toggleable__content {max-height: 0;max-width: 0;overflow: hidden;text-align: left;background-color: #f0f8ff;}#sk-container-id-4 div.sk-toggleable__content pre {margin: 0.2em;color: black;border-radius: 0.25em;background-color: #f0f8ff;}#sk-container-id-4 input.sk-toggleable__control:checked~div.sk-toggleable__content {max-height: 200px;max-width: 100%;overflow: auto;}#sk-container-id-4 input.sk-toggleable__control:checked~label.sk-toggleable__label-arrow:before {content: \"▾\";}#sk-container-id-4 div.sk-estimator input.sk-toggleable__control:checked~label.sk-toggleable__label {background-color: #d4ebff;}#sk-container-id-4 div.sk-label input.sk-toggleable__control:checked~label.sk-toggleable__label {background-color: #d4ebff;}#sk-container-id-4 input.sk-hidden--visually {border: 0;clip: rect(1px 1px 1px 1px);clip: rect(1px, 1px, 1px, 1px);height: 1px;margin: -1px;overflow: hidden;padding: 0;position: absolute;width: 1px;}#sk-container-id-4 div.sk-estimator {font-family: monospace;background-color: #f0f8ff;border: 1px dotted black;border-radius: 0.25em;box-sizing: border-box;margin-bottom: 0.5em;}#sk-container-id-4 div.sk-estimator:hover {background-color: #d4ebff;}#sk-container-id-4 div.sk-parallel-item::after {content: \"\";width: 100%;border-bottom: 1px solid gray;flex-grow: 1;}#sk-container-id-4 div.sk-label:hover label.sk-toggleable__label {background-color: #d4ebff;}#sk-container-id-4 div.sk-serial::before {content: \"\";position: absolute;border-left: 1px solid gray;box-sizing: border-box;top: 0;bottom: 0;left: 50%;z-index: 0;}#sk-container-id-4 div.sk-serial {display: flex;flex-direction: column;align-items: center;background-color: white;padding-right: 0.2em;padding-left: 0.2em;position: relative;}#sk-container-id-4 div.sk-item {position: relative;z-index: 1;}#sk-container-id-4 div.sk-parallel {display: flex;align-items: stretch;justify-content: center;background-color: white;position: relative;}#sk-container-id-4 div.sk-item::before, #sk-container-id-4 div.sk-parallel-item::before {content: \"\";position: absolute;border-left: 1px solid gray;box-sizing: border-box;top: 0;bottom: 0;left: 50%;z-index: -1;}#sk-container-id-4 div.sk-parallel-item {display: flex;flex-direction: column;z-index: 1;position: relative;background-color: white;}#sk-container-id-4 div.sk-parallel-item:first-child::after {align-self: flex-end;width: 50%;}#sk-container-id-4 div.sk-parallel-item:last-child::after {align-self: flex-start;width: 50%;}#sk-container-id-4 div.sk-parallel-item:only-child::after {width: 0;}#sk-container-id-4 div.sk-dashed-wrapped {border: 1px dashed gray;margin: 0 0.4em 0.5em 0.4em;box-sizing: border-box;padding-bottom: 0.4em;background-color: white;}#sk-container-id-4 div.sk-label label {font-family: monospace;font-weight: bold;display: inline-block;line-height: 1.2em;}#sk-container-id-4 div.sk-label-container {text-align: center;}#sk-container-id-4 div.sk-container {/* jupyter's `normalize.less` sets `[hidden] { display: none; }` but bootstrap.min.css set `[hidden] { display: none !important; }` so we also need the `!important` here to be able to override the default hidden behavior on the sphinx rendered scikit-learn.org. See: https://github.com/scikit-learn/scikit-learn/issues/21755 */display: inline-block !important;position: relative;}#sk-container-id-4 div.sk-text-repr-fallback {display: none;}</style><div id=\"sk-container-id-4\" class=\"sk-top-container\"><div class=\"sk-text-repr-fallback\"><pre>XGBClassifier(base_score=None, booster=None, callbacks=None,\n",
              "              colsample_bylevel=None, colsample_bynode=None,\n",
              "              colsample_bytree=None, early_stopping_rounds=None,\n",
              "              enable_categorical=False, eval_metric=None, feature_types=None,\n",
              "              gamma=None, gpu_id=None, grow_policy=None, importance_type=None,\n",
              "              interaction_constraints=None, learning_rate=None, max_bin=None,\n",
              "              max_cat_threshold=None, max_cat_to_onehot=None,\n",
              "              max_delta_step=None, max_depth=None, max_leaves=None,\n",
              "              min_child_weight=None, missing=nan, monotone_constraints=None,\n",
              "              n_estimators=100, n_jobs=None, num_parallel_tree=None,\n",
              "              predictor=None, random_state=None, ...)</pre><b>In a Jupyter environment, please rerun this cell to show the HTML representation or trust the notebook. <br />On GitHub, the HTML representation is unable to render, please try loading this page with nbviewer.org.</b></div><div class=\"sk-container\" hidden><div class=\"sk-item\"><div class=\"sk-estimator sk-toggleable\"><input class=\"sk-toggleable__control sk-hidden--visually\" id=\"sk-estimator-id-4\" type=\"checkbox\" checked><label for=\"sk-estimator-id-4\" class=\"sk-toggleable__label sk-toggleable__label-arrow\">XGBClassifier</label><div class=\"sk-toggleable__content\"><pre>XGBClassifier(base_score=None, booster=None, callbacks=None,\n",
              "              colsample_bylevel=None, colsample_bynode=None,\n",
              "              colsample_bytree=None, early_stopping_rounds=None,\n",
              "              enable_categorical=False, eval_metric=None, feature_types=None,\n",
              "              gamma=None, gpu_id=None, grow_policy=None, importance_type=None,\n",
              "              interaction_constraints=None, learning_rate=None, max_bin=None,\n",
              "              max_cat_threshold=None, max_cat_to_onehot=None,\n",
              "              max_delta_step=None, max_depth=None, max_leaves=None,\n",
              "              min_child_weight=None, missing=nan, monotone_constraints=None,\n",
              "              n_estimators=100, n_jobs=None, num_parallel_tree=None,\n",
              "              predictor=None, random_state=None, ...)</pre></div></div></div></div></div>"
            ]
          },
          "metadata": {},
          "execution_count": 118
        }
      ]
    },
    {
      "cell_type": "code",
      "source": [
        "# make prediction \n",
        "preds = classifier2.predict(X_valid) \n",
        "# check performance\n",
        "accuracy_score(preds,y_valid)"
      ],
      "metadata": {
        "colab": {
          "base_uri": "https://localhost:8080/"
        },
        "id": "-08KT4d0Dpkf",
        "outputId": "01c0af40-0129-4e21-9d57-670e88be76a8"
      },
      "execution_count": 119,
      "outputs": [
        {
          "output_type": "execute_result",
          "data": {
            "text/plain": [
              "0.8883336205410994"
            ]
          },
          "metadata": {},
          "execution_count": 119
        }
      ]
    },
    {
      "cell_type": "code",
      "source": [],
      "metadata": {
        "id": "u6Bv80Gc_zeS"
      },
      "execution_count": null,
      "outputs": []
    },
    {
      "cell_type": "markdown",
      "source": [
        "# AutoML Feature Selection"
      ],
      "metadata": {
        "id": "PZyhXr1mEAGM"
      }
    },
    {
      "cell_type": "code",
      "source": [
        "!pip install Pillow==9.0.0"
      ],
      "metadata": {
        "colab": {
          "base_uri": "https://localhost:8080/"
        },
        "id": "okVcmYmK9ZwD",
        "outputId": "106070b1-0c2e-49a8-f017-1a20522eb367"
      },
      "execution_count": 95,
      "outputs": [
        {
          "output_type": "stream",
          "name": "stdout",
          "text": [
            "Looking in indexes: https://pypi.org/simple, https://us-python.pkg.dev/colab-wheels/public/simple/\n",
            "Requirement already satisfied: Pillow==9.0.0 in /usr/local/lib/python3.9/dist-packages (9.0.0)\n"
          ]
        }
      ]
    },
    {
      "cell_type": "code",
      "source": [
        "# automatic feature selection by using featurewiz package\n",
        "target = 'BookingStatus'\n",
        "\n",
        "features, train = featurewiz(df, target, corr_limit=0.7, verbose=2, sep=\",\", header=0,test_data=\"\", feature_engg=\"\", category_encoders=\"\")"
      ],
      "metadata": {
        "colab": {
          "base_uri": "https://localhost:8080/",
          "height": 1000
        },
        "id": "z_DOi-ZWDxem",
        "outputId": "2d60342d-78bd-4ef6-f9e9-1cc89c139835"
      },
      "execution_count": 120,
      "outputs": [
        {
          "output_type": "stream",
          "name": "stdout",
          "text": [
            "############################################################################################\n",
            "############       F A S T   F E A T U R E  E N G G    A N D    S E L E C T I O N ! ########\n",
            "# Be judicious with featurewiz. Don't use it to create too many un-interpretable features! #\n",
            "############################################################################################\n",
            "featurewiz has selected 0.7 as the correlation limit. Change this limit to fit your needs...\n",
            "Skipping feature engineering since no feature_engg input...\n",
            "Skipping category encoding since no category encoders specified in input...\n",
            "#### Single_Label Binary_Classification problem ####\n",
            "    Loaded train data. Shape = (29015, 23)\n",
            "    Some column names had special characters which were removed...\n",
            "#### Single_Label Binary_Classification problem ####\n",
            "No test data filename given...\n",
            "Classifying features using a random sample of 10000 rows from dataset...\n",
            "#### Single_Label Binary_Classification problem ####\n",
            "    loading a random sample of 10000 rows into pandas for EDA\n",
            "#######################################################################################\n",
            "######################## C L A S S I F Y I N G  V A R I A B L E S  ####################\n",
            "#######################################################################################\n",
            "        No variables were removed since no ID or low-information variables found in data set\n",
            "GPU active on this device\n",
            "    Tuning XGBoost using GPU hyper-parameters. This will take time...\n",
            "    After removing redundant variables from further processing, features left = 22\n",
            "No interactions created for categorical vars since feature engg does not specify it\n",
            "#######################################################################################\n",
            "#####  Searching for Uncorrelated List Of Variables (SULOV) in 22 features ############\n",
            "#######################################################################################\n",
            "    there are no null values in dataset...\n",
            "    Removing (2) highly correlated variables:\n",
            "    ['MarketSegment_Offline', 'MealPlan_NotSelected']\n",
            "    Following (20) vars selected: ['ArrivalDate', 'ArrivalMonth', 'ArrivalYear', 'AvgRoomPrice', 'LeadTime', 'MarketSegment_Aviation', 'MarketSegment_Complementary', 'MarketSegment_Corporate', 'MealPlan_MealPlan2', 'NumAdults', 'NumChildren', 'NumPrevCancellations', 'NumPreviousNonCancelled', 'NumWeekNights', 'NumWeekendNights', 'Parking', 'RepeatedGuest', 'SpecialRequests', 'MarketSegment_Online', 'MealPlan_MealPlan1']\n"
          ]
        },
        {
          "output_type": "display_data",
          "data": {
            "text/plain": [
              "<Figure size 1080x360 with 1 Axes>"
            ],
            "image/png": "[encoded data removed]"
          },
          "metadata": {}
        },
        {
          "output_type": "stream",
          "name": "stdout",
          "text": [
            "Time taken for SULOV method = 1 seconds\n",
            "    Adding 0 categorical variables to reduced numeric variables  of 20\n",
            "Final list of selected 20 vars after SULOV = ['ArrivalDate', 'ArrivalMonth', 'ArrivalYear', 'AvgRoomPrice', 'LeadTime', 'MarketSegment_Aviation', 'MarketSegment_Complementary', 'MarketSegment_Corporate', 'MealPlan_MealPlan2', 'NumAdults', 'NumChildren', 'NumPrevCancellations', 'NumPreviousNonCancelled', 'NumWeekNights', 'NumWeekendNights', 'Parking', 'RepeatedGuest', 'SpecialRequests', 'MarketSegment_Online', 'MealPlan_MealPlan1']\n",
            "Converting all features to numeric before sending to XGBoost...\n",
            "#######################################################################################\n",
            "#####    R E C U R S I V E   X G B O O S T : F E A T U R E   S E L E C T I O N  #######\n",
            "#######################################################################################\n",
            "    using regular XGBoost\n",
            "Current number of predictors before recursive XGBoost = 20 \n",
            "    Taking top 5 features per iteration...\n",
            "    XGBoost version using 1.7.4 as tree method: gpu_hist\n",
            "Number of booster rounds = 100\n",
            "        using 20 variables...\n",
            "Regular XGBoost is crashing due to: [22:43:30] ../src/gbm/gbtree.cc:625: Check failed: common::AllVisibleGPUs() >= 1 (0 vs. 1) : No visible GPU is found for XGBoost.\n",
            "Stack trace:\n",
            "  [bt] (0) /usr/local/lib/python3.9/dist-packages/xgboost/lib/libxgboost.so(+0x29c069) [0x7f72d49ad069]\n",
            "  [bt] (1) /usr/local/lib/python3.9/dist-packages/xgboost/lib/libxgboost.so(+0x29d312) [0x7f72d49ae312]\n",
            "  [bt] (2) /usr/local/lib/python3.9/dist-packages/xgboost/lib/libxgboost.so(+0x29d6ca) [0x7f72d49ae6ca]\n",
            "  [bt] (3) /usr/local/lib/python3.9/dist-packages/xgboost/lib/libxgboost.so(+0x2dc4bd) [0x7f72d49ed4bd]\n",
            "  [bt] (4) /usr/local/lib/python3.9/dist-packages/xgboost/lib/libxgboost.so(XGBoosterUpdateOneIter+0x70) [0x7f72d483ebe0]\n",
            "  [bt] (5) /lib/x86_64-linux-gnu/libffi.so.7(+0x6ff5) [0x7f733892fff5]\n",
            "  [bt] (6) /lib/x86_64-linux-gnu/libffi.so.7(+0x640a) [0x7f733892f40a]\n",
            "  [bt] (7) /usr/lib/python3.9/lib-dynload/_ctypes.cpython-39-x86_64-linux-gnu.so(+0x12a55) [0x7f7337a1fa55]\n",
            "  [bt] (8) /usr/lib/python3.9/lib-dynload/_ctypes.cpython-39-x86_64-linux-gnu.so(+0x12e9d) [0x7f7337a1fe9d]\n",
            "\n",
            "\n",
            "[22:43:30] ../src/gbm/gbtree.cc:625: Check failed: common::AllVisibleGPUs() >= 1 (0 vs. 1) : No visible GPU is found for XGBoost.\n",
            "Stack trace:\n",
            "  [bt] (0) /usr/local/lib/python3.9/dist-packages/xgboost/lib/libxgboost.so(+0x29c069) [0x7f72d49ad069]\n",
            "  [bt] (1) /usr/local/lib/python3.9/dist-packages/xgboost/lib/libxgboost.so(+0x29d312) [0x7f72d49ae312]\n",
            "  [bt] (2) /usr/local/lib/python3.9/dist-packages/xgboost/lib/libxgboost.so(+0x29d6ca) [0x7f72d49ae6ca]\n",
            "  [bt] (3) /usr/local/lib/python3.9/dist-packages/xgboost/lib/libxgboost.so(+0x2dc4bd) [0x7f72d49ed4bd]\n",
            "  [bt] (4) /usr/local/lib/python3.9/dist-packages/xgboost/lib/libxgboost.so(XGBoosterUpdateOneIter+0x70) [0x7f72d483ebe0]\n",
            "  [bt] (5) /lib/x86_64-linux-gnu/libffi.so.7(+0x6ff5) [0x7f733892fff5]\n",
            "  [bt] (6) /lib/x86_64-linux-gnu/libffi.so.7(+0x640a) [0x7f733892f40a]\n",
            "  [bt] (7) /usr/lib/python3.9/lib-dynload/_ctypes.cpython-39-x86_64-linux-gnu.so(+0x12a55) [0x7f7337a1fa55]\n",
            "  [bt] (8) /usr/lib/python3.9/lib-dynload/_ctypes.cpython-39-x86_64-linux-gnu.so(+0x12e9d) [0x7f7337a1fe9d]\n",
            "\n",
            "\n",
            "            selecting 4 features in this iteration\n",
            "            Time taken for regular XGBoost feature selection = 0 seconds\n",
            "        using 16 variables...\n",
            "Regular XGBoost is crashing due to: [22:43:31] ../src/gbm/gbtree.cc:625: Check failed: common::AllVisibleGPUs() >= 1 (0 vs. 1) : No visible GPU is found for XGBoost.\n",
            "Stack trace:\n",
            "  [bt] (0) /usr/local/lib/python3.9/dist-packages/xgboost/lib/libxgboost.so(+0x29c069) [0x7f72d49ad069]\n",
            "  [bt] (1) /usr/local/lib/python3.9/dist-packages/xgboost/lib/libxgboost.so(+0x29d312) [0x7f72d49ae312]\n",
            "  [bt] (2) /usr/local/lib/python3.9/dist-packages/xgboost/lib/libxgboost.so(+0x29d6ca) [0x7f72d49ae6ca]\n",
            "  [bt] (3) /usr/local/lib/python3.9/dist-packages/xgboost/lib/libxgboost.so(+0x2dc4bd) [0x7f72d49ed4bd]\n",
            "  [bt] (4) /usr/local/lib/python3.9/dist-packages/xgboost/lib/libxgboost.so(XGBoosterUpdateOneIter+0x70) [0x7f72d483ebe0]\n",
            "  [bt] (5) /lib/x86_64-linux-gnu/libffi.so.7(+0x6ff5) [0x7f733892fff5]\n",
            "  [bt] (6) /lib/x86_64-linux-gnu/libffi.so.7(+0x640a) [0x7f733892f40a]\n",
            "  [bt] (7) /usr/lib/python3.9/lib-dynload/_ctypes.cpython-39-x86_64-linux-gnu.so(+0x12a55) [0x7f7337a1fa55]\n",
            "  [bt] (8) /usr/lib/python3.9/lib-dynload/_ctypes.cpython-39-x86_64-linux-gnu.so(+0x12e9d) [0x7f7337a1fe9d]\n",
            "\n",
            "\n",
            "[22:43:31] ../src/gbm/gbtree.cc:625: Check failed: common::AllVisibleGPUs() >= 1 (0 vs. 1) : No visible GPU is found for XGBoost.\n",
            "Stack trace:\n",
            "  [bt] (0) /usr/local/lib/python3.9/dist-packages/xgboost/lib/libxgboost.so(+0x29c069) [0x7f72d49ad069]\n",
            "  [bt] (1) /usr/local/lib/python3.9/dist-packages/xgboost/lib/libxgboost.so(+0x29d312) [0x7f72d49ae312]\n",
            "  [bt] (2) /usr/local/lib/python3.9/dist-packages/xgboost/lib/libxgboost.so(+0x29d6ca) [0x7f72d49ae6ca]\n",
            "  [bt] (3) /usr/local/lib/python3.9/dist-packages/xgboost/lib/libxgboost.so(+0x2dc4bd) [0x7f72d49ed4bd]\n",
            "  [bt] (4) /usr/local/lib/python3.9/dist-packages/xgboost/lib/libxgboost.so(XGBoosterUpdateOneIter+0x70) [0x7f72d483ebe0]\n",
            "  [bt] (5) /lib/x86_64-linux-gnu/libffi.so.7(+0x6ff5) [0x7f733892fff5]\n",
            "  [bt] (6) /lib/x86_64-linux-gnu/libffi.so.7(+0x640a) [0x7f733892f40a]\n",
            "  [bt] (7) /usr/lib/python3.9/lib-dynload/_ctypes.cpython-39-x86_64-linux-gnu.so(+0x12a55) [0x7f7337a1fa55]\n",
            "  [bt] (8) /usr/lib/python3.9/lib-dynload/_ctypes.cpython-39-x86_64-linux-gnu.so(+0x12e9d) [0x7f7337a1fe9d]\n",
            "\n",
            "\n",
            "            selecting 4 features in this iteration\n",
            "            Time taken for regular XGBoost feature selection = 0 seconds\n",
            "        using 12 variables...\n",
            "Regular XGBoost is crashing due to: [22:43:31] ../src/gbm/gbtree.cc:625: Check failed: common::AllVisibleGPUs() >= 1 (0 vs. 1) : No visible GPU is found for XGBoost.\n",
            "Stack trace:\n",
            "  [bt] (0) /usr/local/lib/python3.9/dist-packages/xgboost/lib/libxgboost.so(+0x29c069) [0x7f72d49ad069]\n",
            "  [bt] (1) /usr/local/lib/python3.9/dist-packages/xgboost/lib/libxgboost.so(+0x29d312) [0x7f72d49ae312]\n",
            "  [bt] (2) /usr/local/lib/python3.9/dist-packages/xgboost/lib/libxgboost.so(+0x29d6ca) [0x7f72d49ae6ca]\n",
            "  [bt] (3) /usr/local/lib/python3.9/dist-packages/xgboost/lib/libxgboost.so(+0x2dc4bd) [0x7f72d49ed4bd]\n",
            "  [bt] (4) /usr/local/lib/python3.9/dist-packages/xgboost/lib/libxgboost.so(XGBoosterUpdateOneIter+0x70) [0x7f72d483ebe0]\n",
            "  [bt] (5) /lib/x86_64-linux-gnu/libffi.so.7(+0x6ff5) [0x7f733892fff5]\n",
            "  [bt] (6) /lib/x86_64-linux-gnu/libffi.so.7(+0x640a) [0x7f733892f40a]\n",
            "  [bt] (7) /usr/lib/python3.9/lib-dynload/_ctypes.cpython-39-x86_64-linux-gnu.so(+0x12a55) [0x7f7337a1fa55]\n",
            "  [bt] (8) /usr/lib/python3.9/lib-dynload/_ctypes.cpython-39-x86_64-linux-gnu.so(+0x12e9d) [0x7f7337a1fe9d]\n",
            "\n",
            "\n",
            "[22:43:31] ../src/gbm/gbtree.cc:625: Check failed: common::AllVisibleGPUs() >= 1 (0 vs. 1) : No visible GPU is found for XGBoost.\n",
            "Stack trace:\n",
            "  [bt] (0) /usr/local/lib/python3.9/dist-packages/xgboost/lib/libxgboost.so(+0x29c069) [0x7f72d49ad069]\n",
            "  [bt] (1) /usr/local/lib/python3.9/dist-packages/xgboost/lib/libxgboost.so(+0x29d312) [0x7f72d49ae312]\n",
            "  [bt] (2) /usr/local/lib/python3.9/dist-packages/xgboost/lib/libxgboost.so(+0x29d6ca) [0x7f72d49ae6ca]\n",
            "  [bt] (3) /usr/local/lib/python3.9/dist-packages/xgboost/lib/libxgboost.so(+0x2dc4bd) [0x7f72d49ed4bd]\n",
            "  [bt] (4) /usr/local/lib/python3.9/dist-packages/xgboost/lib/libxgboost.so(XGBoosterUpdateOneIter+0x70) [0x7f72d483ebe0]\n",
            "  [bt] (5) /lib/x86_64-linux-gnu/libffi.so.7(+0x6ff5) [0x7f733892fff5]\n",
            "  [bt] (6) /lib/x86_64-linux-gnu/libffi.so.7(+0x640a) [0x7f733892f40a]\n",
            "  [bt] (7) /usr/lib/python3.9/lib-dynload/_ctypes.cpython-39-x86_64-linux-gnu.so(+0x12a55) [0x7f7337a1fa55]\n",
            "  [bt] (8) /usr/lib/python3.9/lib-dynload/_ctypes.cpython-39-x86_64-linux-gnu.so(+0x12e9d) [0x7f7337a1fe9d]\n",
            "\n",
            "\n",
            "            selecting 4 features in this iteration\n",
            "            Time taken for regular XGBoost feature selection = 0 seconds\n",
            "        using 8 variables...\n",
            "Regular XGBoost is crashing due to: [22:43:31] ../src/gbm/gbtree.cc:625: Check failed: common::AllVisibleGPUs() >= 1 (0 vs. 1) : No visible GPU is found for XGBoost.\n",
            "Stack trace:\n",
            "  [bt] (0) /usr/local/lib/python3.9/dist-packages/xgboost/lib/libxgboost.so(+0x29c069) [0x7f72d49ad069]\n",
            "  [bt] (1) /usr/local/lib/python3.9/dist-packages/xgboost/lib/libxgboost.so(+0x29d312) [0x7f72d49ae312]\n",
            "  [bt] (2) /usr/local/lib/python3.9/dist-packages/xgboost/lib/libxgboost.so(+0x29d6ca) [0x7f72d49ae6ca]\n",
            "  [bt] (3) /usr/local/lib/python3.9/dist-packages/xgboost/lib/libxgboost.so(+0x2dc4bd) [0x7f72d49ed4bd]\n",
            "  [bt] (4) /usr/local/lib/python3.9/dist-packages/xgboost/lib/libxgboost.so(XGBoosterUpdateOneIter+0x70) [0x7f72d483ebe0]\n",
            "  [bt] (5) /lib/x86_64-linux-gnu/libffi.so.7(+0x6ff5) [0x7f733892fff5]\n",
            "  [bt] (6) /lib/x86_64-linux-gnu/libffi.so.7(+0x640a) [0x7f733892f40a]\n",
            "  [bt] (7) /usr/lib/python3.9/lib-dynload/_ctypes.cpython-39-x86_64-linux-gnu.so(+0x12a55) [0x7f7337a1fa55]\n",
            "  [bt] (8) /usr/lib/python3.9/lib-dynload/_ctypes.cpython-39-x86_64-linux-gnu.so(+0x12e9d) [0x7f7337a1fe9d]\n",
            "\n",
            "\n",
            "[22:43:31] ../src/gbm/gbtree.cc:625: Check failed: common::AllVisibleGPUs() >= 1 (0 vs. 1) : No visible GPU is found for XGBoost.\n",
            "Stack trace:\n",
            "  [bt] (0) /usr/local/lib/python3.9/dist-packages/xgboost/lib/libxgboost.so(+0x29c069) [0x7f72d49ad069]\n",
            "  [bt] (1) /usr/local/lib/python3.9/dist-packages/xgboost/lib/libxgboost.so(+0x29d312) [0x7f72d49ae312]\n",
            "  [bt] (2) /usr/local/lib/python3.9/dist-packages/xgboost/lib/libxgboost.so(+0x29d6ca) [0x7f72d49ae6ca]\n",
            "  [bt] (3) /usr/local/lib/python3.9/dist-packages/xgboost/lib/libxgboost.so(+0x2dc4bd) [0x7f72d49ed4bd]\n",
            "  [bt] (4) /usr/local/lib/python3.9/dist-packages/xgboost/lib/libxgboost.so(XGBoosterUpdateOneIter+0x70) [0x7f72d483ebe0]\n",
            "  [bt] (5) /lib/x86_64-linux-gnu/libffi.so.7(+0x6ff5) [0x7f733892fff5]\n",
            "  [bt] (6) /lib/x86_64-linux-gnu/libffi.so.7(+0x640a) [0x7f733892f40a]\n",
            "  [bt] (7) /usr/lib/python3.9/lib-dynload/_ctypes.cpython-39-x86_64-linux-gnu.so(+0x12a55) [0x7f7337a1fa55]\n",
            "  [bt] (8) /usr/lib/python3.9/lib-dynload/_ctypes.cpython-39-x86_64-linux-gnu.so(+0x12e9d) [0x7f7337a1fe9d]\n",
            "\n",
            "\n",
            "            selecting 2 features in this iteration\n",
            "            Time taken for regular XGBoost feature selection = 0 seconds\n"
          ]
        },
        {
          "output_type": "display_data",
          "data": {
            "text/plain": [
              "<Figure size 720x720 with 4 Axes>"
            ],
            "image/png": "[encoded data removed]"
          },
          "metadata": {
            "needs_background": "light"
          }
        },
        {
          "output_type": "stream",
          "name": "stdout",
          "text": [
            "    Completed XGBoost feature selection in 1 seconds\n",
            "#######################################################################################\n",
            "#####          F E A T U R E   S E L E C T I O N   C O M P L E T E D            #######\n",
            "#######################################################################################\n",
            "Selected 6 important features:\n",
            "['MarketSegment_Online', 'Parking', 'LeadTime', 'SpecialRequests', 'RepeatedGuest', 'MealPlan_MealPlan2']\n",
            "Total Time taken for featurewiz selection = 2 seconds\n",
            "Output contains a list of 6 important features and a train dataframe\n"
          ]
        }
      ]
    },
    {
      "cell_type": "code",
      "source": [
        "print(features)"
      ],
      "metadata": {
        "colab": {
          "base_uri": "https://localhost:8080/"
        },
        "id": "I3Qr6Pd4D-5c",
        "outputId": "45a0d80d-1ca1-4fee-c767-5a30d432051f"
      },
      "execution_count": 121,
      "outputs": [
        {
          "output_type": "stream",
          "name": "stdout",
          "text": [
            "['MarketSegment_Online', 'Parking', 'LeadTime', 'SpecialRequests', 'RepeatedGuest', 'MealPlan_Meal Plan 2']\n"
          ]
        }
      ]
    },
    {
      "cell_type": "code",
      "source": [
        "#split data into feature and target\n",
        "X_new = train.drop(['BookingStatus'],axis=1)\n",
        "\n",
        "y = train.BookingStatus.values "
      ],
      "metadata": {
        "id": "F7fq8MD-E2cb"
      },
      "execution_count": 122,
      "outputs": []
    },
    {
      "cell_type": "code",
      "source": [
        "# preprocessing the features \n",
        "X_scaled =  StandardScaler().fit_transform(X_new)"
      ],
      "metadata": {
        "id": "pb6L3Ct8FLbY"
      },
      "execution_count": 123,
      "outputs": []
    },
    {
      "cell_type": "code",
      "source": [
        "#split data into train and validate \n",
        "X_train, X_valid, y_train, y_valid = train_test_split(X_scaled,y,test_size = 0.2,stratify=y, random_state=1)"
      ],
      "metadata": {
        "id": "i-JN5QuyFPks"
      },
      "execution_count": 124,
      "outputs": []
    },
    {
      "cell_type": "code",
      "source": [
        "# create and train classifier \n",
        "classifier_auto = RandomForestClassifier()\n",
        " \n",
        "classifier_auto.fit(X_train,y_train)"
      ],
      "metadata": {
        "colab": {
          "base_uri": "https://localhost:8080/",
          "height": 75
        },
        "id": "RKP1c9KcFVEq",
        "outputId": "6c08c1a6-1e3d-40c3-aaf9-05058b1520a1"
      },
      "execution_count": 125,
      "outputs": [
        {
          "output_type": "execute_result",
          "data": {
            "text/plain": [
              "RandomForestClassifier()"
            ],
            "text/html": [
              "<style>#sk-container-id-5 {color: black;background-color: white;}#sk-container-id-5 pre{padding: 0;}#sk-container-id-5 div.sk-toggleable {background-color: white;}#sk-container-id-5 label.sk-toggleable__label {cursor: pointer;display: block;width: 100%;margin-bottom: 0;padding: 0.3em;box-sizing: border-box;text-align: center;}#sk-container-id-5 label.sk-toggleable__label-arrow:before {content: \"▸\";float: left;margin-right: 0.25em;color: #696969;}#sk-container-id-5 label.sk-toggleable__label-arrow:hover:before {color: black;}#sk-container-id-5 div.sk-estimator:hover label.sk-toggleable__label-arrow:before {color: black;}#sk-container-id-5 div.sk-toggleable__content {max-height: 0;max-width: 0;overflow: hidden;text-align: left;background-color: #f0f8ff;}#sk-container-id-5 div.sk-toggleable__content pre {margin: 0.2em;color: black;border-radius: 0.25em;background-color: #f0f8ff;}#sk-container-id-5 input.sk-toggleable__control:checked~div.sk-toggleable__content {max-height: 200px;max-width: 100%;overflow: auto;}#sk-container-id-5 input.sk-toggleable__control:checked~label.sk-toggleable__label-arrow:before {content: \"▾\";}#sk-container-id-5 div.sk-estimator input.sk-toggleable__control:checked~label.sk-toggleable__label {background-color: #d4ebff;}#sk-container-id-5 div.sk-label input.sk-toggleable__control:checked~label.sk-toggleable__label {background-color: #d4ebff;}#sk-container-id-5 input.sk-hidden--visually {border: 0;clip: rect(1px 1px 1px 1px);clip: rect(1px, 1px, 1px, 1px);height: 1px;margin: -1px;overflow: hidden;padding: 0;position: absolute;width: 1px;}#sk-container-id-5 div.sk-estimator {font-family: monospace;background-color: #f0f8ff;border: 1px dotted black;border-radius: 0.25em;box-sizing: border-box;margin-bottom: 0.5em;}#sk-container-id-5 div.sk-estimator:hover {background-color: #d4ebff;}#sk-container-id-5 div.sk-parallel-item::after {content: \"\";width: 100%;border-bottom: 1px solid gray;flex-grow: 1;}#sk-container-id-5 div.sk-label:hover label.sk-toggleable__label {background-color: #d4ebff;}#sk-container-id-5 div.sk-serial::before {content: \"\";position: absolute;border-left: 1px solid gray;box-sizing: border-box;top: 0;bottom: 0;left: 50%;z-index: 0;}#sk-container-id-5 div.sk-serial {display: flex;flex-direction: column;align-items: center;background-color: white;padding-right: 0.2em;padding-left: 0.2em;position: relative;}#sk-container-id-5 div.sk-item {position: relative;z-index: 1;}#sk-container-id-5 div.sk-parallel {display: flex;align-items: stretch;justify-content: center;background-color: white;position: relative;}#sk-container-id-5 div.sk-item::before, #sk-container-id-5 div.sk-parallel-item::before {content: \"\";position: absolute;border-left: 1px solid gray;box-sizing: border-box;top: 0;bottom: 0;left: 50%;z-index: -1;}#sk-container-id-5 div.sk-parallel-item {display: flex;flex-direction: column;z-index: 1;position: relative;background-color: white;}#sk-container-id-5 div.sk-parallel-item:first-child::after {align-self: flex-end;width: 50%;}#sk-container-id-5 div.sk-parallel-item:last-child::after {align-self: flex-start;width: 50%;}#sk-container-id-5 div.sk-parallel-item:only-child::after {width: 0;}#sk-container-id-5 div.sk-dashed-wrapped {border: 1px dashed gray;margin: 0 0.4em 0.5em 0.4em;box-sizing: border-box;padding-bottom: 0.4em;background-color: white;}#sk-container-id-5 div.sk-label label {font-family: monospace;font-weight: bold;display: inline-block;line-height: 1.2em;}#sk-container-id-5 div.sk-label-container {text-align: center;}#sk-container-id-5 div.sk-container {/* jupyter's `normalize.less` sets `[hidden] { display: none; }` but bootstrap.min.css set `[hidden] { display: none !important; }` so we also need the `!important` here to be able to override the default hidden behavior on the sphinx rendered scikit-learn.org. See: https://github.com/scikit-learn/scikit-learn/issues/21755 */display: inline-block !important;position: relative;}#sk-container-id-5 div.sk-text-repr-fallback {display: none;}</style><div id=\"sk-container-id-5\" class=\"sk-top-container\"><div class=\"sk-text-repr-fallback\"><pre>RandomForestClassifier()</pre><b>In a Jupyter environment, please rerun this cell to show the HTML representation or trust the notebook. <br />On GitHub, the HTML representation is unable to render, please try loading this page with nbviewer.org.</b></div><div class=\"sk-container\" hidden><div class=\"sk-item\"><div class=\"sk-estimator sk-toggleable\"><input class=\"sk-toggleable__control sk-hidden--visually\" id=\"sk-estimator-id-5\" type=\"checkbox\" checked><label for=\"sk-estimator-id-5\" class=\"sk-toggleable__label sk-toggleable__label-arrow\">RandomForestClassifier</label><div class=\"sk-toggleable__content\"><pre>RandomForestClassifier()</pre></div></div></div></div></div>"
            ]
          },
          "metadata": {},
          "execution_count": 125
        }
      ]
    },
    {
      "cell_type": "code",
      "source": [
        "# make prediction \n",
        "preds = classifier_auto.predict(X_valid) \n",
        "# check performance\n",
        "accuracy_score(preds,y_valid) "
      ],
      "metadata": {
        "colab": {
          "base_uri": "https://localhost:8080/"
        },
        "id": "nB4pUMVTFb-z",
        "outputId": "a0706fac-77e8-4ab1-d80e-f69d89d0c9a9"
      },
      "execution_count": 126,
      "outputs": [
        {
          "output_type": "execute_result",
          "data": {
            "text/plain": [
              "0.8244011718076857"
            ]
          },
          "metadata": {},
          "execution_count": 126
        }
      ]
    },
    {
      "cell_type": "code",
      "source": [
        "classifier2_auto = XGBClassifier()\n",
        "\n",
        "classifier2_auto.fit(X_train,y_train)"
      ],
      "metadata": {
        "colab": {
          "base_uri": "https://localhost:8080/",
          "height": 248
        },
        "id": "y4w0FgpYFmb4",
        "outputId": "9478ac99-9b70-494d-abec-38396359d578"
      },
      "execution_count": 127,
      "outputs": [
        {
          "output_type": "execute_result",
          "data": {
            "text/plain": [
              "XGBClassifier(base_score=None, booster=None, callbacks=None,\n",
              "              colsample_bylevel=None, colsample_bynode=None,\n",
              "              colsample_bytree=None, early_stopping_rounds=None,\n",
              "              enable_categorical=False, eval_metric=None, feature_types=None,\n",
              "              gamma=None, gpu_id=None, grow_policy=None, importance_type=None,\n",
              "              interaction_constraints=None, learning_rate=None, max_bin=None,\n",
              "              max_cat_threshold=None, max_cat_to_onehot=None,\n",
              "              max_delta_step=None, max_depth=None, max_leaves=None,\n",
              "              min_child_weight=None, missing=nan, monotone_constraints=None,\n",
              "              n_estimators=100, n_jobs=None, num_parallel_tree=None,\n",
              "              predictor=None, random_state=None, ...)"
            ],
            "text/html": [
              "<style>#sk-container-id-6 {color: black;background-color: white;}#sk-container-id-6 pre{padding: 0;}#sk-container-id-6 div.sk-toggleable {background-color: white;}#sk-container-id-6 label.sk-toggleable__label {cursor: pointer;display: block;width: 100%;margin-bottom: 0;padding: 0.3em;box-sizing: border-box;text-align: center;}#sk-container-id-6 label.sk-toggleable__label-arrow:before {content: \"▸\";float: left;margin-right: 0.25em;color: #696969;}#sk-container-id-6 label.sk-toggleable__label-arrow:hover:before {color: black;}#sk-container-id-6 div.sk-estimator:hover label.sk-toggleable__label-arrow:before {color: black;}#sk-container-id-6 div.sk-toggleable__content {max-height: 0;max-width: 0;overflow: hidden;text-align: left;background-color: #f0f8ff;}#sk-container-id-6 div.sk-toggleable__content pre {margin: 0.2em;color: black;border-radius: 0.25em;background-color: #f0f8ff;}#sk-container-id-6 input.sk-toggleable__control:checked~div.sk-toggleable__content {max-height: 200px;max-width: 100%;overflow: auto;}#sk-container-id-6 input.sk-toggleable__control:checked~label.sk-toggleable__label-arrow:before {content: \"▾\";}#sk-container-id-6 div.sk-estimator input.sk-toggleable__control:checked~label.sk-toggleable__label {background-color: #d4ebff;}#sk-container-id-6 div.sk-label input.sk-toggleable__control:checked~label.sk-toggleable__label {background-color: #d4ebff;}#sk-container-id-6 input.sk-hidden--visually {border: 0;clip: rect(1px 1px 1px 1px);clip: rect(1px, 1px, 1px, 1px);height: 1px;margin: -1px;overflow: hidden;padding: 0;position: absolute;width: 1px;}#sk-container-id-6 div.sk-estimator {font-family: monospace;background-color: #f0f8ff;border: 1px dotted black;border-radius: 0.25em;box-sizing: border-box;margin-bottom: 0.5em;}#sk-container-id-6 div.sk-estimator:hover {background-color: #d4ebff;}#sk-container-id-6 div.sk-parallel-item::after {content: \"\";width: 100%;border-bottom: 1px solid gray;flex-grow: 1;}#sk-container-id-6 div.sk-label:hover label.sk-toggleable__label {background-color: #d4ebff;}#sk-container-id-6 div.sk-serial::before {content: \"\";position: absolute;border-left: 1px solid gray;box-sizing: border-box;top: 0;bottom: 0;left: 50%;z-index: 0;}#sk-container-id-6 div.sk-serial {display: flex;flex-direction: column;align-items: center;background-color: white;padding-right: 0.2em;padding-left: 0.2em;position: relative;}#sk-container-id-6 div.sk-item {position: relative;z-index: 1;}#sk-container-id-6 div.sk-parallel {display: flex;align-items: stretch;justify-content: center;background-color: white;position: relative;}#sk-container-id-6 div.sk-item::before, #sk-container-id-6 div.sk-parallel-item::before {content: \"\";position: absolute;border-left: 1px solid gray;box-sizing: border-box;top: 0;bottom: 0;left: 50%;z-index: -1;}#sk-container-id-6 div.sk-parallel-item {display: flex;flex-direction: column;z-index: 1;position: relative;background-color: white;}#sk-container-id-6 div.sk-parallel-item:first-child::after {align-self: flex-end;width: 50%;}#sk-container-id-6 div.sk-parallel-item:last-child::after {align-self: flex-start;width: 50%;}#sk-container-id-6 div.sk-parallel-item:only-child::after {width: 0;}#sk-container-id-6 div.sk-dashed-wrapped {border: 1px dashed gray;margin: 0 0.4em 0.5em 0.4em;box-sizing: border-box;padding-bottom: 0.4em;background-color: white;}#sk-container-id-6 div.sk-label label {font-family: monospace;font-weight: bold;display: inline-block;line-height: 1.2em;}#sk-container-id-6 div.sk-label-container {text-align: center;}#sk-container-id-6 div.sk-container {/* jupyter's `normalize.less` sets `[hidden] { display: none; }` but bootstrap.min.css set `[hidden] { display: none !important; }` so we also need the `!important` here to be able to override the default hidden behavior on the sphinx rendered scikit-learn.org. See: https://github.com/scikit-learn/scikit-learn/issues/21755 */display: inline-block !important;position: relative;}#sk-container-id-6 div.sk-text-repr-fallback {display: none;}</style><div id=\"sk-container-id-6\" class=\"sk-top-container\"><div class=\"sk-text-repr-fallback\"><pre>XGBClassifier(base_score=None, booster=None, callbacks=None,\n",
              "              colsample_bylevel=None, colsample_bynode=None,\n",
              "              colsample_bytree=None, early_stopping_rounds=None,\n",
              "              enable_categorical=False, eval_metric=None, feature_types=None,\n",
              "              gamma=None, gpu_id=None, grow_policy=None, importance_type=None,\n",
              "              interaction_constraints=None, learning_rate=None, max_bin=None,\n",
              "              max_cat_threshold=None, max_cat_to_onehot=None,\n",
              "              max_delta_step=None, max_depth=None, max_leaves=None,\n",
              "              min_child_weight=None, missing=nan, monotone_constraints=None,\n",
              "              n_estimators=100, n_jobs=None, num_parallel_tree=None,\n",
              "              predictor=None, random_state=None, ...)</pre><b>In a Jupyter environment, please rerun this cell to show the HTML representation or trust the notebook. <br />On GitHub, the HTML representation is unable to render, please try loading this page with nbviewer.org.</b></div><div class=\"sk-container\" hidden><div class=\"sk-item\"><div class=\"sk-estimator sk-toggleable\"><input class=\"sk-toggleable__control sk-hidden--visually\" id=\"sk-estimator-id-6\" type=\"checkbox\" checked><label for=\"sk-estimator-id-6\" class=\"sk-toggleable__label sk-toggleable__label-arrow\">XGBClassifier</label><div class=\"sk-toggleable__content\"><pre>XGBClassifier(base_score=None, booster=None, callbacks=None,\n",
              "              colsample_bylevel=None, colsample_bynode=None,\n",
              "              colsample_bytree=None, early_stopping_rounds=None,\n",
              "              enable_categorical=False, eval_metric=None, feature_types=None,\n",
              "              gamma=None, gpu_id=None, grow_policy=None, importance_type=None,\n",
              "              interaction_constraints=None, learning_rate=None, max_bin=None,\n",
              "              max_cat_threshold=None, max_cat_to_onehot=None,\n",
              "              max_delta_step=None, max_depth=None, max_leaves=None,\n",
              "              min_child_weight=None, missing=nan, monotone_constraints=None,\n",
              "              n_estimators=100, n_jobs=None, num_parallel_tree=None,\n",
              "              predictor=None, random_state=None, ...)</pre></div></div></div></div></div>"
            ]
          },
          "metadata": {},
          "execution_count": 127
        }
      ]
    },
    {
      "cell_type": "code",
      "source": [
        "# make prediction \n",
        "preds = classifier2_auto.predict(X_valid) \n",
        "# check performance\n",
        "accuracy_score(preds,y_valid)"
      ],
      "metadata": {
        "colab": {
          "base_uri": "https://localhost:8080/"
        },
        "id": "6k_sc0fhFvOu",
        "outputId": "e6f57b17-b036-4c6e-d958-224daef01429"
      },
      "execution_count": 128,
      "outputs": [
        {
          "output_type": "execute_result",
          "data": {
            "text/plain": [
              "0.829226262278132"
            ]
          },
          "metadata": {},
          "execution_count": 128
        }
      ]
    },
    {
      "cell_type": "markdown",
      "source": [
        "Accuracy worse using AutoML via featurewiz package."
      ],
      "metadata": {
        "id": "E-ZOKmM5_pxW"
      }
    }
  ]
}