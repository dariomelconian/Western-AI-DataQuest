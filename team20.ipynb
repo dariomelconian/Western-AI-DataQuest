{
 "cells": [
  {
   "cell_type": "markdown",
   "metadata": {},
   "source": [
    "# Team 20:\n",
    "\n",
    "### Dario Melconian\n",
    "\n",
    "### Bryce Chevallier"
   ]
  },
  {
   "cell_type": "code",
   "execution_count": 128,
   "metadata": {},
   "outputs": [],
   "source": [
    "#!pip install featurewiz (for autoML random forest run)"
   ]
  },
  {
   "cell_type": "markdown",
   "metadata": {},
   "source": [
    "## Import, Data Cleaning, Pre-Processing, Feature Engineering"
   ]
  },
  {
   "cell_type": "code",
   "execution_count": 107,
   "metadata": {},
   "outputs": [],
   "source": [
    "import pandas as pd\n",
    "import numpy as np\n",
    "import seaborn as sns\n",
    "import scipy.stats as ss\n",
    "import matplotlib.pyplot as plt \n",
    "#import featurewiz\n",
    "\n",
    "from sklearn.preprocessing import StandardScaler \n",
    "from sklearn.ensemble import RandomForestClassifier \n",
    "from sklearn.linear_model import LogisticRegression \n",
    "from sklearn.metrics import accuracy_score \n",
    "#from featurewiz import featurewiz\n",
    "from sklearn.model_selection import train_test_split\n",
    "from sklearn.inspection import permutation_importance\n",
    "from sklearn.model_selection import GridSearchCV, train_test_split, StratifiedKFold\n",
    "from xgboost import XGBClassifier\n",
    "\n",
    "from sklearn.metrics import precision_score, recall_score, f1_score"
   ]
  },
  {
   "cell_type": "code",
   "execution_count": 138,
   "metadata": {},
   "outputs": [
    {
     "data": {
      "text/html": [
       "<div>\n",
       "<style scoped>\n",
       "    .dataframe tbody tr th:only-of-type {\n",
       "        vertical-align: middle;\n",
       "    }\n",
       "\n",
       "    .dataframe tbody tr th {\n",
       "        vertical-align: top;\n",
       "    }\n",
       "\n",
       "    .dataframe thead th {\n",
       "        text-align: right;\n",
       "    }\n",
       "</style>\n",
       "<table border=\"1\" class=\"dataframe\">\n",
       "  <thead>\n",
       "    <tr style=\"text-align: right;\">\n",
       "      <th></th>\n",
       "      <th>BookingID</th>\n",
       "      <th>LeadTime</th>\n",
       "      <th>ArrivalYear</th>\n",
       "      <th>ArrivalMonth</th>\n",
       "      <th>ArrivalDate</th>\n",
       "      <th>NumWeekendNights</th>\n",
       "      <th>NumWeekNights</th>\n",
       "      <th>MealPlan</th>\n",
       "      <th>Parking</th>\n",
       "      <th>RoomType</th>\n",
       "      <th>NumAdults</th>\n",
       "      <th>NumChildren</th>\n",
       "      <th>MarketSegment</th>\n",
       "      <th>RepeatedGuest</th>\n",
       "      <th>NumPrevCancellations</th>\n",
       "      <th>NumPreviousNonCancelled</th>\n",
       "      <th>AvgRoomPrice</th>\n",
       "      <th>SpecialRequests</th>\n",
       "      <th>BookingStatus</th>\n",
       "    </tr>\n",
       "  </thead>\n",
       "  <tbody>\n",
       "    <tr>\n",
       "      <th>0</th>\n",
       "      <td>1</td>\n",
       "      <td>10</td>\n",
       "      <td>2018</td>\n",
       "      <td>3</td>\n",
       "      <td>31</td>\n",
       "      <td>0</td>\n",
       "      <td>1</td>\n",
       "      <td>Meal Plan 1</td>\n",
       "      <td>0</td>\n",
       "      <td>Room_Type 1</td>\n",
       "      <td>1</td>\n",
       "      <td>0</td>\n",
       "      <td>Corporate</td>\n",
       "      <td>0</td>\n",
       "      <td>0</td>\n",
       "      <td>0</td>\n",
       "      <td>95.00</td>\n",
       "      <td>0</td>\n",
       "      <td>Canceled</td>\n",
       "    </tr>\n",
       "    <tr>\n",
       "      <th>1</th>\n",
       "      <td>2</td>\n",
       "      <td>116</td>\n",
       "      <td>2018</td>\n",
       "      <td>2</td>\n",
       "      <td>28</td>\n",
       "      <td>2</td>\n",
       "      <td>1</td>\n",
       "      <td>Meal Plan 1</td>\n",
       "      <td>0</td>\n",
       "      <td>Room_Type 1</td>\n",
       "      <td>1</td>\n",
       "      <td>0</td>\n",
       "      <td>Online</td>\n",
       "      <td>0</td>\n",
       "      <td>0</td>\n",
       "      <td>0</td>\n",
       "      <td>61.00</td>\n",
       "      <td>0</td>\n",
       "      <td>Canceled</td>\n",
       "    </tr>\n",
       "    <tr>\n",
       "      <th>2</th>\n",
       "      <td>3</td>\n",
       "      <td>11</td>\n",
       "      <td>2018</td>\n",
       "      <td>7</td>\n",
       "      <td>25</td>\n",
       "      <td>1</td>\n",
       "      <td>2</td>\n",
       "      <td>Meal Plan 1</td>\n",
       "      <td>0</td>\n",
       "      <td>Room_Type 1</td>\n",
       "      <td>2</td>\n",
       "      <td>1</td>\n",
       "      <td>Online</td>\n",
       "      <td>0</td>\n",
       "      <td>0</td>\n",
       "      <td>0</td>\n",
       "      <td>129.75</td>\n",
       "      <td>1</td>\n",
       "      <td>Not_Canceled</td>\n",
       "    </tr>\n",
       "    <tr>\n",
       "      <th>3</th>\n",
       "      <td>4</td>\n",
       "      <td>3</td>\n",
       "      <td>2017</td>\n",
       "      <td>9</td>\n",
       "      <td>12</td>\n",
       "      <td>0</td>\n",
       "      <td>1</td>\n",
       "      <td>Meal Plan 1</td>\n",
       "      <td>0</td>\n",
       "      <td>Room_Type 1</td>\n",
       "      <td>2</td>\n",
       "      <td>0</td>\n",
       "      <td>Online</td>\n",
       "      <td>0</td>\n",
       "      <td>0</td>\n",
       "      <td>0</td>\n",
       "      <td>152.00</td>\n",
       "      <td>3</td>\n",
       "      <td>Not_Canceled</td>\n",
       "    </tr>\n",
       "    <tr>\n",
       "      <th>4</th>\n",
       "      <td>5</td>\n",
       "      <td>28</td>\n",
       "      <td>2018</td>\n",
       "      <td>3</td>\n",
       "      <td>7</td>\n",
       "      <td>1</td>\n",
       "      <td>3</td>\n",
       "      <td>Meal Plan 1</td>\n",
       "      <td>0</td>\n",
       "      <td>Room_Type 1</td>\n",
       "      <td>2</td>\n",
       "      <td>0</td>\n",
       "      <td>Offline</td>\n",
       "      <td>0</td>\n",
       "      <td>0</td>\n",
       "      <td>0</td>\n",
       "      <td>87.00</td>\n",
       "      <td>0</td>\n",
       "      <td>Not_Canceled</td>\n",
       "    </tr>\n",
       "  </tbody>\n",
       "</table>\n",
       "</div>"
      ],
      "text/plain": [
       "   BookingID  LeadTime  ArrivalYear  ArrivalMonth  ArrivalDate  \\\n",
       "0          1        10         2018             3           31   \n",
       "1          2       116         2018             2           28   \n",
       "2          3        11         2018             7           25   \n",
       "3          4         3         2017             9           12   \n",
       "4          5        28         2018             3            7   \n",
       "\n",
       "   NumWeekendNights  NumWeekNights     MealPlan  Parking     RoomType  \\\n",
       "0                 0              1  Meal Plan 1        0  Room_Type 1   \n",
       "1                 2              1  Meal Plan 1        0  Room_Type 1   \n",
       "2                 1              2  Meal Plan 1        0  Room_Type 1   \n",
       "3                 0              1  Meal Plan 1        0  Room_Type 1   \n",
       "4                 1              3  Meal Plan 1        0  Room_Type 1   \n",
       "\n",
       "   NumAdults  NumChildren MarketSegment  RepeatedGuest  NumPrevCancellations  \\\n",
       "0          1            0     Corporate              0                     0   \n",
       "1          1            0        Online              0                     0   \n",
       "2          2            1        Online              0                     0   \n",
       "3          2            0        Online              0                     0   \n",
       "4          2            0       Offline              0                     0   \n",
       "\n",
       "   NumPreviousNonCancelled  AvgRoomPrice  SpecialRequests BookingStatus  \n",
       "0                        0         95.00                0      Canceled  \n",
       "1                        0         61.00                0      Canceled  \n",
       "2                        0        129.75                1  Not_Canceled  \n",
       "3                        0        152.00                3  Not_Canceled  \n",
       "4                        0         87.00                0  Not_Canceled  "
      ]
     },
     "execution_count": 138,
     "metadata": {},
     "output_type": "execute_result"
    }
   ],
   "source": [
    "# import the data\n",
    "df = pd.read_csv(\"DataQuest Dataset - train_data.csv\")\n",
    "df.head()"
   ]
  },
  {
   "cell_type": "code",
   "execution_count": 4,
   "metadata": {},
   "outputs": [
    {
     "data": {
      "text/plain": [
       "(29020, 19)"
      ]
     },
     "execution_count": 4,
     "metadata": {},
     "output_type": "execute_result"
    }
   ],
   "source": [
    "df.shape"
   ]
  },
  {
   "cell_type": "code",
   "execution_count": 5,
   "metadata": {},
   "outputs": [
    {
     "data": {
      "text/plain": [
       "(29015, 19)"
      ]
     },
     "execution_count": 5,
     "metadata": {},
     "output_type": "execute_result"
    }
   ],
   "source": [
    "df = df.drop(df[df['MealPlan'] == 'Meal Plan 3'].index)\n",
    "#df = df.drop('Meal Plan 3', axis=1)\n",
    "df.shape"
   ]
  },
  {
   "cell_type": "code",
   "execution_count": 6,
   "metadata": {},
   "outputs": [
    {
     "data": {
      "text/plain": [
       "<Figure size 432x288 with 0 Axes>"
      ]
     },
     "metadata": {},
     "output_type": "display_data"
    },
    {
     "data": {
      "image/png": "[encoded data removed]",
      "text/plain": [
       "<Figure size 360x360 with 1 Axes>"
      ]
     },
     "metadata": {
      "needs_background": "light"
     },
     "output_type": "display_data"
    }
   ],
   "source": [
    "fig = plt.figure()\n",
    "sns.displot(df['BookingStatus'])\n",
    "plt.xlabel('Booking Status')\n",
    "plt.ylabel('Count')\n",
    "plt.show()"
   ]
  },
  {
   "cell_type": "code",
   "execution_count": 7,
   "metadata": {},
   "outputs": [
    {
     "data": {
      "text/plain": [
       "<Figure size 432x288 with 0 Axes>"
      ]
     },
     "metadata": {},
     "output_type": "display_data"
    },
    {
     "data": {
      "image/png": "[encoded data removed]",
      "text/plain": [
       "<Figure size 360x360 with 1 Axes>"
      ]
     },
     "metadata": {
      "needs_background": "light"
     },
     "output_type": "display_data"
    }
   ],
   "source": [
    "fig = plt.figure()\n",
    "sns.displot(df['MarketSegment'])\n",
    "plt.xlabel('Marketing Segmentation')\n",
    "plt.ylabel('Count')\n",
    "plt.show()"
   ]
  },
  {
   "cell_type": "code",
   "execution_count": 8,
   "metadata": {},
   "outputs": [
    {
     "data": {
      "image/png": "[encoded data removed]",
      "text/plain": [
       "<Figure size 432x288 with 1 Axes>"
      ]
     },
     "metadata": {
      "needs_background": "light"
     },
     "output_type": "display_data"
    }
   ],
   "source": [
    "fig = plt.figure()\n",
    "ax = sns.boxplot(x = 'BookingStatus', y = 'AvgRoomPrice',  data = df)\n",
    "plt.show()"
   ]
  },
  {
   "cell_type": "code",
   "execution_count": 9,
   "metadata": {},
   "outputs": [],
   "source": [
    "df = df[df['AvgRoomPrice'] <= 500]"
   ]
  },
  {
   "cell_type": "code",
   "execution_count": 11,
   "metadata": {},
   "outputs": [
    {
     "data": {
      "text/plain": [
       "(29014, 18)"
      ]
     },
     "execution_count": 11,
     "metadata": {},
     "output_type": "execute_result"
    }
   ],
   "source": [
    "df.shape"
   ]
  },
  {
   "cell_type": "code",
   "execution_count": 10,
   "metadata": {},
   "outputs": [],
   "source": [
    "df = df.drop('BookingID', axis=1)"
   ]
  },
  {
   "cell_type": "code",
   "execution_count": 12,
   "metadata": {},
   "outputs": [
    {
     "data": {
      "text/html": [
       "<div>\n",
       "<style scoped>\n",
       "    .dataframe tbody tr th:only-of-type {\n",
       "        vertical-align: middle;\n",
       "    }\n",
       "\n",
       "    .dataframe tbody tr th {\n",
       "        vertical-align: top;\n",
       "    }\n",
       "\n",
       "    .dataframe thead th {\n",
       "        text-align: right;\n",
       "    }\n",
       "</style>\n",
       "<table border=\"1\" class=\"dataframe\">\n",
       "  <thead>\n",
       "    <tr style=\"text-align: right;\">\n",
       "      <th>BookingStatus</th>\n",
       "      <th>Canceled</th>\n",
       "      <th>Not_Canceled</th>\n",
       "    </tr>\n",
       "    <tr>\n",
       "      <th>RepeatedGuest</th>\n",
       "      <th></th>\n",
       "      <th></th>\n",
       "    </tr>\n",
       "  </thead>\n",
       "  <tbody>\n",
       "    <tr>\n",
       "      <th>0</th>\n",
       "      <td>9504</td>\n",
       "      <td>18767</td>\n",
       "    </tr>\n",
       "    <tr>\n",
       "      <th>1</th>\n",
       "      <td>14</td>\n",
       "      <td>729</td>\n",
       "    </tr>\n",
       "  </tbody>\n",
       "</table>\n",
       "</div>"
      ],
      "text/plain": [
       "BookingStatus  Canceled  Not_Canceled\n",
       "RepeatedGuest                        \n",
       "0                  9504         18767\n",
       "1                    14           729"
      ]
     },
     "execution_count": 12,
     "metadata": {},
     "output_type": "execute_result"
    }
   ],
   "source": [
    "table = pd.crosstab(df['RepeatedGuest'], df['BookingStatus'], margins = False)\n",
    "table"
   ]
  },
  {
   "cell_type": "code",
   "execution_count": 13,
   "metadata": {},
   "outputs": [
    {
     "data": {
      "text/plain": [
       "<Figure size 432x288 with 0 Axes>"
      ]
     },
     "metadata": {},
     "output_type": "display_data"
    },
    {
     "data": {
      "image/png": "[encoded data removed]",
      "text/plain": [
       "<Figure size 432x288 with 1 Axes>"
      ]
     },
     "metadata": {
      "needs_background": "light"
     },
     "output_type": "display_data"
    }
   ],
   "source": [
    "fig = plt.figure()\n",
    "ax = table.plot(kind = 'bar', stacked = False)\n",
    "ax.set_ylabel('Count')\n",
    "plt.show()"
   ]
  },
  {
   "cell_type": "code",
   "execution_count": 14,
   "metadata": {},
   "outputs": [
    {
     "name": "stdout",
     "output_type": "stream",
     "text": [
      "about 1.8% of repeated guests have cancelled:  0.01881720430107527\n"
     ]
    }
   ],
   "source": [
    "val = 14/(14+730)\n",
    "print(\"about 1.8% of repeated guests have cancelled: \", val)"
   ]
  },
  {
   "cell_type": "code",
   "execution_count": 15,
   "metadata": {},
   "outputs": [
    {
     "name": "stdout",
     "output_type": "stream",
     "text": [
      "about 33.6% of non-repeated guests have cancelled:  0.3361861649455368\n"
     ]
    }
   ],
   "source": [
    "val = 9506/(9506+18770)\n",
    "print(\"about 33.6% of non-repeated guests have cancelled: \", val)"
   ]
  },
  {
   "cell_type": "code",
   "execution_count": 16,
   "metadata": {
    "scrolled": true
   },
   "outputs": [
    {
     "data": {
      "text/plain": [
       "LeadTime                   0\n",
       "ArrivalYear                0\n",
       "ArrivalMonth               0\n",
       "ArrivalDate                0\n",
       "NumWeekendNights           0\n",
       "NumWeekNights              0\n",
       "MealPlan                   0\n",
       "Parking                    0\n",
       "RoomType                   0\n",
       "NumAdults                  0\n",
       "NumChildren                0\n",
       "MarketSegment              0\n",
       "RepeatedGuest              0\n",
       "NumPrevCancellations       0\n",
       "NumPreviousNonCancelled    0\n",
       "AvgRoomPrice               0\n",
       "SpecialRequests            0\n",
       "BookingStatus              0\n",
       "dtype: int64"
      ]
     },
     "execution_count": 16,
     "metadata": {},
     "output_type": "execute_result"
    }
   ],
   "source": [
    "df.isna().sum()"
   ]
  },
  {
   "cell_type": "code",
   "execution_count": 17,
   "metadata": {},
   "outputs": [],
   "source": [
    "df = df.drop('RoomType', axis=1)"
   ]
  },
  {
   "cell_type": "code",
   "execution_count": 18,
   "metadata": {},
   "outputs": [
    {
     "data": {
      "text/plain": [
       "(29014, 17)"
      ]
     },
     "execution_count": 18,
     "metadata": {},
     "output_type": "execute_result"
    }
   ],
   "source": [
    "df.shape"
   ]
  },
  {
   "cell_type": "code",
   "execution_count": 19,
   "metadata": {},
   "outputs": [],
   "source": [
    "# one-hot encode the categorical variables (4 of them, including response):\n",
    "from sklearn.preprocessing import OneHotEncoder\n",
    "from sklearn.preprocessing import LabelEncoder"
   ]
  },
  {
   "cell_type": "code",
   "execution_count": 20,
   "metadata": {},
   "outputs": [
    {
     "data": {
      "text/html": [
       "<div>\n",
       "<style scoped>\n",
       "    .dataframe tbody tr th:only-of-type {\n",
       "        vertical-align: middle;\n",
       "    }\n",
       "\n",
       "    .dataframe tbody tr th {\n",
       "        vertical-align: top;\n",
       "    }\n",
       "\n",
       "    .dataframe thead th {\n",
       "        text-align: right;\n",
       "    }\n",
       "</style>\n",
       "<table border=\"1\" class=\"dataframe\">\n",
       "  <thead>\n",
       "    <tr style=\"text-align: right;\">\n",
       "      <th></th>\n",
       "      <th>LeadTime</th>\n",
       "      <th>ArrivalYear</th>\n",
       "      <th>ArrivalMonth</th>\n",
       "      <th>ArrivalDate</th>\n",
       "      <th>NumWeekendNights</th>\n",
       "      <th>NumWeekNights</th>\n",
       "      <th>MealPlan</th>\n",
       "      <th>Parking</th>\n",
       "      <th>NumAdults</th>\n",
       "      <th>NumChildren</th>\n",
       "      <th>MarketSegment</th>\n",
       "      <th>RepeatedGuest</th>\n",
       "      <th>NumPrevCancellations</th>\n",
       "      <th>NumPreviousNonCancelled</th>\n",
       "      <th>AvgRoomPrice</th>\n",
       "      <th>SpecialRequests</th>\n",
       "      <th>BookingStatus</th>\n",
       "    </tr>\n",
       "  </thead>\n",
       "  <tbody>\n",
       "    <tr>\n",
       "      <th>0</th>\n",
       "      <td>10</td>\n",
       "      <td>2018</td>\n",
       "      <td>3</td>\n",
       "      <td>31</td>\n",
       "      <td>0</td>\n",
       "      <td>1</td>\n",
       "      <td>Meal Plan 1</td>\n",
       "      <td>0</td>\n",
       "      <td>1</td>\n",
       "      <td>0</td>\n",
       "      <td>Corporate</td>\n",
       "      <td>0</td>\n",
       "      <td>0</td>\n",
       "      <td>0</td>\n",
       "      <td>95.00</td>\n",
       "      <td>0</td>\n",
       "      <td>0</td>\n",
       "    </tr>\n",
       "    <tr>\n",
       "      <th>1</th>\n",
       "      <td>116</td>\n",
       "      <td>2018</td>\n",
       "      <td>2</td>\n",
       "      <td>28</td>\n",
       "      <td>2</td>\n",
       "      <td>1</td>\n",
       "      <td>Meal Plan 1</td>\n",
       "      <td>0</td>\n",
       "      <td>1</td>\n",
       "      <td>0</td>\n",
       "      <td>Online</td>\n",
       "      <td>0</td>\n",
       "      <td>0</td>\n",
       "      <td>0</td>\n",
       "      <td>61.00</td>\n",
       "      <td>0</td>\n",
       "      <td>0</td>\n",
       "    </tr>\n",
       "    <tr>\n",
       "      <th>2</th>\n",
       "      <td>11</td>\n",
       "      <td>2018</td>\n",
       "      <td>7</td>\n",
       "      <td>25</td>\n",
       "      <td>1</td>\n",
       "      <td>2</td>\n",
       "      <td>Meal Plan 1</td>\n",
       "      <td>0</td>\n",
       "      <td>2</td>\n",
       "      <td>1</td>\n",
       "      <td>Online</td>\n",
       "      <td>0</td>\n",
       "      <td>0</td>\n",
       "      <td>0</td>\n",
       "      <td>129.75</td>\n",
       "      <td>1</td>\n",
       "      <td>1</td>\n",
       "    </tr>\n",
       "    <tr>\n",
       "      <th>3</th>\n",
       "      <td>3</td>\n",
       "      <td>2017</td>\n",
       "      <td>9</td>\n",
       "      <td>12</td>\n",
       "      <td>0</td>\n",
       "      <td>1</td>\n",
       "      <td>Meal Plan 1</td>\n",
       "      <td>0</td>\n",
       "      <td>2</td>\n",
       "      <td>0</td>\n",
       "      <td>Online</td>\n",
       "      <td>0</td>\n",
       "      <td>0</td>\n",
       "      <td>0</td>\n",
       "      <td>152.00</td>\n",
       "      <td>3</td>\n",
       "      <td>1</td>\n",
       "    </tr>\n",
       "    <tr>\n",
       "      <th>4</th>\n",
       "      <td>28</td>\n",
       "      <td>2018</td>\n",
       "      <td>3</td>\n",
       "      <td>7</td>\n",
       "      <td>1</td>\n",
       "      <td>3</td>\n",
       "      <td>Meal Plan 1</td>\n",
       "      <td>0</td>\n",
       "      <td>2</td>\n",
       "      <td>0</td>\n",
       "      <td>Offline</td>\n",
       "      <td>0</td>\n",
       "      <td>0</td>\n",
       "      <td>0</td>\n",
       "      <td>87.00</td>\n",
       "      <td>0</td>\n",
       "      <td>1</td>\n",
       "    </tr>\n",
       "  </tbody>\n",
       "</table>\n",
       "</div>"
      ],
      "text/plain": [
       "   LeadTime  ArrivalYear  ArrivalMonth  ArrivalDate  NumWeekendNights  \\\n",
       "0        10         2018             3           31                 0   \n",
       "1       116         2018             2           28                 2   \n",
       "2        11         2018             7           25                 1   \n",
       "3         3         2017             9           12                 0   \n",
       "4        28         2018             3            7                 1   \n",
       "\n",
       "   NumWeekNights     MealPlan  Parking  NumAdults  NumChildren MarketSegment  \\\n",
       "0              1  Meal Plan 1        0          1            0     Corporate   \n",
       "1              1  Meal Plan 1        0          1            0        Online   \n",
       "2              2  Meal Plan 1        0          2            1        Online   \n",
       "3              1  Meal Plan 1        0          2            0        Online   \n",
       "4              3  Meal Plan 1        0          2            0       Offline   \n",
       "\n",
       "   RepeatedGuest  NumPrevCancellations  NumPreviousNonCancelled  AvgRoomPrice  \\\n",
       "0              0                     0                        0         95.00   \n",
       "1              0                     0                        0         61.00   \n",
       "2              0                     0                        0        129.75   \n",
       "3              0                     0                        0        152.00   \n",
       "4              0                     0                        0         87.00   \n",
       "\n",
       "   SpecialRequests  BookingStatus  \n",
       "0                0              0  \n",
       "1                0              0  \n",
       "2                1              1  \n",
       "3                3              1  \n",
       "4                0              1  "
      ]
     },
     "execution_count": 20,
     "metadata": {},
     "output_type": "execute_result"
    }
   ],
   "source": [
    "# Create an instance of the LabelEncoder class\n",
    "encoder = LabelEncoder()\n",
    "\n",
    "# Set the mapping between labels and encoded values\n",
    "encoder.fit(['Not_Canceled', 'Canceled'])\n",
    "\n",
    "# Encode the response variable using the specified mapping\n",
    "df['BookingStatus'] = encoder.transform(df['BookingStatus'])\n",
    "\n",
    "# Print the resulting DataFrame\n",
    "df.head()"
   ]
  },
  {
   "cell_type": "code",
   "execution_count": 21,
   "metadata": {},
   "outputs": [
    {
     "data": {
      "text/html": [
       "<div>\n",
       "<style scoped>\n",
       "    .dataframe tbody tr th:only-of-type {\n",
       "        vertical-align: middle;\n",
       "    }\n",
       "\n",
       "    .dataframe tbody tr th {\n",
       "        vertical-align: top;\n",
       "    }\n",
       "\n",
       "    .dataframe thead th {\n",
       "        text-align: right;\n",
       "    }\n",
       "</style>\n",
       "<table border=\"1\" class=\"dataframe\">\n",
       "  <thead>\n",
       "    <tr style=\"text-align: right;\">\n",
       "      <th></th>\n",
       "      <th>LeadTime</th>\n",
       "      <th>ArrivalYear</th>\n",
       "      <th>ArrivalMonth</th>\n",
       "      <th>ArrivalDate</th>\n",
       "      <th>NumWeekendNights</th>\n",
       "      <th>NumWeekNights</th>\n",
       "      <th>MealPlan</th>\n",
       "      <th>Parking</th>\n",
       "      <th>NumAdults</th>\n",
       "      <th>NumChildren</th>\n",
       "      <th>MarketSegment</th>\n",
       "      <th>RepeatedGuest</th>\n",
       "      <th>NumPrevCancellations</th>\n",
       "      <th>NumPreviousNonCancelled</th>\n",
       "      <th>AvgRoomPrice</th>\n",
       "      <th>SpecialRequests</th>\n",
       "      <th>BookingStatus</th>\n",
       "    </tr>\n",
       "  </thead>\n",
       "  <tbody>\n",
       "    <tr>\n",
       "      <th>0</th>\n",
       "      <td>10</td>\n",
       "      <td>2018</td>\n",
       "      <td>3</td>\n",
       "      <td>31</td>\n",
       "      <td>0</td>\n",
       "      <td>1</td>\n",
       "      <td>Meal Plan 1</td>\n",
       "      <td>0</td>\n",
       "      <td>1</td>\n",
       "      <td>0</td>\n",
       "      <td>Corporate</td>\n",
       "      <td>0</td>\n",
       "      <td>0</td>\n",
       "      <td>0</td>\n",
       "      <td>95.00</td>\n",
       "      <td>0</td>\n",
       "      <td>1</td>\n",
       "    </tr>\n",
       "    <tr>\n",
       "      <th>1</th>\n",
       "      <td>116</td>\n",
       "      <td>2018</td>\n",
       "      <td>2</td>\n",
       "      <td>28</td>\n",
       "      <td>2</td>\n",
       "      <td>1</td>\n",
       "      <td>Meal Plan 1</td>\n",
       "      <td>0</td>\n",
       "      <td>1</td>\n",
       "      <td>0</td>\n",
       "      <td>Online</td>\n",
       "      <td>0</td>\n",
       "      <td>0</td>\n",
       "      <td>0</td>\n",
       "      <td>61.00</td>\n",
       "      <td>0</td>\n",
       "      <td>1</td>\n",
       "    </tr>\n",
       "    <tr>\n",
       "      <th>2</th>\n",
       "      <td>11</td>\n",
       "      <td>2018</td>\n",
       "      <td>7</td>\n",
       "      <td>25</td>\n",
       "      <td>1</td>\n",
       "      <td>2</td>\n",
       "      <td>Meal Plan 1</td>\n",
       "      <td>0</td>\n",
       "      <td>2</td>\n",
       "      <td>1</td>\n",
       "      <td>Online</td>\n",
       "      <td>0</td>\n",
       "      <td>0</td>\n",
       "      <td>0</td>\n",
       "      <td>129.75</td>\n",
       "      <td>1</td>\n",
       "      <td>0</td>\n",
       "    </tr>\n",
       "    <tr>\n",
       "      <th>3</th>\n",
       "      <td>3</td>\n",
       "      <td>2017</td>\n",
       "      <td>9</td>\n",
       "      <td>12</td>\n",
       "      <td>0</td>\n",
       "      <td>1</td>\n",
       "      <td>Meal Plan 1</td>\n",
       "      <td>0</td>\n",
       "      <td>2</td>\n",
       "      <td>0</td>\n",
       "      <td>Online</td>\n",
       "      <td>0</td>\n",
       "      <td>0</td>\n",
       "      <td>0</td>\n",
       "      <td>152.00</td>\n",
       "      <td>3</td>\n",
       "      <td>0</td>\n",
       "    </tr>\n",
       "    <tr>\n",
       "      <th>4</th>\n",
       "      <td>28</td>\n",
       "      <td>2018</td>\n",
       "      <td>3</td>\n",
       "      <td>7</td>\n",
       "      <td>1</td>\n",
       "      <td>3</td>\n",
       "      <td>Meal Plan 1</td>\n",
       "      <td>0</td>\n",
       "      <td>2</td>\n",
       "      <td>0</td>\n",
       "      <td>Offline</td>\n",
       "      <td>0</td>\n",
       "      <td>0</td>\n",
       "      <td>0</td>\n",
       "      <td>87.00</td>\n",
       "      <td>0</td>\n",
       "      <td>0</td>\n",
       "    </tr>\n",
       "  </tbody>\n",
       "</table>\n",
       "</div>"
      ],
      "text/plain": [
       "   LeadTime  ArrivalYear  ArrivalMonth  ArrivalDate  NumWeekendNights  \\\n",
       "0        10         2018             3           31                 0   \n",
       "1       116         2018             2           28                 2   \n",
       "2        11         2018             7           25                 1   \n",
       "3         3         2017             9           12                 0   \n",
       "4        28         2018             3            7                 1   \n",
       "\n",
       "   NumWeekNights     MealPlan  Parking  NumAdults  NumChildren MarketSegment  \\\n",
       "0              1  Meal Plan 1        0          1            0     Corporate   \n",
       "1              1  Meal Plan 1        0          1            0        Online   \n",
       "2              2  Meal Plan 1        0          2            1        Online   \n",
       "3              1  Meal Plan 1        0          2            0        Online   \n",
       "4              3  Meal Plan 1        0          2            0       Offline   \n",
       "\n",
       "   RepeatedGuest  NumPrevCancellations  NumPreviousNonCancelled  AvgRoomPrice  \\\n",
       "0              0                     0                        0         95.00   \n",
       "1              0                     0                        0         61.00   \n",
       "2              0                     0                        0        129.75   \n",
       "3              0                     0                        0        152.00   \n",
       "4              0                     0                        0         87.00   \n",
       "\n",
       "   SpecialRequests  BookingStatus  \n",
       "0                0              1  \n",
       "1                0              1  \n",
       "2                1              0  \n",
       "3                3              0  \n",
       "4                0              0  "
      ]
     },
     "execution_count": 21,
     "metadata": {},
     "output_type": "execute_result"
    }
   ],
   "source": [
    "# replace 0 with 1 and vise-versa for response comprehension purposes\n",
    "df['BookingStatus'] = df['BookingStatus'].replace({0: 1, 1: 0})\n",
    "df.head()"
   ]
  },
  {
   "cell_type": "code",
   "execution_count": 22,
   "metadata": {},
   "outputs": [
    {
     "data": {
      "text/plain": [
       "LeadTime                   0\n",
       "ArrivalYear                0\n",
       "ArrivalMonth               0\n",
       "ArrivalDate                0\n",
       "NumWeekendNights           0\n",
       "NumWeekNights              0\n",
       "MealPlan                   0\n",
       "Parking                    0\n",
       "NumAdults                  0\n",
       "NumChildren                0\n",
       "MarketSegment              0\n",
       "RepeatedGuest              0\n",
       "NumPrevCancellations       0\n",
       "NumPreviousNonCancelled    0\n",
       "AvgRoomPrice               0\n",
       "SpecialRequests            0\n",
       "BookingStatus              0\n",
       "dtype: int64"
      ]
     },
     "execution_count": 22,
     "metadata": {},
     "output_type": "execute_result"
    }
   ],
   "source": [
    "df.isna().sum()"
   ]
  },
  {
   "cell_type": "code",
   "execution_count": 23,
   "metadata": {
    "scrolled": true
   },
   "outputs": [
    {
     "name": "stdout",
     "output_type": "stream",
     "text": [
      "(29014, 25)\n",
      "   LeadTime  ArrivalYear  ArrivalMonth  ArrivalDate  NumWeekendNights  \\\n",
      "0        10         2018             3           31                 0   \n",
      "1       116         2018             2           28                 2   \n",
      "2        11         2018             7           25                 1   \n",
      "3         3         2017             9           12                 0   \n",
      "4        28         2018             3            7                 1   \n",
      "\n",
      "   NumWeekNights     MealPlan  Parking  NumAdults  NumChildren  ...  \\\n",
      "0              1  Meal Plan 1        0          1            0  ...   \n",
      "1              1  Meal Plan 1        0          1            0  ...   \n",
      "2              2  Meal Plan 1        0          2            1  ...   \n",
      "3              1  Meal Plan 1        0          2            0  ...   \n",
      "4              3  Meal Plan 1        0          2            0  ...   \n",
      "\n",
      "  SpecialRequests  BookingStatus  MealPlan_Meal Plan 1  MealPlan_Meal Plan 2  \\\n",
      "0               0              1                   1.0                   0.0   \n",
      "1               0              1                   1.0                   0.0   \n",
      "2               1              0                   1.0                   0.0   \n",
      "3               3              0                   1.0                   0.0   \n",
      "4               0              0                   1.0                   0.0   \n",
      "\n",
      "   MealPlan_Not Selected  MarketSegment_Aviation  MarketSegment_Complementary  \\\n",
      "0                    0.0                     0.0                          0.0   \n",
      "1                    0.0                     0.0                          0.0   \n",
      "2                    0.0                     0.0                          0.0   \n",
      "3                    0.0                     0.0                          0.0   \n",
      "4                    0.0                     0.0                          0.0   \n",
      "\n",
      "   MarketSegment_Corporate  MarketSegment_Offline  MarketSegment_Online  \n",
      "0                      1.0                    0.0                   0.0  \n",
      "1                      0.0                    0.0                   1.0  \n",
      "2                      0.0                    0.0                   1.0  \n",
      "3                      0.0                    0.0                   1.0  \n",
      "4                      0.0                    1.0                   0.0  \n",
      "\n",
      "[5 rows x 25 columns]\n",
      "   MealPlan_Meal Plan 1  MealPlan_Meal Plan 2  MealPlan_Not Selected  \\\n",
      "0                   1.0                   0.0                    0.0   \n",
      "1                   1.0                   0.0                    0.0   \n",
      "2                   1.0                   0.0                    0.0   \n",
      "3                   1.0                   0.0                    0.0   \n",
      "4                   1.0                   0.0                    0.0   \n",
      "\n",
      "   MarketSegment_Aviation  MarketSegment_Complementary  \\\n",
      "0                     0.0                          0.0   \n",
      "1                     0.0                          0.0   \n",
      "2                     0.0                          0.0   \n",
      "3                     0.0                          0.0   \n",
      "4                     0.0                          0.0   \n",
      "\n",
      "   MarketSegment_Corporate  MarketSegment_Offline  MarketSegment_Online  \n",
      "0                      1.0                    0.0                   0.0  \n",
      "1                      0.0                    0.0                   1.0  \n",
      "2                      0.0                    0.0                   1.0  \n",
      "3                      0.0                    0.0                   1.0  \n",
      "4                      0.0                    1.0                   0.0  \n"
     ]
    }
   ],
   "source": [
    "# Create an instance of the OneHotEncoder class\n",
    "encoder = OneHotEncoder()\n",
    "\n",
    "cat_vars = ['MealPlan', 'MarketSegment']\n",
    "\n",
    "# Specify which columns to encode and fit the encoder to the data\n",
    "encoder.fit(df[cat_vars])\n",
    "\n",
    "encoded_vars = encoder.transform(df[cat_vars]).toarray()\n",
    "\n",
    "encoded = pd.DataFrame(encoded_vars,columns=encoder.get_feature_names(cat_vars))\n",
    "\n",
    "# fix the indices\n",
    "df = df.reset_index(drop=True)\n",
    "encoded = encoded.reset_index(drop=True)\n",
    "df = pd.concat([df, encoded], axis =1)\n",
    "\n",
    "print(df.shape)\n",
    "\n",
    "\n",
    "print(df.head())\n",
    "print(encoded.head())"
   ]
  },
  {
   "cell_type": "code",
   "execution_count": 25,
   "metadata": {},
   "outputs": [
    {
     "data": {
      "text/plain": [
       "Index(['LeadTime', 'ArrivalYear', 'ArrivalMonth', 'ArrivalDate',\n",
       "       'NumWeekendNights', 'NumWeekNights', 'MealPlan', 'Parking', 'NumAdults',\n",
       "       'NumChildren', 'MarketSegment', 'RepeatedGuest', 'NumPrevCancellations',\n",
       "       'NumPreviousNonCancelled', 'AvgRoomPrice', 'SpecialRequests',\n",
       "       'BookingStatus', 'MealPlan_Meal Plan 1', 'MealPlan_Meal Plan 2',\n",
       "       'MealPlan_Not Selected', 'MarketSegment_Aviation',\n",
       "       'MarketSegment_Complementary', 'MarketSegment_Corporate',\n",
       "       'MarketSegment_Offline', 'MarketSegment_Online'],\n",
       "      dtype='object')"
      ]
     },
     "execution_count": 25,
     "metadata": {},
     "output_type": "execute_result"
    }
   ],
   "source": [
    "df.shape\n",
    "df.columns"
   ]
  },
  {
   "cell_type": "code",
   "execution_count": null,
   "metadata": {},
   "outputs": [],
   "source": [
    "df.head()\n",
    "df.shape"
   ]
  },
  {
   "cell_type": "code",
   "execution_count": 26,
   "metadata": {},
   "outputs": [
    {
     "data": {
      "text/html": [
       "<div>\n",
       "<style scoped>\n",
       "    .dataframe tbody tr th:only-of-type {\n",
       "        vertical-align: middle;\n",
       "    }\n",
       "\n",
       "    .dataframe tbody tr th {\n",
       "        vertical-align: top;\n",
       "    }\n",
       "\n",
       "    .dataframe thead th {\n",
       "        text-align: right;\n",
       "    }\n",
       "</style>\n",
       "<table border=\"1\" class=\"dataframe\">\n",
       "  <thead>\n",
       "    <tr style=\"text-align: right;\">\n",
       "      <th></th>\n",
       "      <th>LeadTime</th>\n",
       "      <th>ArrivalYear</th>\n",
       "      <th>ArrivalMonth</th>\n",
       "      <th>ArrivalDate</th>\n",
       "      <th>NumWeekendNights</th>\n",
       "      <th>NumWeekNights</th>\n",
       "      <th>MealPlan</th>\n",
       "      <th>Parking</th>\n",
       "      <th>NumAdults</th>\n",
       "      <th>NumChildren</th>\n",
       "      <th>...</th>\n",
       "      <th>SpecialRequests</th>\n",
       "      <th>BookingStatus</th>\n",
       "      <th>MealPlan_Meal Plan 1</th>\n",
       "      <th>MealPlan_Meal Plan 2</th>\n",
       "      <th>MealPlan_Not Selected</th>\n",
       "      <th>MarketSegment_Aviation</th>\n",
       "      <th>MarketSegment_Complementary</th>\n",
       "      <th>MarketSegment_Corporate</th>\n",
       "      <th>MarketSegment_Offline</th>\n",
       "      <th>MarketSegment_Online</th>\n",
       "    </tr>\n",
       "  </thead>\n",
       "  <tbody>\n",
       "  </tbody>\n",
       "</table>\n",
       "<p>0 rows × 25 columns</p>\n",
       "</div>"
      ],
      "text/plain": [
       "Empty DataFrame\n",
       "Columns: [LeadTime, ArrivalYear, ArrivalMonth, ArrivalDate, NumWeekendNights, NumWeekNights, MealPlan, Parking, NumAdults, NumChildren, MarketSegment, RepeatedGuest, NumPrevCancellations, NumPreviousNonCancelled, AvgRoomPrice, SpecialRequests, BookingStatus, MealPlan_Meal Plan 1, MealPlan_Meal Plan 2, MealPlan_Not Selected, MarketSegment_Aviation, MarketSegment_Complementary, MarketSegment_Corporate, MarketSegment_Offline, MarketSegment_Online]\n",
       "Index: []\n",
       "\n",
       "[0 rows x 25 columns]"
      ]
     },
     "execution_count": 26,
     "metadata": {},
     "output_type": "execute_result"
    }
   ],
   "source": [
    "df[df.isna().any(axis=1)]"
   ]
  },
  {
   "cell_type": "code",
   "execution_count": 28,
   "metadata": {},
   "outputs": [],
   "source": [
    "df = df.drop('MealPlan_Not Selected', axis=1)\n",
    "df = df.drop('MarketSegment_Online', axis=1)"
   ]
  },
  {
   "cell_type": "code",
   "execution_count": 29,
   "metadata": {},
   "outputs": [
    {
     "data": {
      "text/plain": [
       "LeadTime                       0\n",
       "ArrivalYear                    0\n",
       "ArrivalMonth                   0\n",
       "ArrivalDate                    0\n",
       "NumWeekendNights               0\n",
       "NumWeekNights                  0\n",
       "MealPlan                       0\n",
       "Parking                        0\n",
       "NumAdults                      0\n",
       "NumChildren                    0\n",
       "MarketSegment                  0\n",
       "RepeatedGuest                  0\n",
       "NumPrevCancellations           0\n",
       "NumPreviousNonCancelled        0\n",
       "AvgRoomPrice                   0\n",
       "SpecialRequests                0\n",
       "BookingStatus                  0\n",
       "MealPlan_Meal Plan 1           0\n",
       "MealPlan_Meal Plan 2           0\n",
       "MarketSegment_Aviation         0\n",
       "MarketSegment_Complementary    0\n",
       "MarketSegment_Corporate        0\n",
       "MarketSegment_Offline          0\n",
       "dtype: int64"
      ]
     },
     "execution_count": 29,
     "metadata": {},
     "output_type": "execute_result"
    }
   ],
   "source": [
    "df.isna().sum()"
   ]
  },
  {
   "cell_type": "code",
   "execution_count": 39,
   "metadata": {},
   "outputs": [],
   "source": [
    "df = df.drop('MealPlan', axis=1)\n",
    "df = df.drop('MarketSegment', axis=1)"
   ]
  },
  {
   "cell_type": "code",
   "execution_count": 40,
   "metadata": {},
   "outputs": [
    {
     "name": "stdout",
     "output_type": "stream",
     "text": [
      "Index(['LeadTime', 'ArrivalYear', 'ArrivalMonth', 'ArrivalDate',\n",
      "       'NumWeekendNights', 'NumWeekNights', 'Parking', 'NumAdults',\n",
      "       'NumChildren', 'RepeatedGuest', 'NumPrevCancellations',\n",
      "       'NumPreviousNonCancelled', 'AvgRoomPrice', 'SpecialRequests',\n",
      "       'MealPlan_Meal Plan 1', 'MealPlan_Meal Plan 2',\n",
      "       'MarketSegment_Aviation', 'MarketSegment_Complementary',\n",
      "       'MarketSegment_Corporate', 'MarketSegment_Offline'],\n",
      "      dtype='object')\n",
      "[1 1 0 ... 0 1 0]\n"
     ]
    }
   ],
   "source": [
    "X = df.drop(['BookingStatus'],axis=1)\n",
    "#X = pd.DataFrame(df.data, columns=df.feature_names)\n",
    "print(X.columns)\n",
    "\n",
    "y = df.BookingStatus.values \n",
    "print(y)"
   ]
  },
  {
   "cell_type": "code",
   "execution_count": 41,
   "metadata": {},
   "outputs": [],
   "source": [
    "# not going to scale the X's right now, can look into this later if we need to improve model\n",
    "#X_scaled =  StandardScaler().fit_transform(X) "
   ]
  },
  {
   "cell_type": "code",
   "execution_count": 42,
   "metadata": {},
   "outputs": [],
   "source": [
    "# split data into train and validate \n",
    "X_train, X_valid, y_train, y_valid = train_test_split(X,y,test_size = 0.2,stratify=y, random_state=1)"
   ]
  },
  {
   "cell_type": "markdown",
   "metadata": {},
   "source": [
    "## Random Forest Model"
   ]
  },
  {
   "cell_type": "code",
   "execution_count": 43,
   "metadata": {},
   "outputs": [],
   "source": [
    "#Define the classifier\n",
    "forest = RandomForestClassifier(n_estimators=1000, \n",
    "                       criterion='entropy', \n",
    "                       max_depth=None, \n",
    "                       min_samples_split=2, \n",
    "                       min_samples_leaf=0.001, \n",
    "                       min_weight_fraction_leaf=0.0, \n",
    "                       max_features='auto',  \n",
    "                       max_leaf_nodes=None, \n",
    "                       min_impurity_decrease=0.0001, \n",
    "                       bootstrap=True, \n",
    "                       oob_score=True,  \n",
    "                       n_jobs=-1, \n",
    "                       random_state=20190305, \n",
    "                       verbose=1, \n",
    "                       warm_start=False, \n",
    "                       class_weight='balanced'\n",
    "                                    )"
   ]
  },
  {
   "cell_type": "code",
   "execution_count": 44,
   "metadata": {
    "scrolled": true
   },
   "outputs": [
    {
     "name": "stderr",
     "output_type": "stream",
     "text": [
      "[Parallel(n_jobs=-1)]: Using backend ThreadingBackend with 4 concurrent workers.\n",
      "[Parallel(n_jobs=-1)]: Done  42 tasks      | elapsed:    0.4s\n",
      "[Parallel(n_jobs=-1)]: Done 192 tasks      | elapsed:    1.6s\n",
      "[Parallel(n_jobs=-1)]: Done 442 tasks      | elapsed:    3.6s\n",
      "[Parallel(n_jobs=-1)]: Done 792 tasks      | elapsed:    6.9s\n",
      "[Parallel(n_jobs=-1)]: Done 1000 out of 1000 | elapsed:    9.0s finished\n"
     ]
    },
    {
     "data": {
      "text/plain": [
       "RandomForestClassifier(class_weight='balanced', criterion='entropy',\n",
       "                       min_impurity_decrease=0.0001, min_samples_leaf=0.001,\n",
       "                       n_estimators=1000, n_jobs=-1, oob_score=True,\n",
       "                       random_state=20190305, verbose=1)"
      ]
     },
     "execution_count": 44,
     "metadata": {},
     "output_type": "execute_result"
    }
   ],
   "source": [
    "# fit the forest model\n",
    "forest.fit(X_train,y_train)"
   ]
  },
  {
   "cell_type": "code",
   "execution_count": 45,
   "metadata": {},
   "outputs": [
    {
     "name": "stderr",
     "output_type": "stream",
     "text": [
      "[Parallel(n_jobs=4)]: Using backend ThreadingBackend with 4 concurrent workers.\n",
      "[Parallel(n_jobs=4)]: Done  42 tasks      | elapsed:    0.0s\n",
      "[Parallel(n_jobs=4)]: Done 192 tasks      | elapsed:    0.1s\n",
      "[Parallel(n_jobs=4)]: Done 442 tasks      | elapsed:    0.3s\n",
      "[Parallel(n_jobs=4)]: Done 792 tasks      | elapsed:    0.4s\n",
      "[Parallel(n_jobs=4)]: Done 1000 out of 1000 | elapsed:    0.6s finished\n",
      "[Parallel(n_jobs=4)]: Using backend ThreadingBackend with 4 concurrent workers.\n",
      "[Parallel(n_jobs=4)]: Done  42 tasks      | elapsed:    0.0s\n",
      "[Parallel(n_jobs=4)]: Done 192 tasks      | elapsed:    0.1s\n",
      "[Parallel(n_jobs=4)]: Done 442 tasks      | elapsed:    0.2s\n",
      "[Parallel(n_jobs=4)]: Done 792 tasks      | elapsed:    0.4s\n",
      "[Parallel(n_jobs=4)]: Done 1000 out of 1000 | elapsed:    0.5s finished\n"
     ]
    }
   ],
   "source": [
    "# Apply the model to the test set.\n",
    "rf_pred_class_test = forest.predict(X_valid)\n",
    "rf_probs_test = forest.predict_proba(X_valid)"
   ]
  },
  {
   "cell_type": "code",
   "execution_count": 67,
   "metadata": {},
   "outputs": [
    {
     "name": "stderr",
     "output_type": "stream",
     "text": [
      "[Parallel(n_jobs=4)]: Using backend ThreadingBackend with 4 concurrent workers.\n",
      "[Parallel(n_jobs=4)]: Done  42 tasks      | elapsed:    0.0s\n",
      "[Parallel(n_jobs=4)]: Done 192 tasks      | elapsed:    0.1s\n",
      "[Parallel(n_jobs=4)]: Done 442 tasks      | elapsed:    0.3s\n",
      "[Parallel(n_jobs=4)]: Done 792 tasks      | elapsed:    0.5s\n",
      "[Parallel(n_jobs=4)]: Done 1000 out of 1000 | elapsed:    0.6s finished\n"
     ]
    }
   ],
   "source": [
    "# Get the predicted probabilities for each class\n",
    "probs = forest.predict_proba(X_valid)\n",
    "\n",
    "# Apply a custom threshold to the probabilities (we played around with this)\n",
    "threshold = 0.44\n",
    "rf_pred_class_test = (probs[:, 1] > threshold).astype(int)"
   ]
  },
  {
   "cell_type": "code",
   "execution_count": 68,
   "metadata": {},
   "outputs": [
    {
     "data": {
      "image/png": "[encoded data removed]",
      "text/plain": [
       "<Figure size 720x504 with 2 Axes>"
      ]
     },
     "metadata": {
      "needs_background": "light"
     },
     "output_type": "display_data"
    }
   ],
   "source": [
    "# Calculate confusion matrix\n",
    "from sklearn.metrics import accuracy_score, roc_auc_score, confusion_matrix, roc_curve\n",
    "\n",
    "confusion_matrix_rf = confusion_matrix(y_true = y_valid, \n",
    "                    y_pred = rf_pred_class_test)\n",
    "\n",
    "# Turn matrix to percentages\n",
    "confusion_matrix_rf = confusion_matrix_rf.astype('float') / confusion_matrix_rf.sum(axis=1)[:, np.newaxis]\n",
    "\n",
    "# Turn to dataframe\n",
    "df_cm = pd.DataFrame(\n",
    "        confusion_matrix_rf, index=['canceled', 'not canceled'], columns=['canceled', 'not canceled'], \n",
    ")\n",
    "\n",
    "# Parameters of the image\n",
    "figsize = (10,7)\n",
    "fontsize=14\n",
    "\n",
    "# Create image\n",
    "fig = plt.figure(figsize=figsize)\n",
    "heatmap = sns.heatmap(df_cm, annot=True, fmt='.2f')\n",
    "\n",
    "# Make it nicer\n",
    "heatmap.yaxis.set_ticklabels(heatmap.yaxis.get_ticklabels(), rotation=0, \n",
    "                             ha='right', fontsize=fontsize)\n",
    "heatmap.xaxis.set_ticklabels(heatmap.xaxis.get_ticklabels(), rotation=45,\n",
    "                             ha='right', fontsize=fontsize)\n",
    "\n",
    "# Add labels\n",
    "plt.ylabel('True Label')\n",
    "plt.xlabel('Predicted Label')\n",
    "\n",
    "# show plot\n",
    "plt.show()"
   ]
  },
  {
   "cell_type": "code",
   "execution_count": 69,
   "metadata": {},
   "outputs": [
    {
     "data": {
      "text/plain": [
       "0.8576536986773513"
      ]
     },
     "execution_count": 69,
     "metadata": {},
     "output_type": "execute_result"
    }
   ],
   "source": [
    "# print the score\n",
    "forest.oob_score_"
   ]
  },
  {
   "cell_type": "markdown",
   "metadata": {},
   "source": [
    "Out of Bag score was assessed on the Scikit learn's random forest we developed.\n",
    "\n",
    "we can conclude that the forest model correctly predicted the target variable for approx. 85.77% of the out-of-bag samples.\n",
    "\n",
    "The OOB score is a measure of prediction accurcy of the RF model. It does this by estimating how well the model will perform using new, unseen data, which is known as our validation dataset.\n",
    "\n",
    "Predicting correctly 85.77% of the time is relatively accurate and has a good predictive power. \n",
    "\n",
    "We will also look at other metrics such as precision, recall, F1 score, and accuracy to further assess the overall quality of this model before attempting another one.\n",
    "\n",
    "However, we would like to look further into this via an AutoML RF, and perhaps a XGBoost model. "
   ]
  },
  {
   "cell_type": "code",
   "execution_count": 70,
   "metadata": {},
   "outputs": [
    {
     "data": {
      "image/png": "[encoded data removed]",
      "text/plain": [
       "<Figure size 432x288 with 1 Axes>"
      ]
     },
     "metadata": {
      "needs_background": "light"
     },
     "output_type": "display_data"
    }
   ],
   "source": [
    "# Calculate the ROC curve points\n",
    "fpr, tpr, thresholds = roc_curve(y_valid, rf_probs_test[:,1])\n",
    "\n",
    "# Save the AUC in a variable to show it \n",
    "auc = np.round(roc_auc_score(y_true = y_valid, \n",
    "                             y_score = rf_probs_test[:,1]),\n",
    "              decimals = 3)\n",
    "\n",
    "# Create and show the plot\n",
    "plt.plot(fpr,tpr,label=\"Hotel Cancelations, auc=\"+str(auc))\n",
    "plt.legend(loc=4)\n",
    "plt.show()"
   ]
  },
  {
   "cell_type": "code",
   "execution_count": 71,
   "metadata": {},
   "outputs": [
    {
     "data": {
      "image/png": "[encoded data removed]",
      "text/plain": [
       "<Figure size 216x576 with 1 Axes>"
      ]
     },
     "metadata": {
      "needs_background": "light"
     },
     "output_type": "display_data"
    }
   ],
   "source": [
    "# Plot variable importance\n",
    "importances = forest.feature_importances_\n",
    "indices = np.argsort(importances)[::-1] \n",
    "\n",
    "f, ax = plt.subplots(figsize=(3, 8))\n",
    "plt.title(\"Variable Importance - Random Forest\")\n",
    "sns.set_color_codes(\"pastel\")\n",
    "sns.barplot(y=[X_train.columns[i] for i in indices], x=importances[indices], \n",
    "            label=\"Total\", color=\"b\")\n",
    "ax.set(ylabel=\"Variable\",\n",
    "       xlabel=\"Variable Importance (Entropy)\")\n",
    "sns.despine(left=True, bottom=True)"
   ]
  },
  {
   "cell_type": "markdown",
   "metadata": {},
   "source": [
    "## XGBoost Model"
   ]
  },
  {
   "cell_type": "code",
   "execution_count": 79,
   "metadata": {},
   "outputs": [],
   "source": [
    "# new classifier for XGBoost ML algorithm with IDEAL parameters after performing grid searches\n",
    "XGB_Best = XGBClassifier(max_depth=5,                 \n",
    "                            learning_rate=0.1,            \n",
    "                            n_estimators=250,              \n",
    "                            verbosity=1,                 \n",
    "                            objective='binary:logistic',  \n",
    "                            booster='gbtree',             \n",
    "                            n_jobs=-1,                     \n",
    "                            gamma=0.2,                  \n",
    "                            subsample=0.8,              \n",
    "                            colsample_bytree=0.8,          \n",
    "                            colsample_bylevel=1,          \n",
    "                            colsample_bynode=1,           \n",
    "                            scale_pos_weight=2,           \n",
    "                            base_score=0.5,               \n",
    "                            random_state=20201107 ,       \n",
    "                            reg_lambda=1,\n",
    "                            reg_alpha=0.5,\n",
    "                            min_child_weight=1\n",
    "                            \n",
    "                            )"
   ]
  },
  {
   "cell_type": "code",
   "execution_count": 73,
   "metadata": {},
   "outputs": [
    {
     "data": {
      "text/plain": [
       "{'n_estimators': [250],\n",
       " 'max_depth': [5],\n",
       " 'learning_rate': [0.1],\n",
       " 'subsample': [0.8],\n",
       " 'colsample_bytree': [0.8],\n",
       " 'min_child_weight': [1, 5, 10],\n",
       " 'gamma': [0, 0.1, 0.2],\n",
       " 'reg_alpha': [0, 0.1, 0.5],\n",
       " 'reg_lambda': [0.5, 1, 1.5],\n",
       " 'scale_pos_weight': [1, 2, 5]}"
      ]
     },
     "execution_count": 73,
     "metadata": {},
     "output_type": "execute_result"
    }
   ],
   "source": [
    "# param grid\n",
    "param_grid = dict({'n_estimators': [250],\n",
    "                   'max_depth': [5],\n",
    "                 'learning_rate' : [0.1],\n",
    "                   'subsample':[0.8],\n",
    "                   'colsample_bytree':[0.8],\n",
    "                   'min_child_weight': [1, 5, 10],\n",
    "              'gamma': [0, 0.1, 0.2],\n",
    "              'reg_alpha': [0, 0.1, 0.5],\n",
    "              'reg_lambda': [0.5, 1, 1.5],\n",
    "              'scale_pos_weight': [1, 2, 5]\n",
    "                  })\n",
    "param_grid"
   ]
  },
  {
   "cell_type": "code",
   "execution_count": 74,
   "metadata": {},
   "outputs": [
    {
     "name": "stderr",
     "output_type": "stream",
     "text": [
      "<ipython-input-74-1c518491218e>:2: SettingWithCopyWarning: \n",
      "A value is trying to be set on a copy of a slice from a DataFrame.\n",
      "Try using .loc[row_indexer,col_indexer] = value instead\n",
      "\n",
      "See the caveats in the documentation: https://pandas.pydata.org/pandas-docs/stable/user_guide/indexing.html#returning-a-view-versus-a-copy\n",
      "  X_train['BookingStatus'] = y_train\n"
     ]
    },
    {
     "data": {
      "text/html": [
       "<div>\n",
       "<style scoped>\n",
       "    .dataframe tbody tr th:only-of-type {\n",
       "        vertical-align: middle;\n",
       "    }\n",
       "\n",
       "    .dataframe tbody tr th {\n",
       "        vertical-align: top;\n",
       "    }\n",
       "\n",
       "    .dataframe thead th {\n",
       "        text-align: right;\n",
       "    }\n",
       "</style>\n",
       "<table border=\"1\" class=\"dataframe\">\n",
       "  <thead>\n",
       "    <tr style=\"text-align: right;\">\n",
       "      <th></th>\n",
       "      <th>LeadTime</th>\n",
       "      <th>ArrivalYear</th>\n",
       "      <th>ArrivalMonth</th>\n",
       "      <th>ArrivalDate</th>\n",
       "      <th>NumWeekendNights</th>\n",
       "      <th>NumWeekNights</th>\n",
       "      <th>Parking</th>\n",
       "      <th>NumAdults</th>\n",
       "      <th>NumChildren</th>\n",
       "      <th>RepeatedGuest</th>\n",
       "      <th>...</th>\n",
       "      <th>NumPreviousNonCancelled</th>\n",
       "      <th>AvgRoomPrice</th>\n",
       "      <th>SpecialRequests</th>\n",
       "      <th>MealPlan_Meal Plan 1</th>\n",
       "      <th>MealPlan_Meal Plan 2</th>\n",
       "      <th>MarketSegment_Aviation</th>\n",
       "      <th>MarketSegment_Complementary</th>\n",
       "      <th>MarketSegment_Corporate</th>\n",
       "      <th>MarketSegment_Offline</th>\n",
       "      <th>BookingStatus</th>\n",
       "    </tr>\n",
       "  </thead>\n",
       "  <tbody>\n",
       "    <tr>\n",
       "      <th>21719</th>\n",
       "      <td>142</td>\n",
       "      <td>2018</td>\n",
       "      <td>5</td>\n",
       "      <td>9</td>\n",
       "      <td>1</td>\n",
       "      <td>2</td>\n",
       "      <td>0</td>\n",
       "      <td>2</td>\n",
       "      <td>0</td>\n",
       "      <td>0</td>\n",
       "      <td>...</td>\n",
       "      <td>0</td>\n",
       "      <td>125.33</td>\n",
       "      <td>1</td>\n",
       "      <td>1.0</td>\n",
       "      <td>0.0</td>\n",
       "      <td>0.0</td>\n",
       "      <td>0.0</td>\n",
       "      <td>0.0</td>\n",
       "      <td>0.0</td>\n",
       "      <td>0</td>\n",
       "    </tr>\n",
       "    <tr>\n",
       "      <th>8806</th>\n",
       "      <td>16</td>\n",
       "      <td>2018</td>\n",
       "      <td>2</td>\n",
       "      <td>3</td>\n",
       "      <td>1</td>\n",
       "      <td>4</td>\n",
       "      <td>0</td>\n",
       "      <td>2</td>\n",
       "      <td>0</td>\n",
       "      <td>0</td>\n",
       "      <td>...</td>\n",
       "      <td>0</td>\n",
       "      <td>74.80</td>\n",
       "      <td>1</td>\n",
       "      <td>1.0</td>\n",
       "      <td>0.0</td>\n",
       "      <td>0.0</td>\n",
       "      <td>0.0</td>\n",
       "      <td>0.0</td>\n",
       "      <td>0.0</td>\n",
       "      <td>0</td>\n",
       "    </tr>\n",
       "    <tr>\n",
       "      <th>1865</th>\n",
       "      <td>6</td>\n",
       "      <td>2018</td>\n",
       "      <td>12</td>\n",
       "      <td>30</td>\n",
       "      <td>0</td>\n",
       "      <td>2</td>\n",
       "      <td>0</td>\n",
       "      <td>2</td>\n",
       "      <td>1</td>\n",
       "      <td>0</td>\n",
       "      <td>...</td>\n",
       "      <td>0</td>\n",
       "      <td>158.00</td>\n",
       "      <td>2</td>\n",
       "      <td>1.0</td>\n",
       "      <td>0.0</td>\n",
       "      <td>0.0</td>\n",
       "      <td>0.0</td>\n",
       "      <td>0.0</td>\n",
       "      <td>0.0</td>\n",
       "      <td>0</td>\n",
       "    </tr>\n",
       "    <tr>\n",
       "      <th>27530</th>\n",
       "      <td>112</td>\n",
       "      <td>2018</td>\n",
       "      <td>12</td>\n",
       "      <td>5</td>\n",
       "      <td>1</td>\n",
       "      <td>3</td>\n",
       "      <td>0</td>\n",
       "      <td>2</td>\n",
       "      <td>0</td>\n",
       "      <td>0</td>\n",
       "      <td>...</td>\n",
       "      <td>0</td>\n",
       "      <td>126.30</td>\n",
       "      <td>2</td>\n",
       "      <td>0.0</td>\n",
       "      <td>1.0</td>\n",
       "      <td>0.0</td>\n",
       "      <td>0.0</td>\n",
       "      <td>0.0</td>\n",
       "      <td>0.0</td>\n",
       "      <td>1</td>\n",
       "    </tr>\n",
       "    <tr>\n",
       "      <th>24751</th>\n",
       "      <td>71</td>\n",
       "      <td>2018</td>\n",
       "      <td>3</td>\n",
       "      <td>18</td>\n",
       "      <td>2</td>\n",
       "      <td>2</td>\n",
       "      <td>0</td>\n",
       "      <td>2</td>\n",
       "      <td>0</td>\n",
       "      <td>0</td>\n",
       "      <td>...</td>\n",
       "      <td>0</td>\n",
       "      <td>90.95</td>\n",
       "      <td>1</td>\n",
       "      <td>1.0</td>\n",
       "      <td>0.0</td>\n",
       "      <td>0.0</td>\n",
       "      <td>0.0</td>\n",
       "      <td>0.0</td>\n",
       "      <td>0.0</td>\n",
       "      <td>0</td>\n",
       "    </tr>\n",
       "    <tr>\n",
       "      <th>...</th>\n",
       "      <td>...</td>\n",
       "      <td>...</td>\n",
       "      <td>...</td>\n",
       "      <td>...</td>\n",
       "      <td>...</td>\n",
       "      <td>...</td>\n",
       "      <td>...</td>\n",
       "      <td>...</td>\n",
       "      <td>...</td>\n",
       "      <td>...</td>\n",
       "      <td>...</td>\n",
       "      <td>...</td>\n",
       "      <td>...</td>\n",
       "      <td>...</td>\n",
       "      <td>...</td>\n",
       "      <td>...</td>\n",
       "      <td>...</td>\n",
       "      <td>...</td>\n",
       "      <td>...</td>\n",
       "      <td>...</td>\n",
       "      <td>...</td>\n",
       "    </tr>\n",
       "    <tr>\n",
       "      <th>13094</th>\n",
       "      <td>30</td>\n",
       "      <td>2018</td>\n",
       "      <td>6</td>\n",
       "      <td>2</td>\n",
       "      <td>0</td>\n",
       "      <td>2</td>\n",
       "      <td>0</td>\n",
       "      <td>2</td>\n",
       "      <td>0</td>\n",
       "      <td>0</td>\n",
       "      <td>...</td>\n",
       "      <td>0</td>\n",
       "      <td>140.00</td>\n",
       "      <td>0</td>\n",
       "      <td>1.0</td>\n",
       "      <td>0.0</td>\n",
       "      <td>0.0</td>\n",
       "      <td>0.0</td>\n",
       "      <td>0.0</td>\n",
       "      <td>1.0</td>\n",
       "      <td>0</td>\n",
       "    </tr>\n",
       "    <tr>\n",
       "      <th>11555</th>\n",
       "      <td>32</td>\n",
       "      <td>2018</td>\n",
       "      <td>10</td>\n",
       "      <td>29</td>\n",
       "      <td>0</td>\n",
       "      <td>1</td>\n",
       "      <td>0</td>\n",
       "      <td>2</td>\n",
       "      <td>0</td>\n",
       "      <td>0</td>\n",
       "      <td>...</td>\n",
       "      <td>0</td>\n",
       "      <td>109.00</td>\n",
       "      <td>2</td>\n",
       "      <td>0.0</td>\n",
       "      <td>0.0</td>\n",
       "      <td>0.0</td>\n",
       "      <td>0.0</td>\n",
       "      <td>0.0</td>\n",
       "      <td>0.0</td>\n",
       "      <td>0</td>\n",
       "    </tr>\n",
       "    <tr>\n",
       "      <th>28661</th>\n",
       "      <td>1</td>\n",
       "      <td>2018</td>\n",
       "      <td>6</td>\n",
       "      <td>7</td>\n",
       "      <td>0</td>\n",
       "      <td>1</td>\n",
       "      <td>0</td>\n",
       "      <td>2</td>\n",
       "      <td>0</td>\n",
       "      <td>1</td>\n",
       "      <td>...</td>\n",
       "      <td>25</td>\n",
       "      <td>0.00</td>\n",
       "      <td>3</td>\n",
       "      <td>1.0</td>\n",
       "      <td>0.0</td>\n",
       "      <td>0.0</td>\n",
       "      <td>1.0</td>\n",
       "      <td>0.0</td>\n",
       "      <td>0.0</td>\n",
       "      <td>0</td>\n",
       "    </tr>\n",
       "    <tr>\n",
       "      <th>7194</th>\n",
       "      <td>185</td>\n",
       "      <td>2018</td>\n",
       "      <td>7</td>\n",
       "      <td>18</td>\n",
       "      <td>2</td>\n",
       "      <td>5</td>\n",
       "      <td>0</td>\n",
       "      <td>2</td>\n",
       "      <td>0</td>\n",
       "      <td>0</td>\n",
       "      <td>...</td>\n",
       "      <td>0</td>\n",
       "      <td>90.95</td>\n",
       "      <td>0</td>\n",
       "      <td>1.0</td>\n",
       "      <td>0.0</td>\n",
       "      <td>0.0</td>\n",
       "      <td>0.0</td>\n",
       "      <td>0.0</td>\n",
       "      <td>0.0</td>\n",
       "      <td>1</td>\n",
       "    </tr>\n",
       "    <tr>\n",
       "      <th>3550</th>\n",
       "      <td>192</td>\n",
       "      <td>2017</td>\n",
       "      <td>9</td>\n",
       "      <td>25</td>\n",
       "      <td>2</td>\n",
       "      <td>3</td>\n",
       "      <td>0</td>\n",
       "      <td>2</td>\n",
       "      <td>0</td>\n",
       "      <td>0</td>\n",
       "      <td>...</td>\n",
       "      <td>0</td>\n",
       "      <td>19.15</td>\n",
       "      <td>0</td>\n",
       "      <td>1.0</td>\n",
       "      <td>0.0</td>\n",
       "      <td>0.0</td>\n",
       "      <td>0.0</td>\n",
       "      <td>0.0</td>\n",
       "      <td>1.0</td>\n",
       "      <td>1</td>\n",
       "    </tr>\n",
       "  </tbody>\n",
       "</table>\n",
       "<p>23211 rows × 21 columns</p>\n",
       "</div>"
      ],
      "text/plain": [
       "       LeadTime  ArrivalYear  ArrivalMonth  ArrivalDate  NumWeekendNights  \\\n",
       "21719       142         2018             5            9                 1   \n",
       "8806         16         2018             2            3                 1   \n",
       "1865          6         2018            12           30                 0   \n",
       "27530       112         2018            12            5                 1   \n",
       "24751        71         2018             3           18                 2   \n",
       "...         ...          ...           ...          ...               ...   \n",
       "13094        30         2018             6            2                 0   \n",
       "11555        32         2018            10           29                 0   \n",
       "28661         1         2018             6            7                 0   \n",
       "7194        185         2018             7           18                 2   \n",
       "3550        192         2017             9           25                 2   \n",
       "\n",
       "       NumWeekNights  Parking  NumAdults  NumChildren  RepeatedGuest  ...  \\\n",
       "21719              2        0          2            0              0  ...   \n",
       "8806               4        0          2            0              0  ...   \n",
       "1865               2        0          2            1              0  ...   \n",
       "27530              3        0          2            0              0  ...   \n",
       "24751              2        0          2            0              0  ...   \n",
       "...              ...      ...        ...          ...            ...  ...   \n",
       "13094              2        0          2            0              0  ...   \n",
       "11555              1        0          2            0              0  ...   \n",
       "28661              1        0          2            0              1  ...   \n",
       "7194               5        0          2            0              0  ...   \n",
       "3550               3        0          2            0              0  ...   \n",
       "\n",
       "       NumPreviousNonCancelled  AvgRoomPrice  SpecialRequests  \\\n",
       "21719                        0        125.33                1   \n",
       "8806                         0         74.80                1   \n",
       "1865                         0        158.00                2   \n",
       "27530                        0        126.30                2   \n",
       "24751                        0         90.95                1   \n",
       "...                        ...           ...              ...   \n",
       "13094                        0        140.00                0   \n",
       "11555                        0        109.00                2   \n",
       "28661                       25          0.00                3   \n",
       "7194                         0         90.95                0   \n",
       "3550                         0         19.15                0   \n",
       "\n",
       "       MealPlan_Meal Plan 1  MealPlan_Meal Plan 2  MarketSegment_Aviation  \\\n",
       "21719                   1.0                   0.0                     0.0   \n",
       "8806                    1.0                   0.0                     0.0   \n",
       "1865                    1.0                   0.0                     0.0   \n",
       "27530                   0.0                   1.0                     0.0   \n",
       "24751                   1.0                   0.0                     0.0   \n",
       "...                     ...                   ...                     ...   \n",
       "13094                   1.0                   0.0                     0.0   \n",
       "11555                   0.0                   0.0                     0.0   \n",
       "28661                   1.0                   0.0                     0.0   \n",
       "7194                    1.0                   0.0                     0.0   \n",
       "3550                    1.0                   0.0                     0.0   \n",
       "\n",
       "       MarketSegment_Complementary  MarketSegment_Corporate  \\\n",
       "21719                          0.0                      0.0   \n",
       "8806                           0.0                      0.0   \n",
       "1865                           0.0                      0.0   \n",
       "27530                          0.0                      0.0   \n",
       "24751                          0.0                      0.0   \n",
       "...                            ...                      ...   \n",
       "13094                          0.0                      0.0   \n",
       "11555                          0.0                      0.0   \n",
       "28661                          1.0                      0.0   \n",
       "7194                           0.0                      0.0   \n",
       "3550                           0.0                      0.0   \n",
       "\n",
       "       MarketSegment_Offline  BookingStatus  \n",
       "21719                    0.0              0  \n",
       "8806                     0.0              0  \n",
       "1865                     0.0              0  \n",
       "27530                    0.0              1  \n",
       "24751                    0.0              0  \n",
       "...                      ...            ...  \n",
       "13094                    1.0              0  \n",
       "11555                    0.0              0  \n",
       "28661                    0.0              0  \n",
       "7194                     0.0              1  \n",
       "3550                     1.0              1  \n",
       "\n",
       "[23211 rows x 21 columns]"
      ]
     },
     "execution_count": 74,
     "metadata": {},
     "output_type": "execute_result"
    }
   ],
   "source": [
    "# combining X_train and y_train: on the bookingstatus response var\n",
    "X_train['BookingStatus'] = y_train\n",
    "\n",
    "X_train"
   ]
  },
  {
   "cell_type": "code",
   "execution_count": 75,
   "metadata": {},
   "outputs": [],
   "source": [
    "# turn a true validation set as a subset of the train, so the validation made before is technically test\n",
    "true_val = X_train.sample(frac = 0.6,               \n",
    "                                       random_state = 20201107   \n",
    "                                       )\n",
    "\n",
    "\n",
    "# Crossvalidation\n",
    "cv_object = StratifiedKFold(n_splits=3)"
   ]
  },
  {
   "cell_type": "code",
   "execution_count": 76,
   "metadata": {},
   "outputs": [],
   "source": [
    "# grid search object.\n",
    "GridXGB = GridSearchCV(XGB_Bankloan,         \n",
    "                       param_grid,         \n",
    "                       cv = cv_object,        \n",
    "                       scoring = 'roc_auc', \n",
    "                       n_jobs = -1,          \n",
    "                       refit = False,       \n",
    "                       verbose = 1          \n",
    "                      )"
   ]
  },
  {
   "cell_type": "code",
   "execution_count": 77,
   "metadata": {},
   "outputs": [],
   "source": [
    "#true_val_y = y_train"
   ]
  },
  {
   "cell_type": "code",
   "execution_count": 129,
   "metadata": {},
   "outputs": [],
   "source": [
    "# TRAIN GRID SEARCH\n",
    "\n",
    "# this is commented out as it took 20 mins to run, it is the hypertuning paramterization \n",
    "# this is how we determined which parameters were ideal for our model via best parameters and results of the grid search carried out in cells below\n",
    "# code below for this cell:\n",
    "\n",
    "#GridXGB.fit(true_val.iloc[:, :-1], true_val['BookingStatus'])"
   ]
  },
  {
   "cell_type": "code",
   "execution_count": null,
   "metadata": {},
   "outputs": [],
   "source": [
    "# Show best params\n",
    "GridXGB.best_params_"
   ]
  },
  {
   "cell_type": "code",
   "execution_count": null,
   "metadata": {
    "scrolled": true
   },
   "outputs": [],
   "source": [
    "# shows results\n",
    "GridXGB.cv_results_"
   ]
  },
  {
   "cell_type": "code",
   "execution_count": null,
   "metadata": {},
   "outputs": [],
   "source": [
    "# Create XGB with best parameters.\n",
    "XGB_Best = XGBClassifier(max_depth=GridXGB.best_params_.get('max_depth'), \n",
    "                            learning_rate=GridXGB.best_params_.get('learning_rate'), \n",
    "                            n_estimators=GridXGB.best_params_.get('n_estimators'), \n",
    "                            verbosity=1,                  \n",
    "                            objective='binary:logistic',  \n",
    "                            booster='gbtree',             \n",
    "                            n_jobs=4,                     \n",
    "                            gamma=GridXGB.best_params_.get('gamma'),                  \n",
    "                            subsample=GridXGB.best_params_.get('subsample'),                  \n",
    "                            colsample_bytree=GridXGB.best_params_.get('subsample'),           \n",
    "                            colsample_bylevel=1,          \n",
    "                            colsample_bynode=1,           \n",
    "                            reg_alpha=GridXGB.best_params_.get('reg_alpha'),                 \n",
    "                            reg_lambda=GridXGB.best_params_.get('reg_lambda'),                 \n",
    "                            scale_pos_weight=GridXGB.best_params_.get('scale_pos_weight'),           \n",
    "                            base_score=0.5,               \n",
    "                            random_state=20201107,        \n",
    "                            min_child_weight=GridXGB.best_params_.get('min_child_weight')\n",
    "                            )"
   ]
  },
  {
   "cell_type": "code",
   "execution_count": 80,
   "metadata": {},
   "outputs": [
    {
     "data": {
      "text/plain": [
       "XGBClassifier(base_score=0.5, booster='gbtree', callbacks=None,\n",
       "              colsample_bylevel=1, colsample_bynode=1, colsample_bytree=0.8,\n",
       "              early_stopping_rounds=None, enable_categorical=False,\n",
       "              eval_metric=None, feature_types=None, gamma=0.2, gpu_id=None,\n",
       "              grow_policy=None, importance_type=None,\n",
       "              interaction_constraints=None, learning_rate=0.1, max_bin=None,\n",
       "              max_cat_threshold=None, max_cat_to_onehot=None,\n",
       "              max_delta_step=None, max_depth=5, max_leaves=None,\n",
       "              min_child_weight=1, missing=nan, monotone_constraints=None,\n",
       "              n_estimators=250, n_jobs=-1, num_parallel_tree=None,\n",
       "              predictor=None, random_state=20201107, ...)"
      ]
     },
     "execution_count": 80,
     "metadata": {},
     "output_type": "execute_result"
    }
   ],
   "source": [
    "# Train over all training data.\n",
    "XGB_Best.fit(X_train.iloc[:, :-1], X_train['BookingStatus'])"
   ]
  },
  {
   "cell_type": "code",
   "execution_count": 81,
   "metadata": {},
   "outputs": [
    {
     "data": {
      "image/png": "[encoded data removed]",
      "text/plain": [
       "<Figure size 216x576 with 1 Axes>"
      ]
     },
     "metadata": {
      "needs_background": "light"
     },
     "output_type": "display_data"
    }
   ],
   "source": [
    "# Plot variable importance\n",
    "importances = XGB_Best.feature_importances_\n",
    "indices = np.argsort(importances)[::-1] \n",
    "\n",
    "f, ax = plt.subplots(figsize=(3, 8))\n",
    "plt.title(\"Variable Importance - XGBoosting\")\n",
    "sns.set_color_codes(\"pastel\")\n",
    "sns.barplot(y=[X_train.iloc[:, :-1].columns[i] for i in indices], x=importances[indices], \n",
    "            label=\"Total\", color=\"b\")\n",
    "ax.set(ylabel=\"Variable\",\n",
    "       xlabel=\"Variable Importance (Gini)\")\n",
    "sns.despine(left=True, bottom=True)"
   ]
  },
  {
   "cell_type": "code",
   "execution_count": 82,
   "metadata": {
    "scrolled": true
   },
   "outputs": [
    {
     "data": {
      "image/png": "[encoded data removed]",
      "text/plain": [
       "<Figure size 432x288 with 1 Axes>"
      ]
     },
     "metadata": {
      "needs_background": "light"
     },
     "output_type": "display_data"
    }
   ],
   "source": [
    "# Calculate probability\n",
    "probTest = XGB_Best.predict_proba(X_valid)\n",
    "probTest = probTest[:, 1]\n",
    "\n",
    "# Calculate the ROC curve points\n",
    "fpr, tpr, thresholds = roc_curve(y_valid, \n",
    "                                 probTest)\n",
    "\n",
    "# Save the AUC in a variable to display it. Round it first\n",
    "auc = np.round(roc_auc_score(y_true = y_valid, \n",
    "                             y_score = probTest),\n",
    "               decimals = 3)\n",
    "\n",
    "# Create and show AUC plot\n",
    "plt.plot(fpr,tpr,label=\"AUC - XGBoosting = \" + str(auc))\n",
    "plt.legend(loc=4)\n",
    "plt.show()"
   ]
  },
  {
   "cell_type": "code",
   "execution_count": 83,
   "metadata": {},
   "outputs": [
    {
     "data": {
      "text/plain": [
       "0.8790280889195243"
      ]
     },
     "execution_count": 83,
     "metadata": {},
     "output_type": "execute_result"
    }
   ],
   "source": [
    "# make prediction \n",
    "preds = XGB_Best.predict(X_valid) \n",
    "\n",
    "# check performance\n",
    "accuracy_score(preds,y_valid)"
   ]
  },
  {
   "cell_type": "code",
   "execution_count": 84,
   "metadata": {},
   "outputs": [],
   "source": [
    "# Apply the model to the test set.\n",
    "rf_pred_class_test = XGB_Best.predict(X_valid)\n",
    "rf_probs_test = XGB_Best.predict_proba(X_valid)"
   ]
  },
  {
   "cell_type": "code",
   "execution_count": 115,
   "metadata": {},
   "outputs": [],
   "source": [
    "# Get the predicted probabilities for each class\n",
    "probs = XGB_Best.predict_proba(X_valid)\n",
    "\n",
    "# Apply a custom threshold to the probabilities\n",
    "threshold = 0.53\n",
    "rf_pred_class_test = (probs[:, 1] > threshold).astype(int)"
   ]
  },
  {
   "cell_type": "code",
   "execution_count": 116,
   "metadata": {},
   "outputs": [
    {
     "data": {
      "image/png": "[encoded data removed]",
      "text/plain": [
       "<Figure size 720x504 with 2 Axes>"
      ]
     },
     "metadata": {
      "needs_background": "light"
     },
     "output_type": "display_data"
    }
   ],
   "source": [
    "confusion_matrix_rf = confusion_matrix(y_true = y_valid, \n",
    "                    y_pred = rf_pred_class_test)\n",
    "\n",
    "# Turn matrix to percentages\n",
    "confusion_matrix_rf = confusion_matrix_rf.astype('float') / confusion_matrix_rf.sum(axis=1)[:, np.newaxis]\n",
    "\n",
    "# Turn to dataframe\n",
    "df_cm = pd.DataFrame(\n",
    "        confusion_matrix_rf, index=['canceled', 'not canceled'], columns=['canceled', 'not canceled'], \n",
    ")\n",
    "\n",
    "# Parameters of the image\n",
    "figsize = (10,7)\n",
    "fontsize=14\n",
    "\n",
    "# Create image\n",
    "fig = plt.figure(figsize=figsize)\n",
    "heatmap = sns.heatmap(df_cm, annot=True, fmt='.2f')\n",
    "\n",
    "heatmap.yaxis.set_ticklabels(heatmap.yaxis.get_ticklabels(), rotation=0, \n",
    "                             ha='right', fontsize=fontsize)\n",
    "heatmap.xaxis.set_ticklabels(heatmap.xaxis.get_ticklabels(), rotation=45,\n",
    "                             ha='right', fontsize=fontsize)\n",
    "\n",
    "# Add labels\n",
    "plt.ylabel('True Label')\n",
    "plt.xlabel('Predicted Label')\n",
    "\n",
    "# show the plot\n",
    "plt.show()\n",
    "\n",
    "# we have to focus on the false pos = which is.... \"\"\"\"\"\" canceled predicted, but didnt actually canceled \"\"\"\"\"\"\n",
    "# we cant predict a cancelation when its not actually one, as this affects the company in a detrimental manner\n",
    "#therefpre; predict=cancel, true=not cancel"
   ]
  },
  {
   "cell_type": "code",
   "execution_count": 125,
   "metadata": {},
   "outputs": [],
   "source": [
    "# Get the predicted probabilities for each class\n",
    "probs = XGB_Best.predict_proba(X_valid)\n",
    "\n",
    "# Apply a custom threshold to the probabilities\n",
    "threshold = 0.53\n",
    "y_pred = (probs[:, 1] > threshold).astype(int)"
   ]
  },
  {
   "cell_type": "code",
   "execution_count": 127,
   "metadata": {},
   "outputs": [
    {
     "name": "stdout",
     "output_type": "stream",
     "text": [
      "Precision: 0.8128\n",
      "Recall: 0.8367\n",
      "F1 Score: 0.8245\n"
     ]
    }
   ],
   "source": [
    "# obtain the predicted labels from XGBoost model\n",
    "\n",
    "# calculate precision, recall, and F1 score\n",
    "precision = precision_score(y_valid, y_pred)\n",
    "recall = recall_score(y_valid, y_pred)\n",
    "f1 = f1_score(y_valid, y_pred)\n",
    "\n",
    "# print the results\n",
    "print(\"Precision: {:.4f}\".format(precision))\n",
    "print(\"Recall: {:.4f}\".format(recall))\n",
    "print(\"F1 Score: {:.4f}\".format(f1))"
   ]
  },
  {
   "cell_type": "code",
   "execution_count": null,
   "metadata": {},
   "outputs": [],
   "source": [
    "# At the end, we must use the true testing dataset to generate our predictions\n",
    "\n",
    "# the code below is for using the provided testing data to generate scores to be compared with the true values"
   ]
  },
  {
   "cell_type": "code",
   "execution_count": 190,
   "metadata": {},
   "outputs": [],
   "source": [
    "df_test = pd.read_csv(\"DataQuest Dataset - test_data.csv\")\n",
    "df_test.head()\n",
    "\n",
    "df_test = df_test.drop(df_test[df_test['MealPlan'] == 'Meal Plan 3'].index)\n",
    "\n",
    "df_test = df_test[df_test['AvgRoomPrice'] <= 500]\n",
    "\n",
    "df_test = df_test.drop('BookingID', axis=1)\n",
    "\n",
    "df_test = df_test.drop('RoomType', axis=1)\n",
    "\n",
    "# Create an instance of the OneHotEncoder class\n",
    "encoder = OneHotEncoder()\n",
    "\n",
    "cat_vars = ['MealPlan', 'MarketSegment']\n",
    "\n",
    "# Specify which columns to encode and fit the encoder to the data\n",
    "encoder.fit(df_test[cat_vars])\n",
    "\n",
    "encoded_vars = encoder.transform(df_test[cat_vars]).toarray()\n",
    "\n",
    "encoded = pd.DataFrame(encoded_vars,columns=encoder.get_feature_names(cat_vars))\n",
    "\n",
    "# fix the indices\n",
    "df_test = df_test.reset_index(drop=True)\n",
    "encoded = encoded.reset_index(drop=True)\n",
    "df_test = pd.concat([df_test, encoded], axis =1)\n",
    "\n",
    "df_test = df_test.drop('MealPlan_Not Selected', axis=1)\n",
    "df_test = df_test.drop('MarketSegment_Online', axis=1)\n",
    "\n",
    "df_test = df_test.drop('MealPlan', axis=1)\n",
    "df_test = df_test.drop('MarketSegment', axis=1)\n",
    "\n",
    "#DROP THE RESPONSE###\n",
    "df_test = df_test.drop('BookingStatus', axis=1)"
   ]
  },
  {
   "cell_type": "code",
   "execution_count": 191,
   "metadata": {},
   "outputs": [],
   "source": [
    "# Get the predicted probabilities for each class on TEST DATA\n",
    "probs = XGB_Best.predict_proba(df_test)\n",
    "\n",
    "# Apply a custom threshold to the probabilities\n",
    "threshold = 0.53\n",
    "y_pred = (probs[:, 1] > threshold).astype(int)"
   ]
  },
  {
   "cell_type": "code",
   "execution_count": 192,
   "metadata": {},
   "outputs": [
    {
     "name": "stdout",
     "output_type": "stream",
     "text": [
      "[1 0 1 ... 0 0 1]\n"
     ]
    },
    {
     "data": {
      "text/plain": [
       "(7255,)"
      ]
     },
     "execution_count": 192,
     "metadata": {},
     "output_type": "execute_result"
    }
   ],
   "source": [
    "print(y_pred)\n",
    "y_pred.shape"
   ]
  },
  {
   "cell_type": "code",
   "execution_count": 193,
   "metadata": {},
   "outputs": [],
   "source": [
    "# add the y\n",
    "df_test['BookingStatus'] = y_pred"
   ]
  },
  {
   "cell_type": "code",
   "execution_count": 194,
   "metadata": {},
   "outputs": [
    {
     "data": {
      "text/html": [
       "<div>\n",
       "<style scoped>\n",
       "    .dataframe tbody tr th:only-of-type {\n",
       "        vertical-align: middle;\n",
       "    }\n",
       "\n",
       "    .dataframe tbody tr th {\n",
       "        vertical-align: top;\n",
       "    }\n",
       "\n",
       "    .dataframe thead th {\n",
       "        text-align: right;\n",
       "    }\n",
       "</style>\n",
       "<table border=\"1\" class=\"dataframe\">\n",
       "  <thead>\n",
       "    <tr style=\"text-align: right;\">\n",
       "      <th></th>\n",
       "      <th>LeadTime</th>\n",
       "      <th>ArrivalYear</th>\n",
       "      <th>ArrivalMonth</th>\n",
       "      <th>ArrivalDate</th>\n",
       "      <th>NumWeekendNights</th>\n",
       "      <th>NumWeekNights</th>\n",
       "      <th>Parking</th>\n",
       "      <th>NumAdults</th>\n",
       "      <th>NumChildren</th>\n",
       "      <th>RepeatedGuest</th>\n",
       "      <th>...</th>\n",
       "      <th>NumPreviousNonCancelled</th>\n",
       "      <th>AvgRoomPrice</th>\n",
       "      <th>SpecialRequests</th>\n",
       "      <th>MealPlan_Meal Plan 1</th>\n",
       "      <th>MealPlan_Meal Plan 2</th>\n",
       "      <th>MarketSegment_Aviation</th>\n",
       "      <th>MarketSegment_Complementary</th>\n",
       "      <th>MarketSegment_Corporate</th>\n",
       "      <th>MarketSegment_Offline</th>\n",
       "      <th>BookingStatus</th>\n",
       "    </tr>\n",
       "  </thead>\n",
       "  <tbody>\n",
       "    <tr>\n",
       "      <th>0</th>\n",
       "      <td>211</td>\n",
       "      <td>2018</td>\n",
       "      <td>5</td>\n",
       "      <td>20</td>\n",
       "      <td>0</td>\n",
       "      <td>2</td>\n",
       "      <td>0</td>\n",
       "      <td>2</td>\n",
       "      <td>0</td>\n",
       "      <td>0</td>\n",
       "      <td>...</td>\n",
       "      <td>0</td>\n",
       "      <td>100.0</td>\n",
       "      <td>0</td>\n",
       "      <td>1.0</td>\n",
       "      <td>0.0</td>\n",
       "      <td>0.0</td>\n",
       "      <td>0.0</td>\n",
       "      <td>0.0</td>\n",
       "      <td>0.0</td>\n",
       "      <td>1</td>\n",
       "    </tr>\n",
       "    <tr>\n",
       "      <th>1</th>\n",
       "      <td>121</td>\n",
       "      <td>2018</td>\n",
       "      <td>7</td>\n",
       "      <td>6</td>\n",
       "      <td>0</td>\n",
       "      <td>4</td>\n",
       "      <td>0</td>\n",
       "      <td>3</td>\n",
       "      <td>0</td>\n",
       "      <td>0</td>\n",
       "      <td>...</td>\n",
       "      <td>0</td>\n",
       "      <td>96.9</td>\n",
       "      <td>1</td>\n",
       "      <td>1.0</td>\n",
       "      <td>0.0</td>\n",
       "      <td>0.0</td>\n",
       "      <td>0.0</td>\n",
       "      <td>0.0</td>\n",
       "      <td>1.0</td>\n",
       "      <td>0</td>\n",
       "    </tr>\n",
       "    <tr>\n",
       "      <th>2</th>\n",
       "      <td>30</td>\n",
       "      <td>2018</td>\n",
       "      <td>11</td>\n",
       "      <td>26</td>\n",
       "      <td>2</td>\n",
       "      <td>1</td>\n",
       "      <td>0</td>\n",
       "      <td>2</td>\n",
       "      <td>0</td>\n",
       "      <td>0</td>\n",
       "      <td>...</td>\n",
       "      <td>0</td>\n",
       "      <td>88.0</td>\n",
       "      <td>0</td>\n",
       "      <td>0.0</td>\n",
       "      <td>0.0</td>\n",
       "      <td>0.0</td>\n",
       "      <td>0.0</td>\n",
       "      <td>0.0</td>\n",
       "      <td>0.0</td>\n",
       "      <td>1</td>\n",
       "    </tr>\n",
       "    <tr>\n",
       "      <th>3</th>\n",
       "      <td>256</td>\n",
       "      <td>2018</td>\n",
       "      <td>6</td>\n",
       "      <td>15</td>\n",
       "      <td>0</td>\n",
       "      <td>2</td>\n",
       "      <td>0</td>\n",
       "      <td>2</td>\n",
       "      <td>0</td>\n",
       "      <td>0</td>\n",
       "      <td>...</td>\n",
       "      <td>0</td>\n",
       "      <td>115.0</td>\n",
       "      <td>1</td>\n",
       "      <td>0.0</td>\n",
       "      <td>1.0</td>\n",
       "      <td>0.0</td>\n",
       "      <td>0.0</td>\n",
       "      <td>0.0</td>\n",
       "      <td>0.0</td>\n",
       "      <td>1</td>\n",
       "    </tr>\n",
       "    <tr>\n",
       "      <th>4</th>\n",
       "      <td>122</td>\n",
       "      <td>2018</td>\n",
       "      <td>11</td>\n",
       "      <td>25</td>\n",
       "      <td>0</td>\n",
       "      <td>1</td>\n",
       "      <td>0</td>\n",
       "      <td>1</td>\n",
       "      <td>0</td>\n",
       "      <td>0</td>\n",
       "      <td>...</td>\n",
       "      <td>0</td>\n",
       "      <td>67.0</td>\n",
       "      <td>0</td>\n",
       "      <td>1.0</td>\n",
       "      <td>0.0</td>\n",
       "      <td>0.0</td>\n",
       "      <td>0.0</td>\n",
       "      <td>1.0</td>\n",
       "      <td>0.0</td>\n",
       "      <td>0</td>\n",
       "    </tr>\n",
       "  </tbody>\n",
       "</table>\n",
       "<p>5 rows × 21 columns</p>\n",
       "</div>"
      ],
      "text/plain": [
       "   LeadTime  ArrivalYear  ArrivalMonth  ArrivalDate  NumWeekendNights  \\\n",
       "0       211         2018             5           20                 0   \n",
       "1       121         2018             7            6                 0   \n",
       "2        30         2018            11           26                 2   \n",
       "3       256         2018             6           15                 0   \n",
       "4       122         2018            11           25                 0   \n",
       "\n",
       "   NumWeekNights  Parking  NumAdults  NumChildren  RepeatedGuest  ...  \\\n",
       "0              2        0          2            0              0  ...   \n",
       "1              4        0          3            0              0  ...   \n",
       "2              1        0          2            0              0  ...   \n",
       "3              2        0          2            0              0  ...   \n",
       "4              1        0          1            0              0  ...   \n",
       "\n",
       "   NumPreviousNonCancelled  AvgRoomPrice  SpecialRequests  \\\n",
       "0                        0         100.0                0   \n",
       "1                        0          96.9                1   \n",
       "2                        0          88.0                0   \n",
       "3                        0         115.0                1   \n",
       "4                        0          67.0                0   \n",
       "\n",
       "   MealPlan_Meal Plan 1  MealPlan_Meal Plan 2  MarketSegment_Aviation  \\\n",
       "0                   1.0                   0.0                     0.0   \n",
       "1                   1.0                   0.0                     0.0   \n",
       "2                   0.0                   0.0                     0.0   \n",
       "3                   0.0                   1.0                     0.0   \n",
       "4                   1.0                   0.0                     0.0   \n",
       "\n",
       "   MarketSegment_Complementary  MarketSegment_Corporate  \\\n",
       "0                          0.0                      0.0   \n",
       "1                          0.0                      0.0   \n",
       "2                          0.0                      0.0   \n",
       "3                          0.0                      0.0   \n",
       "4                          0.0                      1.0   \n",
       "\n",
       "   MarketSegment_Offline  BookingStatus  \n",
       "0                    0.0              1  \n",
       "1                    1.0              0  \n",
       "2                    0.0              1  \n",
       "3                    0.0              1  \n",
       "4                    0.0              0  \n",
       "\n",
       "[5 rows x 21 columns]"
      ]
     },
     "execution_count": 194,
     "metadata": {},
     "output_type": "execute_result"
    }
   ],
   "source": [
    "df_test.head()"
   ]
  },
  {
   "cell_type": "code",
   "execution_count": 195,
   "metadata": {},
   "outputs": [],
   "source": [
    "mapping = {0: 'Not Canceled', 1: 'Canceled'}\n",
    "\n",
    "# make the 0's and 1's back into canceled and not canceled \n",
    "df_test['BookingStatus'] = df_test['BookingStatus'].map(mapping)"
   ]
  },
  {
   "cell_type": "code",
   "execution_count": 196,
   "metadata": {},
   "outputs": [
    {
     "data": {
      "text/html": [
       "<div>\n",
       "<style scoped>\n",
       "    .dataframe tbody tr th:only-of-type {\n",
       "        vertical-align: middle;\n",
       "    }\n",
       "\n",
       "    .dataframe tbody tr th {\n",
       "        vertical-align: top;\n",
       "    }\n",
       "\n",
       "    .dataframe thead th {\n",
       "        text-align: right;\n",
       "    }\n",
       "</style>\n",
       "<table border=\"1\" class=\"dataframe\">\n",
       "  <thead>\n",
       "    <tr style=\"text-align: right;\">\n",
       "      <th></th>\n",
       "      <th>LeadTime</th>\n",
       "      <th>ArrivalYear</th>\n",
       "      <th>ArrivalMonth</th>\n",
       "      <th>ArrivalDate</th>\n",
       "      <th>NumWeekendNights</th>\n",
       "      <th>NumWeekNights</th>\n",
       "      <th>Parking</th>\n",
       "      <th>NumAdults</th>\n",
       "      <th>NumChildren</th>\n",
       "      <th>RepeatedGuest</th>\n",
       "      <th>...</th>\n",
       "      <th>NumPreviousNonCancelled</th>\n",
       "      <th>AvgRoomPrice</th>\n",
       "      <th>SpecialRequests</th>\n",
       "      <th>MealPlan_Meal Plan 1</th>\n",
       "      <th>MealPlan_Meal Plan 2</th>\n",
       "      <th>MarketSegment_Aviation</th>\n",
       "      <th>MarketSegment_Complementary</th>\n",
       "      <th>MarketSegment_Corporate</th>\n",
       "      <th>MarketSegment_Offline</th>\n",
       "      <th>BookingStatus</th>\n",
       "    </tr>\n",
       "  </thead>\n",
       "  <tbody>\n",
       "    <tr>\n",
       "      <th>0</th>\n",
       "      <td>211</td>\n",
       "      <td>2018</td>\n",
       "      <td>5</td>\n",
       "      <td>20</td>\n",
       "      <td>0</td>\n",
       "      <td>2</td>\n",
       "      <td>0</td>\n",
       "      <td>2</td>\n",
       "      <td>0</td>\n",
       "      <td>0</td>\n",
       "      <td>...</td>\n",
       "      <td>0</td>\n",
       "      <td>100.0</td>\n",
       "      <td>0</td>\n",
       "      <td>1.0</td>\n",
       "      <td>0.0</td>\n",
       "      <td>0.0</td>\n",
       "      <td>0.0</td>\n",
       "      <td>0.0</td>\n",
       "      <td>0.0</td>\n",
       "      <td>Canceled</td>\n",
       "    </tr>\n",
       "    <tr>\n",
       "      <th>1</th>\n",
       "      <td>121</td>\n",
       "      <td>2018</td>\n",
       "      <td>7</td>\n",
       "      <td>6</td>\n",
       "      <td>0</td>\n",
       "      <td>4</td>\n",
       "      <td>0</td>\n",
       "      <td>3</td>\n",
       "      <td>0</td>\n",
       "      <td>0</td>\n",
       "      <td>...</td>\n",
       "      <td>0</td>\n",
       "      <td>96.9</td>\n",
       "      <td>1</td>\n",
       "      <td>1.0</td>\n",
       "      <td>0.0</td>\n",
       "      <td>0.0</td>\n",
       "      <td>0.0</td>\n",
       "      <td>0.0</td>\n",
       "      <td>1.0</td>\n",
       "      <td>Not Canceled</td>\n",
       "    </tr>\n",
       "    <tr>\n",
       "      <th>2</th>\n",
       "      <td>30</td>\n",
       "      <td>2018</td>\n",
       "      <td>11</td>\n",
       "      <td>26</td>\n",
       "      <td>2</td>\n",
       "      <td>1</td>\n",
       "      <td>0</td>\n",
       "      <td>2</td>\n",
       "      <td>0</td>\n",
       "      <td>0</td>\n",
       "      <td>...</td>\n",
       "      <td>0</td>\n",
       "      <td>88.0</td>\n",
       "      <td>0</td>\n",
       "      <td>0.0</td>\n",
       "      <td>0.0</td>\n",
       "      <td>0.0</td>\n",
       "      <td>0.0</td>\n",
       "      <td>0.0</td>\n",
       "      <td>0.0</td>\n",
       "      <td>Canceled</td>\n",
       "    </tr>\n",
       "    <tr>\n",
       "      <th>3</th>\n",
       "      <td>256</td>\n",
       "      <td>2018</td>\n",
       "      <td>6</td>\n",
       "      <td>15</td>\n",
       "      <td>0</td>\n",
       "      <td>2</td>\n",
       "      <td>0</td>\n",
       "      <td>2</td>\n",
       "      <td>0</td>\n",
       "      <td>0</td>\n",
       "      <td>...</td>\n",
       "      <td>0</td>\n",
       "      <td>115.0</td>\n",
       "      <td>1</td>\n",
       "      <td>0.0</td>\n",
       "      <td>1.0</td>\n",
       "      <td>0.0</td>\n",
       "      <td>0.0</td>\n",
       "      <td>0.0</td>\n",
       "      <td>0.0</td>\n",
       "      <td>Canceled</td>\n",
       "    </tr>\n",
       "    <tr>\n",
       "      <th>4</th>\n",
       "      <td>122</td>\n",
       "      <td>2018</td>\n",
       "      <td>11</td>\n",
       "      <td>25</td>\n",
       "      <td>0</td>\n",
       "      <td>1</td>\n",
       "      <td>0</td>\n",
       "      <td>1</td>\n",
       "      <td>0</td>\n",
       "      <td>0</td>\n",
       "      <td>...</td>\n",
       "      <td>0</td>\n",
       "      <td>67.0</td>\n",
       "      <td>0</td>\n",
       "      <td>1.0</td>\n",
       "      <td>0.0</td>\n",
       "      <td>0.0</td>\n",
       "      <td>0.0</td>\n",
       "      <td>1.0</td>\n",
       "      <td>0.0</td>\n",
       "      <td>Not Canceled</td>\n",
       "    </tr>\n",
       "  </tbody>\n",
       "</table>\n",
       "<p>5 rows × 21 columns</p>\n",
       "</div>"
      ],
      "text/plain": [
       "   LeadTime  ArrivalYear  ArrivalMonth  ArrivalDate  NumWeekendNights  \\\n",
       "0       211         2018             5           20                 0   \n",
       "1       121         2018             7            6                 0   \n",
       "2        30         2018            11           26                 2   \n",
       "3       256         2018             6           15                 0   \n",
       "4       122         2018            11           25                 0   \n",
       "\n",
       "   NumWeekNights  Parking  NumAdults  NumChildren  RepeatedGuest  ...  \\\n",
       "0              2        0          2            0              0  ...   \n",
       "1              4        0          3            0              0  ...   \n",
       "2              1        0          2            0              0  ...   \n",
       "3              2        0          2            0              0  ...   \n",
       "4              1        0          1            0              0  ...   \n",
       "\n",
       "   NumPreviousNonCancelled  AvgRoomPrice  SpecialRequests  \\\n",
       "0                        0         100.0                0   \n",
       "1                        0          96.9                1   \n",
       "2                        0          88.0                0   \n",
       "3                        0         115.0                1   \n",
       "4                        0          67.0                0   \n",
       "\n",
       "   MealPlan_Meal Plan 1  MealPlan_Meal Plan 2  MarketSegment_Aviation  \\\n",
       "0                   1.0                   0.0                     0.0   \n",
       "1                   1.0                   0.0                     0.0   \n",
       "2                   0.0                   0.0                     0.0   \n",
       "3                   0.0                   1.0                     0.0   \n",
       "4                   1.0                   0.0                     0.0   \n",
       "\n",
       "   MarketSegment_Complementary  MarketSegment_Corporate  \\\n",
       "0                          0.0                      0.0   \n",
       "1                          0.0                      0.0   \n",
       "2                          0.0                      0.0   \n",
       "3                          0.0                      0.0   \n",
       "4                          0.0                      1.0   \n",
       "\n",
       "   MarketSegment_Offline  BookingStatus  \n",
       "0                    0.0       Canceled  \n",
       "1                    1.0   Not Canceled  \n",
       "2                    0.0       Canceled  \n",
       "3                    0.0       Canceled  \n",
       "4                    0.0   Not Canceled  \n",
       "\n",
       "[5 rows x 21 columns]"
      ]
     },
     "execution_count": 196,
     "metadata": {},
     "output_type": "execute_result"
    }
   ],
   "source": [
    "# view changes\n",
    "df_test.head()"
   ]
  },
  {
   "cell_type": "code",
   "execution_count": 197,
   "metadata": {},
   "outputs": [],
   "source": [
    "# export this test dataset with our predictions\n",
    "df_test.to_csv('team_20.csv', index=False)"
   ]
  },
  {
   "cell_type": "code",
   "execution_count": null,
   "metadata": {},
   "outputs": [],
   "source": []
  }
 ],
 "metadata": {
  "kernelspec": {
   "display_name": "Python 3",
   "language": "python",
   "name": "python3"
  },
  "language_info": {
   "codemirror_mode": {
    "name": "ipython",
    "version": 3
   },
   "file_extension": ".py",
   "mimetype": "text/x-python",
   "name": "python",
   "nbconvert_exporter": "python",
   "pygments_lexer": "ipython3",
   "version": "3.8.5"
  }
 },
 "nbformat": 4,
 "nbformat_minor": 4
}
